{
  "nbformat": 4,
  "nbformat_minor": 0,
  "metadata": {
    "colab": {
      "provenance": [],
      "authorship_tag": "ABX9TyMxGri4Wy74wchDo5B7E/i7",
      "include_colab_link": true
    },
    "kernelspec": {
      "name": "python3",
      "display_name": "Python 3"
    },
    "language_info": {
      "name": "python"
    }
  },
  "cells": [
    {
      "cell_type": "markdown",
      "metadata": {
        "id": "view-in-github",
        "colab_type": "text"
      },
      "source": [
        "<a href=\"https://colab.research.google.com/github/Manish-2708/pyt_man/blob/main/confidence_interval.ipynb\" target=\"_parent\"><img src=\"https://colab.research.google.com/assets/colab-badge.svg\" alt=\"Open In Colab\"/></a>"
      ]
    },
    {
      "cell_type": "code",
      "execution_count": null,
      "metadata": {
        "id": "7MIFR_WyGl2l"
      },
      "outputs": [],
      "source": [
        "from scipy import stats\n",
        "import pandas as pd\n",
        "import numpy as np"
      ]
    },
    {
      "cell_type": "code",
      "source": [
        "glaxo_df=pd.read_csv('glaxo_df.csv')"
      ],
      "metadata": {
        "id": "Vt-leGryHfwd"
      },
      "execution_count": 12,
      "outputs": []
    },
    {
      "cell_type": "code",
      "source": [
        "glaxo_df['gain'] = glaxo_df.Close.pct_change(periods = 1)"
      ],
      "metadata": {
        "id": "ghfSGNqpOxqE"
      },
      "execution_count": 14,
      "outputs": []
    },
    {
      "cell_type": "code",
      "source": [
        "glaxo_df_ci = stats.norm.interval(0.95 ,\n",
        "loc = glaxo_df.gain.mean(),\n",
        "scale = glaxo_df.gain.std())\n",
        "print('Gain at 95% confidence interval is :',np.round(glaxo_df_ci,4))"
      ],
      "metadata": {
        "id": "s41OfNXrIa7j",
        "colab": {
          "base_uri": "https://localhost:8080/"
        },
        "outputId": "b8fd1dbd-e68f-4647-beac-7b21f4ce2a79"
      },
      "execution_count": 15,
      "outputs": [
        {
          "output_type": "stream",
          "name": "stdout",
          "text": [
            "Gain at 95% confidence interval is : [-0.0258  0.0266]\n"
          ]
        }
      ]
    },
    {
      "cell_type": "code",
      "source": [
        "beml_df=pd.read_csv('beml_df.csv')"
      ],
      "metadata": {
        "id": "hC47eX_GKdGd"
      },
      "execution_count": 16,
      "outputs": []
    },
    {
      "cell_type": "code",
      "source": [
        "beml_df['gain'] = beml_df.Close.pct_change(periods = 1)"
      ],
      "metadata": {
        "id": "U19OtaD6PIh8"
      },
      "execution_count": 17,
      "outputs": []
    },
    {
      "cell_type": "code",
      "source": [
        "beml_df_ci = stats.norm.interval(0.95,\n",
        "loc=beml_df.gain.mean(),\n",
        "scale=beml_df.gain.std())\n",
        "print('Gain at 95% confidence interval is :',np.round(beml_df_ci,4))"
      ],
      "metadata": {
        "id": "083jbzp_KmLi",
        "colab": {
          "base_uri": "https://localhost:8080/"
        },
        "outputId": "e1b912c9-9c9f-4a61-c349-81675ccee64b"
      },
      "execution_count": 19,
      "outputs": [
        {
          "output_type": "stream",
          "name": "stdout",
          "text": [
            "Gain at 95% confidence interval is : [-0.0515  0.0521]\n"
          ]
        }
      ]
    },
    {
      "cell_type": "code",
      "source": [],
      "metadata": {
        "id": "3oqcAJGSPPWB"
      },
      "execution_count": null,
      "outputs": []
    },
    {
      "cell_type": "code",
      "source": [],
      "metadata": {
        "id": "I3GOxoZKLNeL"
      },
      "execution_count": null,
      "outputs": []
    },
    {
      "cell_type": "code",
      "source": [],
      "metadata": {
        "id": "4_5GzcmhH8uQ"
      },
      "execution_count": null,
      "outputs": []
    }
  ]
}