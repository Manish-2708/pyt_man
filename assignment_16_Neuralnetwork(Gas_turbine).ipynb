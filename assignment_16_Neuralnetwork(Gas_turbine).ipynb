{
  "cells": [
    {
      "cell_type": "markdown",
      "metadata": {
        "id": "view-in-github",
        "colab_type": "text"
      },
      "source": [
        "<a href=\"https://colab.research.google.com/github/Manish-2708/pyt_man/blob/main/assignment_16_Neuralnetwork(Gas_turbine).ipynb\" target=\"_parent\"><img src=\"https://colab.research.google.com/assets/colab-badge.svg\" alt=\"Open In Colab\"/></a>"
      ]
    },
    {
      "cell_type": "code",
      "execution_count": 59,
      "metadata": {
        "id": "AB0lLpaYSaSh"
      },
      "outputs": [],
      "source": [
        "#import  libraries\n",
        "import numpy as np\n",
        "import pandas as pd\n",
        "import seaborn as sns\n",
        "import matplotlib.pyplot as plt\n",
        "from collections import Counter\n",
        "from sklearn.metrics import confusion_matrix\n",
        "from sklearn.preprocessing import LabelEncoder\n",
        "from sklearn.preprocessing import StandardScaler\n",
        "from sklearn.model_selection import train_test_split\n",
        "from sklearn.metrics import roc_curve, roc_auc_score\n",
        "from sklearn.model_selection import GridSearchCV, KFold\n",
        "from sklearn.feature_selection import SelectKBest, chi2\n",
        "from sklearn.metrics import accuracy_score, confusion_matrix, classification_report\n",
        "import keras\n",
        "from keras.models import Sequential\n",
        "from keras.layers import Dense\n",
        "from keras.wrappers.scikit_learn import KerasClassifier\n",
        "from keras.wrappers.scikit_learn import KerasClassifier, KerasRegressor\n",
        "from keras.optimizers import Adam\n",
        "from keras.layers import Dropout"
      ]
    },
    {
      "cell_type": "code",
      "execution_count": 60,
      "metadata": {
        "colab": {
          "base_uri": "https://localhost:8080/",
          "height": 424
        },
        "id": "o6DQ19HFSeqh",
        "outputId": "18b088bc-5d6d-40f1-bb80-063f87f9781b"
      },
      "outputs": [
        {
          "output_type": "execute_result",
          "data": {
            "text/plain": [
              "           AT      AP      AH    AFDP    GTEP     TIT     TAT     TEY     CDP  \\\n",
              "0      6.8594  1007.9  96.799  3.5000  19.663  1059.2  550.00  114.70  10.605   \n",
              "1      6.7850  1008.4  97.118  3.4998  19.728  1059.3  550.00  114.72  10.598   \n",
              "2      6.8977  1008.8  95.939  3.4824  19.779  1059.4  549.87  114.71  10.601   \n",
              "3      7.0569  1009.2  95.249  3.4805  19.792  1059.6  549.99  114.72  10.606   \n",
              "4      7.3978  1009.7  95.150  3.4976  19.765  1059.7  549.98  114.72  10.612   \n",
              "...       ...     ...     ...     ...     ...     ...     ...     ...     ...   \n",
              "15034  9.0301  1005.6  98.460  3.5421  19.164  1049.7  546.21  111.61  10.400   \n",
              "15035  7.8879  1005.9  99.093  3.5059  19.414  1046.3  543.22  111.78  10.433   \n",
              "15036  7.2647  1006.3  99.496  3.4770  19.530  1037.7  537.32  110.19  10.483   \n",
              "15037  7.0060  1006.8  99.008  3.4486  19.377  1043.2  541.24  110.74  10.533   \n",
              "15038  6.9279  1007.2  97.533  3.4275  19.306  1049.9  545.85  111.58  10.583   \n",
              "\n",
              "           CO     NOX  \n",
              "0      3.1547  82.722  \n",
              "1      3.2363  82.776  \n",
              "2      3.2012  82.468  \n",
              "3      3.1923  82.670  \n",
              "4      3.2484  82.311  \n",
              "...       ...     ...  \n",
              "15034  4.5186  79.559  \n",
              "15035  4.8470  79.917  \n",
              "15036  7.9632  90.912  \n",
              "15037  6.2494  93.227  \n",
              "15038  4.9816  92.498  \n",
              "\n",
              "[15039 rows x 11 columns]"
            ],
            "text/html": [
              "\n",
              "  <div id=\"df-023e46a6-ddbd-4af6-bedd-88500cfd1863\">\n",
              "    <div class=\"colab-df-container\">\n",
              "      <div>\n",
              "<style scoped>\n",
              "    .dataframe tbody tr th:only-of-type {\n",
              "        vertical-align: middle;\n",
              "    }\n",
              "\n",
              "    .dataframe tbody tr th {\n",
              "        vertical-align: top;\n",
              "    }\n",
              "\n",
              "    .dataframe thead th {\n",
              "        text-align: right;\n",
              "    }\n",
              "</style>\n",
              "<table border=\"1\" class=\"dataframe\">\n",
              "  <thead>\n",
              "    <tr style=\"text-align: right;\">\n",
              "      <th></th>\n",
              "      <th>AT</th>\n",
              "      <th>AP</th>\n",
              "      <th>AH</th>\n",
              "      <th>AFDP</th>\n",
              "      <th>GTEP</th>\n",
              "      <th>TIT</th>\n",
              "      <th>TAT</th>\n",
              "      <th>TEY</th>\n",
              "      <th>CDP</th>\n",
              "      <th>CO</th>\n",
              "      <th>NOX</th>\n",
              "    </tr>\n",
              "  </thead>\n",
              "  <tbody>\n",
              "    <tr>\n",
              "      <th>0</th>\n",
              "      <td>6.8594</td>\n",
              "      <td>1007.9</td>\n",
              "      <td>96.799</td>\n",
              "      <td>3.5000</td>\n",
              "      <td>19.663</td>\n",
              "      <td>1059.2</td>\n",
              "      <td>550.00</td>\n",
              "      <td>114.70</td>\n",
              "      <td>10.605</td>\n",
              "      <td>3.1547</td>\n",
              "      <td>82.722</td>\n",
              "    </tr>\n",
              "    <tr>\n",
              "      <th>1</th>\n",
              "      <td>6.7850</td>\n",
              "      <td>1008.4</td>\n",
              "      <td>97.118</td>\n",
              "      <td>3.4998</td>\n",
              "      <td>19.728</td>\n",
              "      <td>1059.3</td>\n",
              "      <td>550.00</td>\n",
              "      <td>114.72</td>\n",
              "      <td>10.598</td>\n",
              "      <td>3.2363</td>\n",
              "      <td>82.776</td>\n",
              "    </tr>\n",
              "    <tr>\n",
              "      <th>2</th>\n",
              "      <td>6.8977</td>\n",
              "      <td>1008.8</td>\n",
              "      <td>95.939</td>\n",
              "      <td>3.4824</td>\n",
              "      <td>19.779</td>\n",
              "      <td>1059.4</td>\n",
              "      <td>549.87</td>\n",
              "      <td>114.71</td>\n",
              "      <td>10.601</td>\n",
              "      <td>3.2012</td>\n",
              "      <td>82.468</td>\n",
              "    </tr>\n",
              "    <tr>\n",
              "      <th>3</th>\n",
              "      <td>7.0569</td>\n",
              "      <td>1009.2</td>\n",
              "      <td>95.249</td>\n",
              "      <td>3.4805</td>\n",
              "      <td>19.792</td>\n",
              "      <td>1059.6</td>\n",
              "      <td>549.99</td>\n",
              "      <td>114.72</td>\n",
              "      <td>10.606</td>\n",
              "      <td>3.1923</td>\n",
              "      <td>82.670</td>\n",
              "    </tr>\n",
              "    <tr>\n",
              "      <th>4</th>\n",
              "      <td>7.3978</td>\n",
              "      <td>1009.7</td>\n",
              "      <td>95.150</td>\n",
              "      <td>3.4976</td>\n",
              "      <td>19.765</td>\n",
              "      <td>1059.7</td>\n",
              "      <td>549.98</td>\n",
              "      <td>114.72</td>\n",
              "      <td>10.612</td>\n",
              "      <td>3.2484</td>\n",
              "      <td>82.311</td>\n",
              "    </tr>\n",
              "    <tr>\n",
              "      <th>...</th>\n",
              "      <td>...</td>\n",
              "      <td>...</td>\n",
              "      <td>...</td>\n",
              "      <td>...</td>\n",
              "      <td>...</td>\n",
              "      <td>...</td>\n",
              "      <td>...</td>\n",
              "      <td>...</td>\n",
              "      <td>...</td>\n",
              "      <td>...</td>\n",
              "      <td>...</td>\n",
              "    </tr>\n",
              "    <tr>\n",
              "      <th>15034</th>\n",
              "      <td>9.0301</td>\n",
              "      <td>1005.6</td>\n",
              "      <td>98.460</td>\n",
              "      <td>3.5421</td>\n",
              "      <td>19.164</td>\n",
              "      <td>1049.7</td>\n",
              "      <td>546.21</td>\n",
              "      <td>111.61</td>\n",
              "      <td>10.400</td>\n",
              "      <td>4.5186</td>\n",
              "      <td>79.559</td>\n",
              "    </tr>\n",
              "    <tr>\n",
              "      <th>15035</th>\n",
              "      <td>7.8879</td>\n",
              "      <td>1005.9</td>\n",
              "      <td>99.093</td>\n",
              "      <td>3.5059</td>\n",
              "      <td>19.414</td>\n",
              "      <td>1046.3</td>\n",
              "      <td>543.22</td>\n",
              "      <td>111.78</td>\n",
              "      <td>10.433</td>\n",
              "      <td>4.8470</td>\n",
              "      <td>79.917</td>\n",
              "    </tr>\n",
              "    <tr>\n",
              "      <th>15036</th>\n",
              "      <td>7.2647</td>\n",
              "      <td>1006.3</td>\n",
              "      <td>99.496</td>\n",
              "      <td>3.4770</td>\n",
              "      <td>19.530</td>\n",
              "      <td>1037.7</td>\n",
              "      <td>537.32</td>\n",
              "      <td>110.19</td>\n",
              "      <td>10.483</td>\n",
              "      <td>7.9632</td>\n",
              "      <td>90.912</td>\n",
              "    </tr>\n",
              "    <tr>\n",
              "      <th>15037</th>\n",
              "      <td>7.0060</td>\n",
              "      <td>1006.8</td>\n",
              "      <td>99.008</td>\n",
              "      <td>3.4486</td>\n",
              "      <td>19.377</td>\n",
              "      <td>1043.2</td>\n",
              "      <td>541.24</td>\n",
              "      <td>110.74</td>\n",
              "      <td>10.533</td>\n",
              "      <td>6.2494</td>\n",
              "      <td>93.227</td>\n",
              "    </tr>\n",
              "    <tr>\n",
              "      <th>15038</th>\n",
              "      <td>6.9279</td>\n",
              "      <td>1007.2</td>\n",
              "      <td>97.533</td>\n",
              "      <td>3.4275</td>\n",
              "      <td>19.306</td>\n",
              "      <td>1049.9</td>\n",
              "      <td>545.85</td>\n",
              "      <td>111.58</td>\n",
              "      <td>10.583</td>\n",
              "      <td>4.9816</td>\n",
              "      <td>92.498</td>\n",
              "    </tr>\n",
              "  </tbody>\n",
              "</table>\n",
              "<p>15039 rows × 11 columns</p>\n",
              "</div>\n",
              "      <button class=\"colab-df-convert\" onclick=\"convertToInteractive('df-023e46a6-ddbd-4af6-bedd-88500cfd1863')\"\n",
              "              title=\"Convert this dataframe to an interactive table.\"\n",
              "              style=\"display:none;\">\n",
              "        \n",
              "  <svg xmlns=\"http://www.w3.org/2000/svg\" height=\"24px\"viewBox=\"0 0 24 24\"\n",
              "       width=\"24px\">\n",
              "    <path d=\"M0 0h24v24H0V0z\" fill=\"none\"/>\n",
              "    <path d=\"M18.56 5.44l.94 2.06.94-2.06 2.06-.94-2.06-.94-.94-2.06-.94 2.06-2.06.94zm-11 1L8.5 8.5l.94-2.06 2.06-.94-2.06-.94L8.5 2.5l-.94 2.06-2.06.94zm10 10l.94 2.06.94-2.06 2.06-.94-2.06-.94-.94-2.06-.94 2.06-2.06.94z\"/><path d=\"M17.41 7.96l-1.37-1.37c-.4-.4-.92-.59-1.43-.59-.52 0-1.04.2-1.43.59L10.3 9.45l-7.72 7.72c-.78.78-.78 2.05 0 2.83L4 21.41c.39.39.9.59 1.41.59.51 0 1.02-.2 1.41-.59l7.78-7.78 2.81-2.81c.8-.78.8-2.07 0-2.86zM5.41 20L4 18.59l7.72-7.72 1.47 1.35L5.41 20z\"/>\n",
              "  </svg>\n",
              "      </button>\n",
              "      \n",
              "  <style>\n",
              "    .colab-df-container {\n",
              "      display:flex;\n",
              "      flex-wrap:wrap;\n",
              "      gap: 12px;\n",
              "    }\n",
              "\n",
              "    .colab-df-convert {\n",
              "      background-color: #E8F0FE;\n",
              "      border: none;\n",
              "      border-radius: 50%;\n",
              "      cursor: pointer;\n",
              "      display: none;\n",
              "      fill: #1967D2;\n",
              "      height: 32px;\n",
              "      padding: 0 0 0 0;\n",
              "      width: 32px;\n",
              "    }\n",
              "\n",
              "    .colab-df-convert:hover {\n",
              "      background-color: #E2EBFA;\n",
              "      box-shadow: 0px 1px 2px rgba(60, 64, 67, 0.3), 0px 1px 3px 1px rgba(60, 64, 67, 0.15);\n",
              "      fill: #174EA6;\n",
              "    }\n",
              "\n",
              "    [theme=dark] .colab-df-convert {\n",
              "      background-color: #3B4455;\n",
              "      fill: #D2E3FC;\n",
              "    }\n",
              "\n",
              "    [theme=dark] .colab-df-convert:hover {\n",
              "      background-color: #434B5C;\n",
              "      box-shadow: 0px 1px 3px 1px rgba(0, 0, 0, 0.15);\n",
              "      filter: drop-shadow(0px 1px 2px rgba(0, 0, 0, 0.3));\n",
              "      fill: #FFFFFF;\n",
              "    }\n",
              "  </style>\n",
              "\n",
              "      <script>\n",
              "        const buttonEl =\n",
              "          document.querySelector('#df-023e46a6-ddbd-4af6-bedd-88500cfd1863 button.colab-df-convert');\n",
              "        buttonEl.style.display =\n",
              "          google.colab.kernel.accessAllowed ? 'block' : 'none';\n",
              "\n",
              "        async function convertToInteractive(key) {\n",
              "          const element = document.querySelector('#df-023e46a6-ddbd-4af6-bedd-88500cfd1863');\n",
              "          const dataTable =\n",
              "            await google.colab.kernel.invokeFunction('convertToInteractive',\n",
              "                                                     [key], {});\n",
              "          if (!dataTable) return;\n",
              "\n",
              "          const docLinkHtml = 'Like what you see? Visit the ' +\n",
              "            '<a target=\"_blank\" href=https://colab.research.google.com/notebooks/data_table.ipynb>data table notebook</a>'\n",
              "            + ' to learn more about interactive tables.';\n",
              "          element.innerHTML = '';\n",
              "          dataTable['output_type'] = 'display_data';\n",
              "          await google.colab.output.renderOutput(dataTable, element);\n",
              "          const docLink = document.createElement('div');\n",
              "          docLink.innerHTML = docLinkHtml;\n",
              "          element.appendChild(docLink);\n",
              "        }\n",
              "      </script>\n",
              "    </div>\n",
              "  </div>\n",
              "  "
            ]
          },
          "metadata": {},
          "execution_count": 60
        }
      ],
      "source": [
        "#Import Dataset\n",
        "df = pd.read_csv('gas_turbines.csv')\n",
        "df"
      ]
    },
    {
      "cell_type": "markdown",
      "metadata": {
        "id": "WRyHrORPTcFH"
      },
      "source": [
        "About Dataset"
      ]
    },
    {
      "cell_type": "markdown",
      "metadata": {
        "id": "yabNxvwyTg4w"
      },
      "source": [
        "The explanations of sensor measurements and their brief statistics are given below."
      ]
    },
    {
      "cell_type": "markdown",
      "metadata": {
        "id": "Qu9NIQFxTinI"
      },
      "source": [
        "Variable (Abbr) Unit Min Max Mean\n",
        "\n",
        "Ambient temperature (AT) C â€“6.23 37.10 17.71\n",
        "\n",
        "Ambient pressure (AP) mbar 985.85 1036.56 1013.07\n",
        "\n",
        "Ambient humidity (AH) (%) 24.08 100.20 77.87\n",
        "\n",
        "Air filter difference pressure (AFDP) mbar 2.09 7.61 3.93\n",
        "\n",
        "Gas turbine exhaust pressure (GTEP) mbar 17.70 40.72 25.56\n",
        "\n",
        "Turbine inlet temperature (TIT) C 1000.85 1100.89 1081.43\n",
        "\n",
        "Turbine after temperature (TAT) C 511.04 550.61 546.16\n",
        "\n",
        "Compressor discharge pressure (CDP) mbar 9.85 15.16 12.06\n",
        "\n",
        "Turbine energy yield (TEY) MWH 100.02 179.50 133.51\n",
        "\n",
        "Carbon monoxide (CO) mg/m3 0.00 44.10 2.37\n",
        "\n",
        "Nitrogen oxides (NOx) mg/m3 25.90 119.91 65.29"
      ]
    },
    {
      "cell_type": "code",
      "execution_count": 61,
      "metadata": {
        "colab": {
          "base_uri": "https://localhost:8080/"
        },
        "id": "aYuq-7ABTsj2",
        "outputId": "534f1dd3-8e21-41b0-a7a5-4e57f0e8e909"
      },
      "outputs": [
        {
          "data": {
            "text/plain": [
              "AT      False\n",
              "AP      False\n",
              "AH      False\n",
              "AFDP    False\n",
              "GTEP    False\n",
              "TIT     False\n",
              "TAT     False\n",
              "TEY     False\n",
              "CDP     False\n",
              "CO      False\n",
              "NOX     False\n",
              "dtype: bool"
            ]
          },
          "execution_count": 61,
          "metadata": {},
          "output_type": "execute_result"
        }
      ],
      "source": [
        "#Data Exploration\n",
        "df.isnull().any()"
      ]
    },
    {
      "cell_type": "code",
      "execution_count": 62,
      "metadata": {
        "colab": {
          "base_uri": "https://localhost:8080/"
        },
        "id": "SrdgwZ-3T3IY",
        "outputId": "005d81eb-6052-49e0-8f8b-da59b341273d"
      },
      "outputs": [
        {
          "output_type": "execute_result",
          "data": {
            "text/plain": [
              "AT      0\n",
              "AP      0\n",
              "AH      0\n",
              "AFDP    0\n",
              "GTEP    0\n",
              "TIT     0\n",
              "TAT     0\n",
              "TEY     0\n",
              "CDP     0\n",
              "CO      0\n",
              "NOX     0\n",
              "dtype: int64"
            ]
          },
          "metadata": {},
          "execution_count": 62
        }
      ],
      "source": [
        "df.isnull().sum()"
      ]
    },
    {
      "cell_type": "code",
      "execution_count": 63,
      "metadata": {
        "colab": {
          "base_uri": "https://localhost:8080/"
        },
        "id": "laYyG0DKT54T",
        "outputId": "b286d170-2699-470f-eb7e-91818e6c8de9"
      },
      "outputs": [
        {
          "output_type": "execute_result",
          "data": {
            "text/plain": [
              "(15039, 11)"
            ]
          },
          "metadata": {},
          "execution_count": 63
        }
      ],
      "source": [
        "df.shape"
      ]
    },
    {
      "cell_type": "code",
      "execution_count": 64,
      "metadata": {
        "colab": {
          "base_uri": "https://localhost:8080/"
        },
        "id": "s8h_7Q0hT9Dh",
        "outputId": "bb090505-f71c-464b-a198-cd77b7bc707a"
      },
      "outputs": [
        {
          "output_type": "stream",
          "name": "stdout",
          "text": [
            "<class 'pandas.core.frame.DataFrame'>\n",
            "RangeIndex: 15039 entries, 0 to 15038\n",
            "Data columns (total 11 columns):\n",
            " #   Column  Non-Null Count  Dtype  \n",
            "---  ------  --------------  -----  \n",
            " 0   AT      15039 non-null  float64\n",
            " 1   AP      15039 non-null  float64\n",
            " 2   AH      15039 non-null  float64\n",
            " 3   AFDP    15039 non-null  float64\n",
            " 4   GTEP    15039 non-null  float64\n",
            " 5   TIT     15039 non-null  float64\n",
            " 6   TAT     15039 non-null  float64\n",
            " 7   TEY     15039 non-null  float64\n",
            " 8   CDP     15039 non-null  float64\n",
            " 9   CO      15039 non-null  float64\n",
            " 10  NOX     15039 non-null  float64\n",
            "dtypes: float64(11)\n",
            "memory usage: 1.3 MB\n"
          ]
        }
      ],
      "source": [
        "df.info()"
      ]
    },
    {
      "cell_type": "code",
      "execution_count": 65,
      "metadata": {
        "colab": {
          "base_uri": "https://localhost:8080/",
          "height": 394
        },
        "id": "t28cAsrjUCKr",
        "outputId": "4906782a-aad3-4acf-fb38-abe8c481312a"
      },
      "outputs": [
        {
          "output_type": "execute_result",
          "data": {
            "text/plain": [
              "        count         mean        std          min          25%        50%  \\\n",
              "AT    15039.0    17.764381   7.574323     0.522300    11.408000    18.1860   \n",
              "AP    15039.0  1013.199240   6.410760   985.850000  1008.900000  1012.8000   \n",
              "AH    15039.0    79.124174  13.793439    30.344000    69.750000    82.2660   \n",
              "AFDP  15039.0     4.200294   0.760197     2.087400     3.723900     4.1862   \n",
              "GTEP  15039.0    25.419061   4.173916    17.878000    23.294000    25.0820   \n",
              "TIT   15039.0  1083.798770  16.527806  1000.800000  1079.600000  1088.7000   \n",
              "TAT   15039.0   545.396183   7.866803   512.450000   542.170000   549.8900   \n",
              "TEY   15039.0   134.188464  15.829717   100.170000   127.985000   133.7800   \n",
              "CDP   15039.0    12.102353   1.103196     9.904400    11.622000    12.0250   \n",
              "CO    15039.0     1.972499   2.222206     0.000388     0.858055     1.3902   \n",
              "NOX   15039.0    68.190934  10.470586    27.765000    61.303500    66.6010   \n",
              "\n",
              "            75%        max  \n",
              "AT      23.8625    34.9290  \n",
              "AP    1016.9000  1034.2000  \n",
              "AH      90.0435   100.2000  \n",
              "AFDP     4.5509     7.6106  \n",
              "GTEP    27.1840    37.4020  \n",
              "TIT   1096.0000  1100.8000  \n",
              "TAT    550.0600   550.6100  \n",
              "TEY    140.8950   174.6100  \n",
              "CDP     12.5780    15.0810  \n",
              "CO       2.1604    44.1030  \n",
              "NOX     73.9355   119.8900  "
            ],
            "text/html": [
              "\n",
              "  <div id=\"df-c1c2a934-a67a-4eab-9d6a-f7e622213d43\">\n",
              "    <div class=\"colab-df-container\">\n",
              "      <div>\n",
              "<style scoped>\n",
              "    .dataframe tbody tr th:only-of-type {\n",
              "        vertical-align: middle;\n",
              "    }\n",
              "\n",
              "    .dataframe tbody tr th {\n",
              "        vertical-align: top;\n",
              "    }\n",
              "\n",
              "    .dataframe thead th {\n",
              "        text-align: right;\n",
              "    }\n",
              "</style>\n",
              "<table border=\"1\" class=\"dataframe\">\n",
              "  <thead>\n",
              "    <tr style=\"text-align: right;\">\n",
              "      <th></th>\n",
              "      <th>count</th>\n",
              "      <th>mean</th>\n",
              "      <th>std</th>\n",
              "      <th>min</th>\n",
              "      <th>25%</th>\n",
              "      <th>50%</th>\n",
              "      <th>75%</th>\n",
              "      <th>max</th>\n",
              "    </tr>\n",
              "  </thead>\n",
              "  <tbody>\n",
              "    <tr>\n",
              "      <th>AT</th>\n",
              "      <td>15039.0</td>\n",
              "      <td>17.764381</td>\n",
              "      <td>7.574323</td>\n",
              "      <td>0.522300</td>\n",
              "      <td>11.408000</td>\n",
              "      <td>18.1860</td>\n",
              "      <td>23.8625</td>\n",
              "      <td>34.9290</td>\n",
              "    </tr>\n",
              "    <tr>\n",
              "      <th>AP</th>\n",
              "      <td>15039.0</td>\n",
              "      <td>1013.199240</td>\n",
              "      <td>6.410760</td>\n",
              "      <td>985.850000</td>\n",
              "      <td>1008.900000</td>\n",
              "      <td>1012.8000</td>\n",
              "      <td>1016.9000</td>\n",
              "      <td>1034.2000</td>\n",
              "    </tr>\n",
              "    <tr>\n",
              "      <th>AH</th>\n",
              "      <td>15039.0</td>\n",
              "      <td>79.124174</td>\n",
              "      <td>13.793439</td>\n",
              "      <td>30.344000</td>\n",
              "      <td>69.750000</td>\n",
              "      <td>82.2660</td>\n",
              "      <td>90.0435</td>\n",
              "      <td>100.2000</td>\n",
              "    </tr>\n",
              "    <tr>\n",
              "      <th>AFDP</th>\n",
              "      <td>15039.0</td>\n",
              "      <td>4.200294</td>\n",
              "      <td>0.760197</td>\n",
              "      <td>2.087400</td>\n",
              "      <td>3.723900</td>\n",
              "      <td>4.1862</td>\n",
              "      <td>4.5509</td>\n",
              "      <td>7.6106</td>\n",
              "    </tr>\n",
              "    <tr>\n",
              "      <th>GTEP</th>\n",
              "      <td>15039.0</td>\n",
              "      <td>25.419061</td>\n",
              "      <td>4.173916</td>\n",
              "      <td>17.878000</td>\n",
              "      <td>23.294000</td>\n",
              "      <td>25.0820</td>\n",
              "      <td>27.1840</td>\n",
              "      <td>37.4020</td>\n",
              "    </tr>\n",
              "    <tr>\n",
              "      <th>TIT</th>\n",
              "      <td>15039.0</td>\n",
              "      <td>1083.798770</td>\n",
              "      <td>16.527806</td>\n",
              "      <td>1000.800000</td>\n",
              "      <td>1079.600000</td>\n",
              "      <td>1088.7000</td>\n",
              "      <td>1096.0000</td>\n",
              "      <td>1100.8000</td>\n",
              "    </tr>\n",
              "    <tr>\n",
              "      <th>TAT</th>\n",
              "      <td>15039.0</td>\n",
              "      <td>545.396183</td>\n",
              "      <td>7.866803</td>\n",
              "      <td>512.450000</td>\n",
              "      <td>542.170000</td>\n",
              "      <td>549.8900</td>\n",
              "      <td>550.0600</td>\n",
              "      <td>550.6100</td>\n",
              "    </tr>\n",
              "    <tr>\n",
              "      <th>TEY</th>\n",
              "      <td>15039.0</td>\n",
              "      <td>134.188464</td>\n",
              "      <td>15.829717</td>\n",
              "      <td>100.170000</td>\n",
              "      <td>127.985000</td>\n",
              "      <td>133.7800</td>\n",
              "      <td>140.8950</td>\n",
              "      <td>174.6100</td>\n",
              "    </tr>\n",
              "    <tr>\n",
              "      <th>CDP</th>\n",
              "      <td>15039.0</td>\n",
              "      <td>12.102353</td>\n",
              "      <td>1.103196</td>\n",
              "      <td>9.904400</td>\n",
              "      <td>11.622000</td>\n",
              "      <td>12.0250</td>\n",
              "      <td>12.5780</td>\n",
              "      <td>15.0810</td>\n",
              "    </tr>\n",
              "    <tr>\n",
              "      <th>CO</th>\n",
              "      <td>15039.0</td>\n",
              "      <td>1.972499</td>\n",
              "      <td>2.222206</td>\n",
              "      <td>0.000388</td>\n",
              "      <td>0.858055</td>\n",
              "      <td>1.3902</td>\n",
              "      <td>2.1604</td>\n",
              "      <td>44.1030</td>\n",
              "    </tr>\n",
              "    <tr>\n",
              "      <th>NOX</th>\n",
              "      <td>15039.0</td>\n",
              "      <td>68.190934</td>\n",
              "      <td>10.470586</td>\n",
              "      <td>27.765000</td>\n",
              "      <td>61.303500</td>\n",
              "      <td>66.6010</td>\n",
              "      <td>73.9355</td>\n",
              "      <td>119.8900</td>\n",
              "    </tr>\n",
              "  </tbody>\n",
              "</table>\n",
              "</div>\n",
              "      <button class=\"colab-df-convert\" onclick=\"convertToInteractive('df-c1c2a934-a67a-4eab-9d6a-f7e622213d43')\"\n",
              "              title=\"Convert this dataframe to an interactive table.\"\n",
              "              style=\"display:none;\">\n",
              "        \n",
              "  <svg xmlns=\"http://www.w3.org/2000/svg\" height=\"24px\"viewBox=\"0 0 24 24\"\n",
              "       width=\"24px\">\n",
              "    <path d=\"M0 0h24v24H0V0z\" fill=\"none\"/>\n",
              "    <path d=\"M18.56 5.44l.94 2.06.94-2.06 2.06-.94-2.06-.94-.94-2.06-.94 2.06-2.06.94zm-11 1L8.5 8.5l.94-2.06 2.06-.94-2.06-.94L8.5 2.5l-.94 2.06-2.06.94zm10 10l.94 2.06.94-2.06 2.06-.94-2.06-.94-.94-2.06-.94 2.06-2.06.94z\"/><path d=\"M17.41 7.96l-1.37-1.37c-.4-.4-.92-.59-1.43-.59-.52 0-1.04.2-1.43.59L10.3 9.45l-7.72 7.72c-.78.78-.78 2.05 0 2.83L4 21.41c.39.39.9.59 1.41.59.51 0 1.02-.2 1.41-.59l7.78-7.78 2.81-2.81c.8-.78.8-2.07 0-2.86zM5.41 20L4 18.59l7.72-7.72 1.47 1.35L5.41 20z\"/>\n",
              "  </svg>\n",
              "      </button>\n",
              "      \n",
              "  <style>\n",
              "    .colab-df-container {\n",
              "      display:flex;\n",
              "      flex-wrap:wrap;\n",
              "      gap: 12px;\n",
              "    }\n",
              "\n",
              "    .colab-df-convert {\n",
              "      background-color: #E8F0FE;\n",
              "      border: none;\n",
              "      border-radius: 50%;\n",
              "      cursor: pointer;\n",
              "      display: none;\n",
              "      fill: #1967D2;\n",
              "      height: 32px;\n",
              "      padding: 0 0 0 0;\n",
              "      width: 32px;\n",
              "    }\n",
              "\n",
              "    .colab-df-convert:hover {\n",
              "      background-color: #E2EBFA;\n",
              "      box-shadow: 0px 1px 2px rgba(60, 64, 67, 0.3), 0px 1px 3px 1px rgba(60, 64, 67, 0.15);\n",
              "      fill: #174EA6;\n",
              "    }\n",
              "\n",
              "    [theme=dark] .colab-df-convert {\n",
              "      background-color: #3B4455;\n",
              "      fill: #D2E3FC;\n",
              "    }\n",
              "\n",
              "    [theme=dark] .colab-df-convert:hover {\n",
              "      background-color: #434B5C;\n",
              "      box-shadow: 0px 1px 3px 1px rgba(0, 0, 0, 0.15);\n",
              "      filter: drop-shadow(0px 1px 2px rgba(0, 0, 0, 0.3));\n",
              "      fill: #FFFFFF;\n",
              "    }\n",
              "  </style>\n",
              "\n",
              "      <script>\n",
              "        const buttonEl =\n",
              "          document.querySelector('#df-c1c2a934-a67a-4eab-9d6a-f7e622213d43 button.colab-df-convert');\n",
              "        buttonEl.style.display =\n",
              "          google.colab.kernel.accessAllowed ? 'block' : 'none';\n",
              "\n",
              "        async function convertToInteractive(key) {\n",
              "          const element = document.querySelector('#df-c1c2a934-a67a-4eab-9d6a-f7e622213d43');\n",
              "          const dataTable =\n",
              "            await google.colab.kernel.invokeFunction('convertToInteractive',\n",
              "                                                     [key], {});\n",
              "          if (!dataTable) return;\n",
              "\n",
              "          const docLinkHtml = 'Like what you see? Visit the ' +\n",
              "            '<a target=\"_blank\" href=https://colab.research.google.com/notebooks/data_table.ipynb>data table notebook</a>'\n",
              "            + ' to learn more about interactive tables.';\n",
              "          element.innerHTML = '';\n",
              "          dataTable['output_type'] = 'display_data';\n",
              "          await google.colab.output.renderOutput(dataTable, element);\n",
              "          const docLink = document.createElement('div');\n",
              "          docLink.innerHTML = docLinkHtml;\n",
              "          element.appendChild(docLink);\n",
              "        }\n",
              "      </script>\n",
              "    </div>\n",
              "  </div>\n",
              "  "
            ]
          },
          "metadata": {},
          "execution_count": 65
        }
      ],
      "source": [
        "df.describe().T"
      ]
    },
    {
      "cell_type": "code",
      "execution_count": 66,
      "metadata": {
        "colab": {
          "base_uri": "https://localhost:8080/"
        },
        "id": "fF958oaMUEWK",
        "outputId": "be07980b-6d02-40dc-e605-c274ac7a6bda"
      },
      "outputs": [
        {
          "data": {
            "text/plain": [
              "TEY     1.000000\n",
              "CDP     0.988473\n",
              "GTEP    0.977042\n",
              "TIT     0.891587\n",
              "AFDP    0.717995\n",
              "AP      0.146939\n",
              "NOX    -0.102631\n",
              "AH     -0.110272\n",
              "AT     -0.207495\n",
              "CO     -0.541751\n",
              "TAT    -0.720356\n",
              "Name: TEY, dtype: float64"
            ]
          },
          "execution_count": 66,
          "metadata": {},
          "output_type": "execute_result"
        }
      ],
      "source": [
        "df.corr()[\"TEY\"].sort_values(ascending=False)"
      ]
    },
    {
      "cell_type": "code",
      "execution_count": 67,
      "metadata": {
        "colab": {
          "base_uri": "https://localhost:8080/"
        },
        "id": "pfHG-CDNUI6o",
        "outputId": "4d1a3839-8724-4591-ab58-ec9dc632f7a9"
      },
      "outputs": [
        {
          "output_type": "execute_result",
          "data": {
            "text/plain": [
              "Index(['AT', 'AP', 'AH', 'AFDP', 'GTEP', 'TIT', 'TAT', 'TEY', 'CDP', 'CO',\n",
              "       'NOX'],\n",
              "      dtype='object')"
            ]
          },
          "metadata": {},
          "execution_count": 67
        }
      ],
      "source": [
        "numerical_features = df.describe(include=[\"int64\",\"float64\"]).columns\n",
        "numerical_features"
      ]
    },
    {
      "cell_type": "code",
      "execution_count": 68,
      "metadata": {
        "colab": {
          "base_uri": "https://localhost:8080/",
          "height": 1000
        },
        "id": "Vy_Y5XsqUM7w",
        "outputId": "442f3880-c1c3-4fdd-9c37-cee2f2c8b993"
      },
      "outputs": [
        {
          "output_type": "stream",
          "name": "stderr",
          "text": [
            "<ipython-input-68-1c78cfddf2c9>:5: UserWarning: \n",
            "\n",
            "`distplot` is a deprecated function and will be removed in seaborn v0.14.0.\n",
            "\n",
            "Please adapt your code to use either `displot` (a figure-level function with\n",
            "similar flexibility) or `histplot` (an axes-level function for histograms).\n",
            "\n",
            "For a guide to updating your code to use the new functions, please see\n",
            "https://gist.github.com/mwaskom/de44147ed2974457ad6372750bbe5751\n",
            "\n",
            "  sns.distplot(df.AT, ax = ax[0,0])\n",
            "<ipython-input-68-1c78cfddf2c9>:6: UserWarning: \n",
            "\n",
            "`distplot` is a deprecated function and will be removed in seaborn v0.14.0.\n",
            "\n",
            "Please adapt your code to use either `displot` (a figure-level function with\n",
            "similar flexibility) or `histplot` (an axes-level function for histograms).\n",
            "\n",
            "For a guide to updating your code to use the new functions, please see\n",
            "https://gist.github.com/mwaskom/de44147ed2974457ad6372750bbe5751\n",
            "\n",
            "  sns.distplot(df.AP, ax = ax[0,1])\n",
            "<ipython-input-68-1c78cfddf2c9>:7: UserWarning: \n",
            "\n",
            "`distplot` is a deprecated function and will be removed in seaborn v0.14.0.\n",
            "\n",
            "Please adapt your code to use either `displot` (a figure-level function with\n",
            "similar flexibility) or `histplot` (an axes-level function for histograms).\n",
            "\n",
            "For a guide to updating your code to use the new functions, please see\n",
            "https://gist.github.com/mwaskom/de44147ed2974457ad6372750bbe5751\n",
            "\n",
            "  sns.distplot(df.AH, ax = ax[1,0])\n",
            "<ipython-input-68-1c78cfddf2c9>:8: UserWarning: \n",
            "\n",
            "`distplot` is a deprecated function and will be removed in seaborn v0.14.0.\n",
            "\n",
            "Please adapt your code to use either `displot` (a figure-level function with\n",
            "similar flexibility) or `histplot` (an axes-level function for histograms).\n",
            "\n",
            "For a guide to updating your code to use the new functions, please see\n",
            "https://gist.github.com/mwaskom/de44147ed2974457ad6372750bbe5751\n",
            "\n",
            "  sns.distplot(df.AFDP, ax = ax[1,1])\n",
            "<ipython-input-68-1c78cfddf2c9>:9: UserWarning: \n",
            "\n",
            "`distplot` is a deprecated function and will be removed in seaborn v0.14.0.\n",
            "\n",
            "Please adapt your code to use either `displot` (a figure-level function with\n",
            "similar flexibility) or `histplot` (an axes-level function for histograms).\n",
            "\n",
            "For a guide to updating your code to use the new functions, please see\n",
            "https://gist.github.com/mwaskom/de44147ed2974457ad6372750bbe5751\n",
            "\n",
            "  sns.distplot(df.GTEP, ax = ax[2,0])\n",
            "<ipython-input-68-1c78cfddf2c9>:10: UserWarning: \n",
            "\n",
            "`distplot` is a deprecated function and will be removed in seaborn v0.14.0.\n",
            "\n",
            "Please adapt your code to use either `displot` (a figure-level function with\n",
            "similar flexibility) or `histplot` (an axes-level function for histograms).\n",
            "\n",
            "For a guide to updating your code to use the new functions, please see\n",
            "https://gist.github.com/mwaskom/de44147ed2974457ad6372750bbe5751\n",
            "\n",
            "  sns.distplot(df.TIT, ax = ax[2,1])\n",
            "<ipython-input-68-1c78cfddf2c9>:11: UserWarning: \n",
            "\n",
            "`distplot` is a deprecated function and will be removed in seaborn v0.14.0.\n",
            "\n",
            "Please adapt your code to use either `displot` (a figure-level function with\n",
            "similar flexibility) or `histplot` (an axes-level function for histograms).\n",
            "\n",
            "For a guide to updating your code to use the new functions, please see\n",
            "https://gist.github.com/mwaskom/de44147ed2974457ad6372750bbe5751\n",
            "\n",
            "  sns.distplot(df.TAT, ax = ax[3,0])\n",
            "<ipython-input-68-1c78cfddf2c9>:12: UserWarning: \n",
            "\n",
            "`distplot` is a deprecated function and will be removed in seaborn v0.14.0.\n",
            "\n",
            "Please adapt your code to use either `displot` (a figure-level function with\n",
            "similar flexibility) or `histplot` (an axes-level function for histograms).\n",
            "\n",
            "For a guide to updating your code to use the new functions, please see\n",
            "https://gist.github.com/mwaskom/de44147ed2974457ad6372750bbe5751\n",
            "\n",
            "  sns.distplot(df.CDP, ax = ax[3,1])\n",
            "<ipython-input-68-1c78cfddf2c9>:13: UserWarning: \n",
            "\n",
            "`distplot` is a deprecated function and will be removed in seaborn v0.14.0.\n",
            "\n",
            "Please adapt your code to use either `displot` (a figure-level function with\n",
            "similar flexibility) or `histplot` (an axes-level function for histograms).\n",
            "\n",
            "For a guide to updating your code to use the new functions, please see\n",
            "https://gist.github.com/mwaskom/de44147ed2974457ad6372750bbe5751\n",
            "\n",
            "  sns.distplot(df.CO, ax = ax[4,0])\n",
            "<ipython-input-68-1c78cfddf2c9>:14: UserWarning: \n",
            "\n",
            "`distplot` is a deprecated function and will be removed in seaborn v0.14.0.\n",
            "\n",
            "Please adapt your code to use either `displot` (a figure-level function with\n",
            "similar flexibility) or `histplot` (an axes-level function for histograms).\n",
            "\n",
            "For a guide to updating your code to use the new functions, please see\n",
            "https://gist.github.com/mwaskom/de44147ed2974457ad6372750bbe5751\n",
            "\n",
            "  sns.distplot(df.NOX, ax = ax[4,1])\n"
          ]
        },
        {
          "output_type": "display_data",
          "data": {
            "text/plain": [
              "<Figure size 1400x2000 with 10 Axes>"
            ],
            "image/png": "[encoded data removed]"
          },
          "metadata": {}
        }
      ],
      "source": [
        "#Data Visualization\n",
        "#Univariate plots\n",
        "fig, ax = plt.subplots(5,2, figsize = (14,20))\n",
        "\n",
        "sns.distplot(df.AT, ax = ax[0,0])\n",
        "sns.distplot(df.AP, ax = ax[0,1])\n",
        "sns.distplot(df.AH, ax = ax[1,0])\n",
        "sns.distplot(df.AFDP, ax = ax[1,1])\n",
        "sns.distplot(df.GTEP, ax = ax[2,0])\n",
        "sns.distplot(df.TIT, ax = ax[2,1])\n",
        "sns.distplot(df.TAT, ax = ax[3,0])\n",
        "sns.distplot(df.CDP, ax = ax[3,1])\n",
        "sns.distplot(df.CO, ax = ax[4,0])\n",
        "sns.distplot(df.NOX, ax = ax[4,1])\n",
        "\n",
        "plt.show()"
      ]
    },
    {
      "cell_type": "markdown",
      "metadata": {
        "id": "v0AT5QUVUeHm"
      },
      "source": [
        "Outliers Detection"
      ]
    },
    {
      "cell_type": "code",
      "execution_count": 69,
      "metadata": {
        "colab": {
          "base_uri": "https://localhost:8080/",
          "height": 1000
        },
        "id": "5Odq7_3QUesj",
        "outputId": "53ded277-5207-4450-ea35-873d026ee6cf"
      },
      "outputs": [
        {
          "output_type": "display_data",
          "data": {
            "text/plain": [
              "<Figure size 1200x1400 with 11 Axes>"
            ],
            "image/png": "[encoded data removed]"
          },
          "metadata": {}
        }
      ],
      "source": [
        "outlier = df.copy()\n",
        "fig, axes=plt.subplots(11,1,figsize=(12,14),sharex=False,sharey=False)\n",
        "sns.boxplot(x='AT',data= outlier,palette='crest',ax=axes[0])\n",
        "sns.boxplot(x='AP',data= outlier,palette='crest',ax=axes[1])\n",
        "sns.boxplot(x='AH',data= outlier,palette='crest',ax=axes[2])\n",
        "sns.boxplot(x='AFDP',data= outlier,palette='crest',ax=axes[3])\n",
        "sns.boxplot(x='GTEP',data= outlier,palette='crest',ax=axes[4])\n",
        "sns.boxplot(x='TIT',data= outlier,palette='crest',ax=axes[5])\n",
        "sns.boxplot(x='TAT',data= outlier,palette='crest',ax=axes[6])\n",
        "sns.boxplot(x='TEY',data= outlier,palette='crest',ax=axes[7])\n",
        "sns.boxplot(x='CDP',data= outlier,palette='crest',ax=axes[8])\n",
        "sns.boxplot(x='CO',data= outlier,palette='crest',ax=axes[9])\n",
        "sns.boxplot(x='NOX',data= outlier,palette='crest',ax=axes[10])\n",
        "plt.tight_layout(pad=2.0)"
      ]
    },
    {
      "cell_type": "code",
      "execution_count": 70,
      "metadata": {
        "colab": {
          "base_uri": "https://localhost:8080/",
          "height": 566
        },
        "id": "dHBweih2UjP5",
        "outputId": "81f35567-2056-4068-f36a-1f89ad340efe"
      },
      "outputs": [
        {
          "output_type": "display_data",
          "data": {
            "text/plain": [
              "<Figure size 900x600 with 1 Axes>"
            ],
            "image/png": "[encoded data removed]"
          },
          "metadata": {}
        }
      ],
      "source": [
        "sns.set_style(\"darkgrid\")\n",
        "plt.figure(figsize=(9,6))\n",
        "sns.histplot(data= df, x= \"TEY\", color= \"red\", kde= True)\n",
        "plt.axvline(x=df[\"TEY\"].mean(), ymax= 0.55, color= \"green\", linestyle= '--', label= \"Mean\")\n",
        "plt.axvline(x=df[\"TEY\"].median(), ymax= 0.56, color= \"purple\", linestyle= '--',label= \"Median\")\n",
        "plt.title(\"Histogram of the Target Column\", fontsize=16)\n",
        "plt.legend();"
      ]
    },
    {
      "cell_type": "code",
      "execution_count": 71,
      "metadata": {
        "colab": {
          "base_uri": "https://localhost:8080/",
          "height": 566
        },
        "id": "V2hz6X1YUpQP",
        "outputId": "5edf18a3-9b57-4108-a9e4-e8611257f08b"
      },
      "outputs": [
        {
          "output_type": "display_data",
          "data": {
            "text/plain": [
              "<Figure size 900x600 with 1 Axes>"
            ],
            "image/png": "[encoded data removed]"
          },
          "metadata": {}
        }
      ],
      "source": [
        "plt.figure(figsize = (9,6))\n",
        "sns.histplot(df[\"TEY\"], kde= True, bins= 40, color= \"red\", cumulative= True)\n",
        "plt.title(\"Cumulative of the Target Column\", fontsize=16);"
      ]
    },
    {
      "cell_type": "markdown",
      "metadata": {
        "id": "vYfu054gVmJP"
      },
      "source": [
        "Correlation Matrix"
      ]
    },
    {
      "cell_type": "code",
      "execution_count": 72,
      "metadata": {
        "colab": {
          "base_uri": "https://localhost:8080/",
          "height": 1000
        },
        "id": "zQbd0g8jVmoY",
        "outputId": "e8e0c998-5dfe-4b21-f875-c082990dfe33"
      },
      "outputs": [
        {
          "output_type": "stream",
          "name": "stderr",
          "text": [
            "<ipython-input-72-e0636a4daa14>:2: DeprecationWarning: `np.bool` is a deprecated alias for the builtin `bool`. To silence this warning, use `bool` by itself. Doing this will not modify any behavior and is safe. If you specifically wanted the numpy scalar type, use `np.bool_` here.\n",
            "Deprecated in NumPy 1.20; for more details and guidance: https://numpy.org/devdocs/release/1.20.0-notes.html#deprecations\n",
            "  mask = np.zeros_like(df.corr(), dtype= np.bool)\n"
          ]
        },
        {
          "output_type": "display_data",
          "data": {
            "text/plain": [
              "<Figure size 1400x1200 with 2 Axes>"
            ],
            "image/png": "[encoded data removed]"
          },
          "metadata": {}
        }
      ],
      "source": [
        "plt.figure(figsize=(14,12))\n",
        "mask = np.zeros_like(df.corr(), dtype= np.bool)\n",
        "mask[np.triu_indices_from(mask)] = True\n",
        "sns.heatmap(data= df.corr(), cmap= \"jet\", annot= True, linewidths= 1, linecolor= 'white', mask=mask);"
      ]
    },
    {
      "cell_type": "code",
      "execution_count": 73,
      "metadata": {
        "id": "PcvF7w4tVo0U"
      },
      "outputs": [],
      "source": [
        "x = df.drop('TEY', axis=1)\n",
        "y = df[[\"TEY\"]]"
      ]
    },
    {
      "cell_type": "code",
      "execution_count": 74,
      "metadata": {
        "id": "gAHOcaWwVsZl"
      },
      "outputs": [],
      "source": [
        "#Data Pre-Processing\n",
        "#Feature Selection Technique\n",
        "from numpy import set_printoptions\n",
        "from sklearn.feature_selection import mutual_info_regression"
      ]
    },
    {
      "cell_type": "markdown",
      "metadata": {
        "id": "kY2pouhNV8Cq"
      },
      "source": [
        "Feature Extraction"
      ]
    },
    {
      "cell_type": "code",
      "execution_count": 75,
      "metadata": {
        "colab": {
          "base_uri": "https://localhost:8080/"
        },
        "id": "ESgy4lIwV8h-",
        "outputId": "a07e61bb-06b9-4d1c-c9a1-a7a971db99b0"
      },
      "outputs": [
        {
          "output_type": "stream",
          "name": "stderr",
          "text": [
            "/usr/local/lib/python3.10/dist-packages/sklearn/utils/validation.py:1143: DataConversionWarning: A column-vector y was passed when a 1d array was expected. Please change the shape of y to (n_samples, ), for example using ravel().\n",
            "  y = column_or_1d(y, warn=True)\n"
          ]
        }
      ],
      "source": [
        "test = SelectKBest(score_func=mutual_info_regression, k='all')\n",
        "fit = test.fit(x, y)"
      ]
    },
    {
      "cell_type": "code",
      "execution_count": 76,
      "metadata": {
        "colab": {
          "base_uri": "https://localhost:8080/",
          "height": 363
        },
        "id": "1zCvtZajV-c6",
        "outputId": "861ef0a2-bc27-4a75-b2c7-5d3f58ca3e84"
      },
      "outputs": [
        {
          "output_type": "execute_result",
          "data": {
            "text/plain": [
              "      Score Feature\n",
              "7  1.712671     CDP\n",
              "4  1.599374    GTEP\n",
              "5  1.323361     TIT\n",
              "6  0.895038     TAT\n",
              "3  0.660856    AFDP\n",
              "8  0.512477      CO\n",
              "0  0.412736      AT\n",
              "9  0.300720     NOX\n",
              "1  0.137446      AP\n",
              "2  0.097647      AH"
            ],
            "text/html": [
              "\n",
              "  <div id=\"df-7556dbc2-dcfe-4fdd-b289-3cd319d8b748\">\n",
              "    <div class=\"colab-df-container\">\n",
              "      <div>\n",
              "<style scoped>\n",
              "    .dataframe tbody tr th:only-of-type {\n",
              "        vertical-align: middle;\n",
              "    }\n",
              "\n",
              "    .dataframe tbody tr th {\n",
              "        vertical-align: top;\n",
              "    }\n",
              "\n",
              "    .dataframe thead th {\n",
              "        text-align: right;\n",
              "    }\n",
              "</style>\n",
              "<table border=\"1\" class=\"dataframe\">\n",
              "  <thead>\n",
              "    <tr style=\"text-align: right;\">\n",
              "      <th></th>\n",
              "      <th>Score</th>\n",
              "      <th>Feature</th>\n",
              "    </tr>\n",
              "  </thead>\n",
              "  <tbody>\n",
              "    <tr>\n",
              "      <th>7</th>\n",
              "      <td>1.712671</td>\n",
              "      <td>CDP</td>\n",
              "    </tr>\n",
              "    <tr>\n",
              "      <th>4</th>\n",
              "      <td>1.599374</td>\n",
              "      <td>GTEP</td>\n",
              "    </tr>\n",
              "    <tr>\n",
              "      <th>5</th>\n",
              "      <td>1.323361</td>\n",
              "      <td>TIT</td>\n",
              "    </tr>\n",
              "    <tr>\n",
              "      <th>6</th>\n",
              "      <td>0.895038</td>\n",
              "      <td>TAT</td>\n",
              "    </tr>\n",
              "    <tr>\n",
              "      <th>3</th>\n",
              "      <td>0.660856</td>\n",
              "      <td>AFDP</td>\n",
              "    </tr>\n",
              "    <tr>\n",
              "      <th>8</th>\n",
              "      <td>0.512477</td>\n",
              "      <td>CO</td>\n",
              "    </tr>\n",
              "    <tr>\n",
              "      <th>0</th>\n",
              "      <td>0.412736</td>\n",
              "      <td>AT</td>\n",
              "    </tr>\n",
              "    <tr>\n",
              "      <th>9</th>\n",
              "      <td>0.300720</td>\n",
              "      <td>NOX</td>\n",
              "    </tr>\n",
              "    <tr>\n",
              "      <th>1</th>\n",
              "      <td>0.137446</td>\n",
              "      <td>AP</td>\n",
              "    </tr>\n",
              "    <tr>\n",
              "      <th>2</th>\n",
              "      <td>0.097647</td>\n",
              "      <td>AH</td>\n",
              "    </tr>\n",
              "  </tbody>\n",
              "</table>\n",
              "</div>\n",
              "      <button class=\"colab-df-convert\" onclick=\"convertToInteractive('df-7556dbc2-dcfe-4fdd-b289-3cd319d8b748')\"\n",
              "              title=\"Convert this dataframe to an interactive table.\"\n",
              "              style=\"display:none;\">\n",
              "        \n",
              "  <svg xmlns=\"http://www.w3.org/2000/svg\" height=\"24px\"viewBox=\"0 0 24 24\"\n",
              "       width=\"24px\">\n",
              "    <path d=\"M0 0h24v24H0V0z\" fill=\"none\"/>\n",
              "    <path d=\"M18.56 5.44l.94 2.06.94-2.06 2.06-.94-2.06-.94-.94-2.06-.94 2.06-2.06.94zm-11 1L8.5 8.5l.94-2.06 2.06-.94-2.06-.94L8.5 2.5l-.94 2.06-2.06.94zm10 10l.94 2.06.94-2.06 2.06-.94-2.06-.94-.94-2.06-.94 2.06-2.06.94z\"/><path d=\"M17.41 7.96l-1.37-1.37c-.4-.4-.92-.59-1.43-.59-.52 0-1.04.2-1.43.59L10.3 9.45l-7.72 7.72c-.78.78-.78 2.05 0 2.83L4 21.41c.39.39.9.59 1.41.59.51 0 1.02-.2 1.41-.59l7.78-7.78 2.81-2.81c.8-.78.8-2.07 0-2.86zM5.41 20L4 18.59l7.72-7.72 1.47 1.35L5.41 20z\"/>\n",
              "  </svg>\n",
              "      </button>\n",
              "      \n",
              "  <style>\n",
              "    .colab-df-container {\n",
              "      display:flex;\n",
              "      flex-wrap:wrap;\n",
              "      gap: 12px;\n",
              "    }\n",
              "\n",
              "    .colab-df-convert {\n",
              "      background-color: #E8F0FE;\n",
              "      border: none;\n",
              "      border-radius: 50%;\n",
              "      cursor: pointer;\n",
              "      display: none;\n",
              "      fill: #1967D2;\n",
              "      height: 32px;\n",
              "      padding: 0 0 0 0;\n",
              "      width: 32px;\n",
              "    }\n",
              "\n",
              "    .colab-df-convert:hover {\n",
              "      background-color: #E2EBFA;\n",
              "      box-shadow: 0px 1px 2px rgba(60, 64, 67, 0.3), 0px 1px 3px 1px rgba(60, 64, 67, 0.15);\n",
              "      fill: #174EA6;\n",
              "    }\n",
              "\n",
              "    [theme=dark] .colab-df-convert {\n",
              "      background-color: #3B4455;\n",
              "      fill: #D2E3FC;\n",
              "    }\n",
              "\n",
              "    [theme=dark] .colab-df-convert:hover {\n",
              "      background-color: #434B5C;\n",
              "      box-shadow: 0px 1px 3px 1px rgba(0, 0, 0, 0.15);\n",
              "      filter: drop-shadow(0px 1px 2px rgba(0, 0, 0, 0.3));\n",
              "      fill: #FFFFFF;\n",
              "    }\n",
              "  </style>\n",
              "\n",
              "      <script>\n",
              "        const buttonEl =\n",
              "          document.querySelector('#df-7556dbc2-dcfe-4fdd-b289-3cd319d8b748 button.colab-df-convert');\n",
              "        buttonEl.style.display =\n",
              "          google.colab.kernel.accessAllowed ? 'block' : 'none';\n",
              "\n",
              "        async function convertToInteractive(key) {\n",
              "          const element = document.querySelector('#df-7556dbc2-dcfe-4fdd-b289-3cd319d8b748');\n",
              "          const dataTable =\n",
              "            await google.colab.kernel.invokeFunction('convertToInteractive',\n",
              "                                                     [key], {});\n",
              "          if (!dataTable) return;\n",
              "\n",
              "          const docLinkHtml = 'Like what you see? Visit the ' +\n",
              "            '<a target=\"_blank\" href=https://colab.research.google.com/notebooks/data_table.ipynb>data table notebook</a>'\n",
              "            + ' to learn more about interactive tables.';\n",
              "          element.innerHTML = '';\n",
              "          dataTable['output_type'] = 'display_data';\n",
              "          await google.colab.output.renderOutput(dataTable, element);\n",
              "          const docLink = document.createElement('div');\n",
              "          docLink.innerHTML = docLinkHtml;\n",
              "          element.appendChild(docLink);\n",
              "        }\n",
              "      </script>\n",
              "    </div>\n",
              "  </div>\n",
              "  "
            ]
          },
          "metadata": {},
          "execution_count": 76
        }
      ],
      "source": [
        "#Summarize Scores\n",
        "scores = fit.scores_\n",
        "features = fit.transform(x)\n",
        "score_df = pd.DataFrame(list(zip(scores, x.columns)), columns =['Score', 'Feature'])\n",
        "score_df.sort_values(by=\"Score\", ascending=False, inplace=True)\n",
        "score_df"
      ]
    },
    {
      "cell_type": "code",
      "execution_count": 77,
      "metadata": {
        "colab": {
          "base_uri": "https://localhost:8080/",
          "height": 563
        },
        "id": "hlUn2zt3WG0l",
        "outputId": "5e8ee944-592a-4c6f-ccd6-0ba61c9db597"
      },
      "outputs": [
        {
          "output_type": "display_data",
          "data": {
            "text/plain": [
              "<Figure size 1200x600 with 1 Axes>"
            ],
            "image/png": "[encoded data removed]"
          },
          "metadata": {}
        }
      ],
      "source": [
        "fig, axes = plt.subplots(figsize=(12,6))\n",
        "plt.bar([i for i in range(len(scores))],scores)\n",
        "axes.set_xticks([0,1,2,3,4,5,6,7,8,9])\n",
        "axes.set_xticklabels(x.columns.values)\n",
        "plt.xticks(rotation = 90, size = 15)\n",
        "plt.show()"
      ]
    },
    {
      "cell_type": "code",
      "execution_count": 78,
      "metadata": {
        "colab": {
          "base_uri": "https://localhost:8080/",
          "height": 620
        },
        "id": "fo3B_nulWLCi",
        "outputId": "d41f6147-af07-46fd-f22a-3664906d5e1a"
      },
      "outputs": [
        {
          "output_type": "display_data",
          "data": {
            "text/plain": [
              "<Figure size 1200x600 with 1 Axes>"
            ],
            "image/png": "[encoded data removed]"
          },
          "metadata": {}
        }
      ],
      "source": [
        "plt.figure(figsize=(12,6))\n",
        "sns.barplot(x='Feature', y=\"Score\", data=score_df, order=score_df.sort_values('Score').Feature)\n",
        "plt.xlabel(\"Features\", size=15)\n",
        "plt.ylabel(\"Scores\", size=15)\n",
        "plt.yticks(rotation = 0, fontsize = 14)\n",
        "plt.xticks(rotation = 90, fontsize = 16)\n",
        "plt.title(\"Feature Score w.r.t the Sales\", size=18)\n",
        "plt.show()"
      ]
    },
    {
      "cell_type": "code",
      "execution_count": 79,
      "metadata": {
        "colab": {
          "base_uri": "https://localhost:8080/",
          "height": 363
        },
        "id": "INKLC0xtWOFB",
        "outputId": "e8a63d1a-c691-4a27-c5a8-dce18b945a28"
      },
      "outputs": [
        {
          "output_type": "execute_result",
          "data": {
            "text/plain": [
              "      Score Feature\n",
              "7  1.712671     CDP\n",
              "4  1.599374    GTEP\n",
              "5  1.323361     TIT\n",
              "6  0.895038     TAT\n",
              "3  0.660856    AFDP\n",
              "8  0.512477      CO\n",
              "0  0.412736      AT\n",
              "9  0.300720     NOX\n",
              "1  0.137446      AP\n",
              "2  0.097647      AH"
            ],
            "text/html": [
              "\n",
              "  <div id=\"df-3097eb72-01de-4c63-8132-b43ae9638573\">\n",
              "    <div class=\"colab-df-container\">\n",
              "      <div>\n",
              "<style scoped>\n",
              "    .dataframe tbody tr th:only-of-type {\n",
              "        vertical-align: middle;\n",
              "    }\n",
              "\n",
              "    .dataframe tbody tr th {\n",
              "        vertical-align: top;\n",
              "    }\n",
              "\n",
              "    .dataframe thead th {\n",
              "        text-align: right;\n",
              "    }\n",
              "</style>\n",
              "<table border=\"1\" class=\"dataframe\">\n",
              "  <thead>\n",
              "    <tr style=\"text-align: right;\">\n",
              "      <th></th>\n",
              "      <th>Score</th>\n",
              "      <th>Feature</th>\n",
              "    </tr>\n",
              "  </thead>\n",
              "  <tbody>\n",
              "    <tr>\n",
              "      <th>7</th>\n",
              "      <td>1.712671</td>\n",
              "      <td>CDP</td>\n",
              "    </tr>\n",
              "    <tr>\n",
              "      <th>4</th>\n",
              "      <td>1.599374</td>\n",
              "      <td>GTEP</td>\n",
              "    </tr>\n",
              "    <tr>\n",
              "      <th>5</th>\n",
              "      <td>1.323361</td>\n",
              "      <td>TIT</td>\n",
              "    </tr>\n",
              "    <tr>\n",
              "      <th>6</th>\n",
              "      <td>0.895038</td>\n",
              "      <td>TAT</td>\n",
              "    </tr>\n",
              "    <tr>\n",
              "      <th>3</th>\n",
              "      <td>0.660856</td>\n",
              "      <td>AFDP</td>\n",
              "    </tr>\n",
              "    <tr>\n",
              "      <th>8</th>\n",
              "      <td>0.512477</td>\n",
              "      <td>CO</td>\n",
              "    </tr>\n",
              "    <tr>\n",
              "      <th>0</th>\n",
              "      <td>0.412736</td>\n",
              "      <td>AT</td>\n",
              "    </tr>\n",
              "    <tr>\n",
              "      <th>9</th>\n",
              "      <td>0.300720</td>\n",
              "      <td>NOX</td>\n",
              "    </tr>\n",
              "    <tr>\n",
              "      <th>1</th>\n",
              "      <td>0.137446</td>\n",
              "      <td>AP</td>\n",
              "    </tr>\n",
              "    <tr>\n",
              "      <th>2</th>\n",
              "      <td>0.097647</td>\n",
              "      <td>AH</td>\n",
              "    </tr>\n",
              "  </tbody>\n",
              "</table>\n",
              "</div>\n",
              "      <button class=\"colab-df-convert\" onclick=\"convertToInteractive('df-3097eb72-01de-4c63-8132-b43ae9638573')\"\n",
              "              title=\"Convert this dataframe to an interactive table.\"\n",
              "              style=\"display:none;\">\n",
              "        \n",
              "  <svg xmlns=\"http://www.w3.org/2000/svg\" height=\"24px\"viewBox=\"0 0 24 24\"\n",
              "       width=\"24px\">\n",
              "    <path d=\"M0 0h24v24H0V0z\" fill=\"none\"/>\n",
              "    <path d=\"M18.56 5.44l.94 2.06.94-2.06 2.06-.94-2.06-.94-.94-2.06-.94 2.06-2.06.94zm-11 1L8.5 8.5l.94-2.06 2.06-.94-2.06-.94L8.5 2.5l-.94 2.06-2.06.94zm10 10l.94 2.06.94-2.06 2.06-.94-2.06-.94-.94-2.06-.94 2.06-2.06.94z\"/><path d=\"M17.41 7.96l-1.37-1.37c-.4-.4-.92-.59-1.43-.59-.52 0-1.04.2-1.43.59L10.3 9.45l-7.72 7.72c-.78.78-.78 2.05 0 2.83L4 21.41c.39.39.9.59 1.41.59.51 0 1.02-.2 1.41-.59l7.78-7.78 2.81-2.81c.8-.78.8-2.07 0-2.86zM5.41 20L4 18.59l7.72-7.72 1.47 1.35L5.41 20z\"/>\n",
              "  </svg>\n",
              "      </button>\n",
              "      \n",
              "  <style>\n",
              "    .colab-df-container {\n",
              "      display:flex;\n",
              "      flex-wrap:wrap;\n",
              "      gap: 12px;\n",
              "    }\n",
              "\n",
              "    .colab-df-convert {\n",
              "      background-color: #E8F0FE;\n",
              "      border: none;\n",
              "      border-radius: 50%;\n",
              "      cursor: pointer;\n",
              "      display: none;\n",
              "      fill: #1967D2;\n",
              "      height: 32px;\n",
              "      padding: 0 0 0 0;\n",
              "      width: 32px;\n",
              "    }\n",
              "\n",
              "    .colab-df-convert:hover {\n",
              "      background-color: #E2EBFA;\n",
              "      box-shadow: 0px 1px 2px rgba(60, 64, 67, 0.3), 0px 1px 3px 1px rgba(60, 64, 67, 0.15);\n",
              "      fill: #174EA6;\n",
              "    }\n",
              "\n",
              "    [theme=dark] .colab-df-convert {\n",
              "      background-color: #3B4455;\n",
              "      fill: #D2E3FC;\n",
              "    }\n",
              "\n",
              "    [theme=dark] .colab-df-convert:hover {\n",
              "      background-color: #434B5C;\n",
              "      box-shadow: 0px 1px 3px 1px rgba(0, 0, 0, 0.15);\n",
              "      filter: drop-shadow(0px 1px 2px rgba(0, 0, 0, 0.3));\n",
              "      fill: #FFFFFF;\n",
              "    }\n",
              "  </style>\n",
              "\n",
              "      <script>\n",
              "        const buttonEl =\n",
              "          document.querySelector('#df-3097eb72-01de-4c63-8132-b43ae9638573 button.colab-df-convert');\n",
              "        buttonEl.style.display =\n",
              "          google.colab.kernel.accessAllowed ? 'block' : 'none';\n",
              "\n",
              "        async function convertToInteractive(key) {\n",
              "          const element = document.querySelector('#df-3097eb72-01de-4c63-8132-b43ae9638573');\n",
              "          const dataTable =\n",
              "            await google.colab.kernel.invokeFunction('convertToInteractive',\n",
              "                                                     [key], {});\n",
              "          if (!dataTable) return;\n",
              "\n",
              "          const docLinkHtml = 'Like what you see? Visit the ' +\n",
              "            '<a target=\"_blank\" href=https://colab.research.google.com/notebooks/data_table.ipynb>data table notebook</a>'\n",
              "            + ' to learn more about interactive tables.';\n",
              "          element.innerHTML = '';\n",
              "          dataTable['output_type'] = 'display_data';\n",
              "          await google.colab.output.renderOutput(dataTable, element);\n",
              "          const docLink = document.createElement('div');\n",
              "          docLink.innerHTML = docLinkHtml;\n",
              "          element.appendChild(docLink);\n",
              "        }\n",
              "      </script>\n",
              "    </div>\n",
              "  </div>\n",
              "  "
            ]
          },
          "metadata": {},
          "execution_count": 79
        }
      ],
      "source": [
        "score_df.sort_values('Score', ascending=False)"
      ]
    },
    {
      "cell_type": "code",
      "execution_count": 80,
      "metadata": {
        "colab": {
          "base_uri": "https://localhost:8080/",
          "height": 206
        },
        "id": "db687QAOWQv1",
        "outputId": "a9126aa6-f32a-45f6-f2ec-fce4a4bea749"
      },
      "outputs": [
        {
          "output_type": "execute_result",
          "data": {
            "text/plain": [
              "      CDP    GTEP     TIT     TAT    AFDP      CO      AT     TEY\n",
              "0  10.605  19.663  1059.2  550.00  3.5000  3.1547  6.8594  114.70\n",
              "1  10.598  19.728  1059.3  550.00  3.4998  3.2363  6.7850  114.72\n",
              "2  10.601  19.779  1059.4  549.87  3.4824  3.2012  6.8977  114.71\n",
              "3  10.606  19.792  1059.6  549.99  3.4805  3.1923  7.0569  114.72\n",
              "4  10.612  19.765  1059.7  549.98  3.4976  3.2484  7.3978  114.72"
            ],
            "text/html": [
              "\n",
              "  <div id=\"df-ca824622-b776-4541-9707-4f64bed02833\">\n",
              "    <div class=\"colab-df-container\">\n",
              "      <div>\n",
              "<style scoped>\n",
              "    .dataframe tbody tr th:only-of-type {\n",
              "        vertical-align: middle;\n",
              "    }\n",
              "\n",
              "    .dataframe tbody tr th {\n",
              "        vertical-align: top;\n",
              "    }\n",
              "\n",
              "    .dataframe thead th {\n",
              "        text-align: right;\n",
              "    }\n",
              "</style>\n",
              "<table border=\"1\" class=\"dataframe\">\n",
              "  <thead>\n",
              "    <tr style=\"text-align: right;\">\n",
              "      <th></th>\n",
              "      <th>CDP</th>\n",
              "      <th>GTEP</th>\n",
              "      <th>TIT</th>\n",
              "      <th>TAT</th>\n",
              "      <th>AFDP</th>\n",
              "      <th>CO</th>\n",
              "      <th>AT</th>\n",
              "      <th>TEY</th>\n",
              "    </tr>\n",
              "  </thead>\n",
              "  <tbody>\n",
              "    <tr>\n",
              "      <th>0</th>\n",
              "      <td>10.605</td>\n",
              "      <td>19.663</td>\n",
              "      <td>1059.2</td>\n",
              "      <td>550.00</td>\n",
              "      <td>3.5000</td>\n",
              "      <td>3.1547</td>\n",
              "      <td>6.8594</td>\n",
              "      <td>114.70</td>\n",
              "    </tr>\n",
              "    <tr>\n",
              "      <th>1</th>\n",
              "      <td>10.598</td>\n",
              "      <td>19.728</td>\n",
              "      <td>1059.3</td>\n",
              "      <td>550.00</td>\n",
              "      <td>3.4998</td>\n",
              "      <td>3.2363</td>\n",
              "      <td>6.7850</td>\n",
              "      <td>114.72</td>\n",
              "    </tr>\n",
              "    <tr>\n",
              "      <th>2</th>\n",
              "      <td>10.601</td>\n",
              "      <td>19.779</td>\n",
              "      <td>1059.4</td>\n",
              "      <td>549.87</td>\n",
              "      <td>3.4824</td>\n",
              "      <td>3.2012</td>\n",
              "      <td>6.8977</td>\n",
              "      <td>114.71</td>\n",
              "    </tr>\n",
              "    <tr>\n",
              "      <th>3</th>\n",
              "      <td>10.606</td>\n",
              "      <td>19.792</td>\n",
              "      <td>1059.6</td>\n",
              "      <td>549.99</td>\n",
              "      <td>3.4805</td>\n",
              "      <td>3.1923</td>\n",
              "      <td>7.0569</td>\n",
              "      <td>114.72</td>\n",
              "    </tr>\n",
              "    <tr>\n",
              "      <th>4</th>\n",
              "      <td>10.612</td>\n",
              "      <td>19.765</td>\n",
              "      <td>1059.7</td>\n",
              "      <td>549.98</td>\n",
              "      <td>3.4976</td>\n",
              "      <td>3.2484</td>\n",
              "      <td>7.3978</td>\n",
              "      <td>114.72</td>\n",
              "    </tr>\n",
              "  </tbody>\n",
              "</table>\n",
              "</div>\n",
              "      <button class=\"colab-df-convert\" onclick=\"convertToInteractive('df-ca824622-b776-4541-9707-4f64bed02833')\"\n",
              "              title=\"Convert this dataframe to an interactive table.\"\n",
              "              style=\"display:none;\">\n",
              "        \n",
              "  <svg xmlns=\"http://www.w3.org/2000/svg\" height=\"24px\"viewBox=\"0 0 24 24\"\n",
              "       width=\"24px\">\n",
              "    <path d=\"M0 0h24v24H0V0z\" fill=\"none\"/>\n",
              "    <path d=\"M18.56 5.44l.94 2.06.94-2.06 2.06-.94-2.06-.94-.94-2.06-.94 2.06-2.06.94zm-11 1L8.5 8.5l.94-2.06 2.06-.94-2.06-.94L8.5 2.5l-.94 2.06-2.06.94zm10 10l.94 2.06.94-2.06 2.06-.94-2.06-.94-.94-2.06-.94 2.06-2.06.94z\"/><path d=\"M17.41 7.96l-1.37-1.37c-.4-.4-.92-.59-1.43-.59-.52 0-1.04.2-1.43.59L10.3 9.45l-7.72 7.72c-.78.78-.78 2.05 0 2.83L4 21.41c.39.39.9.59 1.41.59.51 0 1.02-.2 1.41-.59l7.78-7.78 2.81-2.81c.8-.78.8-2.07 0-2.86zM5.41 20L4 18.59l7.72-7.72 1.47 1.35L5.41 20z\"/>\n",
              "  </svg>\n",
              "      </button>\n",
              "      \n",
              "  <style>\n",
              "    .colab-df-container {\n",
              "      display:flex;\n",
              "      flex-wrap:wrap;\n",
              "      gap: 12px;\n",
              "    }\n",
              "\n",
              "    .colab-df-convert {\n",
              "      background-color: #E8F0FE;\n",
              "      border: none;\n",
              "      border-radius: 50%;\n",
              "      cursor: pointer;\n",
              "      display: none;\n",
              "      fill: #1967D2;\n",
              "      height: 32px;\n",
              "      padding: 0 0 0 0;\n",
              "      width: 32px;\n",
              "    }\n",
              "\n",
              "    .colab-df-convert:hover {\n",
              "      background-color: #E2EBFA;\n",
              "      box-shadow: 0px 1px 2px rgba(60, 64, 67, 0.3), 0px 1px 3px 1px rgba(60, 64, 67, 0.15);\n",
              "      fill: #174EA6;\n",
              "    }\n",
              "\n",
              "    [theme=dark] .colab-df-convert {\n",
              "      background-color: #3B4455;\n",
              "      fill: #D2E3FC;\n",
              "    }\n",
              "\n",
              "    [theme=dark] .colab-df-convert:hover {\n",
              "      background-color: #434B5C;\n",
              "      box-shadow: 0px 1px 3px 1px rgba(0, 0, 0, 0.15);\n",
              "      filter: drop-shadow(0px 1px 2px rgba(0, 0, 0, 0.3));\n",
              "      fill: #FFFFFF;\n",
              "    }\n",
              "  </style>\n",
              "\n",
              "      <script>\n",
              "        const buttonEl =\n",
              "          document.querySelector('#df-ca824622-b776-4541-9707-4f64bed02833 button.colab-df-convert');\n",
              "        buttonEl.style.display =\n",
              "          google.colab.kernel.accessAllowed ? 'block' : 'none';\n",
              "\n",
              "        async function convertToInteractive(key) {\n",
              "          const element = document.querySelector('#df-ca824622-b776-4541-9707-4f64bed02833');\n",
              "          const dataTable =\n",
              "            await google.colab.kernel.invokeFunction('convertToInteractive',\n",
              "                                                     [key], {});\n",
              "          if (!dataTable) return;\n",
              "\n",
              "          const docLinkHtml = 'Like what you see? Visit the ' +\n",
              "            '<a target=\"_blank\" href=https://colab.research.google.com/notebooks/data_table.ipynb>data table notebook</a>'\n",
              "            + ' to learn more about interactive tables.';\n",
              "          element.innerHTML = '';\n",
              "          dataTable['output_type'] = 'display_data';\n",
              "          await google.colab.output.renderOutput(dataTable, element);\n",
              "          const docLink = document.createElement('div');\n",
              "          docLink.innerHTML = docLinkHtml;\n",
              "          element.appendChild(docLink);\n",
              "        }\n",
              "      </script>\n",
              "    </div>\n",
              "  </div>\n",
              "  "
            ]
          },
          "metadata": {},
          "execution_count": 80
        }
      ],
      "source": [
        "model_data = df[['CDP', 'GTEP','TIT', 'TAT', 'AFDP', 'CO', 'AT',\"TEY\"]]\n",
        "model_data.head()"
      ]
    },
    {
      "cell_type": "markdown",
      "metadata": {
        "id": "B9IptXfgWUuY"
      },
      "source": [
        "Feature Engineering\n",
        "\n",
        "Applying Standard Scaler"
      ]
    },
    {
      "cell_type": "code",
      "execution_count": 81,
      "metadata": {
        "colab": {
          "base_uri": "https://localhost:8080/"
        },
        "id": "iDftGp3_WcBI",
        "outputId": "9238c6c8-b089-4c8e-cff4-640ca7f4cd88"
      },
      "outputs": [
        {
          "output_type": "stream",
          "name": "stdout",
          "text": [
            "Continuous Feature Count 8\n"
          ]
        }
      ],
      "source": [
        "continuous_feature=[feature for feature in model_data.columns if model_data[feature].dtype!='O']\n",
        "print('Continuous Feature Count {}'.format(len(continuous_feature)))"
      ]
    },
    {
      "cell_type": "code",
      "execution_count": 82,
      "metadata": {
        "id": "k3Md5lfmWeTa"
      },
      "outputs": [],
      "source": [
        "df_standard_scaled = model_data.copy()\n",
        "features = df_standard_scaled[continuous_feature]"
      ]
    },
    {
      "cell_type": "code",
      "execution_count": 83,
      "metadata": {
        "colab": {
          "base_uri": "https://localhost:8080/",
          "height": 206
        },
        "id": "XSeIm4Q9WhFr",
        "outputId": "c025277d-fe0d-4bd7-b03a-db35fecff70e"
      },
      "outputs": [
        {
          "output_type": "execute_result",
          "data": {
            "text/plain": [
              "        CDP      GTEP       TIT       TAT      AFDP        CO        AT  \\\n",
              "0 -1.357331 -1.379101 -1.488376  0.585240 -0.921232  0.532012 -1.439778   \n",
              "1 -1.363676 -1.363528 -1.482325  0.585240 -0.921495  0.568733 -1.449601   \n",
              "2 -1.360957 -1.351309 -1.476275  0.568715 -0.944385  0.552938 -1.434721   \n",
              "3 -1.356424 -1.348194 -1.464173  0.583969 -0.946884  0.548933 -1.413702   \n",
              "4 -1.350985 -1.354663 -1.458123  0.582698 -0.924389  0.574179 -1.368693   \n",
              "\n",
              "        TEY  \n",
              "0 -1.231172  \n",
              "1 -1.229909  \n",
              "2 -1.230541  \n",
              "3 -1.229909  \n",
              "4 -1.229909  "
            ],
            "text/html": [
              "\n",
              "  <div id=\"df-c08f4dde-60da-4940-adfe-4113e75aed4f\">\n",
              "    <div class=\"colab-df-container\">\n",
              "      <div>\n",
              "<style scoped>\n",
              "    .dataframe tbody tr th:only-of-type {\n",
              "        vertical-align: middle;\n",
              "    }\n",
              "\n",
              "    .dataframe tbody tr th {\n",
              "        vertical-align: top;\n",
              "    }\n",
              "\n",
              "    .dataframe thead th {\n",
              "        text-align: right;\n",
              "    }\n",
              "</style>\n",
              "<table border=\"1\" class=\"dataframe\">\n",
              "  <thead>\n",
              "    <tr style=\"text-align: right;\">\n",
              "      <th></th>\n",
              "      <th>CDP</th>\n",
              "      <th>GTEP</th>\n",
              "      <th>TIT</th>\n",
              "      <th>TAT</th>\n",
              "      <th>AFDP</th>\n",
              "      <th>CO</th>\n",
              "      <th>AT</th>\n",
              "      <th>TEY</th>\n",
              "    </tr>\n",
              "  </thead>\n",
              "  <tbody>\n",
              "    <tr>\n",
              "      <th>0</th>\n",
              "      <td>-1.357331</td>\n",
              "      <td>-1.379101</td>\n",
              "      <td>-1.488376</td>\n",
              "      <td>0.585240</td>\n",
              "      <td>-0.921232</td>\n",
              "      <td>0.532012</td>\n",
              "      <td>-1.439778</td>\n",
              "      <td>-1.231172</td>\n",
              "    </tr>\n",
              "    <tr>\n",
              "      <th>1</th>\n",
              "      <td>-1.363676</td>\n",
              "      <td>-1.363528</td>\n",
              "      <td>-1.482325</td>\n",
              "      <td>0.585240</td>\n",
              "      <td>-0.921495</td>\n",
              "      <td>0.568733</td>\n",
              "      <td>-1.449601</td>\n",
              "      <td>-1.229909</td>\n",
              "    </tr>\n",
              "    <tr>\n",
              "      <th>2</th>\n",
              "      <td>-1.360957</td>\n",
              "      <td>-1.351309</td>\n",
              "      <td>-1.476275</td>\n",
              "      <td>0.568715</td>\n",
              "      <td>-0.944385</td>\n",
              "      <td>0.552938</td>\n",
              "      <td>-1.434721</td>\n",
              "      <td>-1.230541</td>\n",
              "    </tr>\n",
              "    <tr>\n",
              "      <th>3</th>\n",
              "      <td>-1.356424</td>\n",
              "      <td>-1.348194</td>\n",
              "      <td>-1.464173</td>\n",
              "      <td>0.583969</td>\n",
              "      <td>-0.946884</td>\n",
              "      <td>0.548933</td>\n",
              "      <td>-1.413702</td>\n",
              "      <td>-1.229909</td>\n",
              "    </tr>\n",
              "    <tr>\n",
              "      <th>4</th>\n",
              "      <td>-1.350985</td>\n",
              "      <td>-1.354663</td>\n",
              "      <td>-1.458123</td>\n",
              "      <td>0.582698</td>\n",
              "      <td>-0.924389</td>\n",
              "      <td>0.574179</td>\n",
              "      <td>-1.368693</td>\n",
              "      <td>-1.229909</td>\n",
              "    </tr>\n",
              "  </tbody>\n",
              "</table>\n",
              "</div>\n",
              "      <button class=\"colab-df-convert\" onclick=\"convertToInteractive('df-c08f4dde-60da-4940-adfe-4113e75aed4f')\"\n",
              "              title=\"Convert this dataframe to an interactive table.\"\n",
              "              style=\"display:none;\">\n",
              "        \n",
              "  <svg xmlns=\"http://www.w3.org/2000/svg\" height=\"24px\"viewBox=\"0 0 24 24\"\n",
              "       width=\"24px\">\n",
              "    <path d=\"M0 0h24v24H0V0z\" fill=\"none\"/>\n",
              "    <path d=\"M18.56 5.44l.94 2.06.94-2.06 2.06-.94-2.06-.94-.94-2.06-.94 2.06-2.06.94zm-11 1L8.5 8.5l.94-2.06 2.06-.94-2.06-.94L8.5 2.5l-.94 2.06-2.06.94zm10 10l.94 2.06.94-2.06 2.06-.94-2.06-.94-.94-2.06-.94 2.06-2.06.94z\"/><path d=\"M17.41 7.96l-1.37-1.37c-.4-.4-.92-.59-1.43-.59-.52 0-1.04.2-1.43.59L10.3 9.45l-7.72 7.72c-.78.78-.78 2.05 0 2.83L4 21.41c.39.39.9.59 1.41.59.51 0 1.02-.2 1.41-.59l7.78-7.78 2.81-2.81c.8-.78.8-2.07 0-2.86zM5.41 20L4 18.59l7.72-7.72 1.47 1.35L5.41 20z\"/>\n",
              "  </svg>\n",
              "      </button>\n",
              "      \n",
              "  <style>\n",
              "    .colab-df-container {\n",
              "      display:flex;\n",
              "      flex-wrap:wrap;\n",
              "      gap: 12px;\n",
              "    }\n",
              "\n",
              "    .colab-df-convert {\n",
              "      background-color: #E8F0FE;\n",
              "      border: none;\n",
              "      border-radius: 50%;\n",
              "      cursor: pointer;\n",
              "      display: none;\n",
              "      fill: #1967D2;\n",
              "      height: 32px;\n",
              "      padding: 0 0 0 0;\n",
              "      width: 32px;\n",
              "    }\n",
              "\n",
              "    .colab-df-convert:hover {\n",
              "      background-color: #E2EBFA;\n",
              "      box-shadow: 0px 1px 2px rgba(60, 64, 67, 0.3), 0px 1px 3px 1px rgba(60, 64, 67, 0.15);\n",
              "      fill: #174EA6;\n",
              "    }\n",
              "\n",
              "    [theme=dark] .colab-df-convert {\n",
              "      background-color: #3B4455;\n",
              "      fill: #D2E3FC;\n",
              "    }\n",
              "\n",
              "    [theme=dark] .colab-df-convert:hover {\n",
              "      background-color: #434B5C;\n",
              "      box-shadow: 0px 1px 3px 1px rgba(0, 0, 0, 0.15);\n",
              "      filter: drop-shadow(0px 1px 2px rgba(0, 0, 0, 0.3));\n",
              "      fill: #FFFFFF;\n",
              "    }\n",
              "  </style>\n",
              "\n",
              "      <script>\n",
              "        const buttonEl =\n",
              "          document.querySelector('#df-c08f4dde-60da-4940-adfe-4113e75aed4f button.colab-df-convert');\n",
              "        buttonEl.style.display =\n",
              "          google.colab.kernel.accessAllowed ? 'block' : 'none';\n",
              "\n",
              "        async function convertToInteractive(key) {\n",
              "          const element = document.querySelector('#df-c08f4dde-60da-4940-adfe-4113e75aed4f');\n",
              "          const dataTable =\n",
              "            await google.colab.kernel.invokeFunction('convertToInteractive',\n",
              "                                                     [key], {});\n",
              "          if (!dataTable) return;\n",
              "\n",
              "          const docLinkHtml = 'Like what you see? Visit the ' +\n",
              "            '<a target=\"_blank\" href=https://colab.research.google.com/notebooks/data_table.ipynb>data table notebook</a>'\n",
              "            + ' to learn more about interactive tables.';\n",
              "          element.innerHTML = '';\n",
              "          dataTable['output_type'] = 'display_data';\n",
              "          await google.colab.output.renderOutput(dataTable, element);\n",
              "          const docLink = document.createElement('div');\n",
              "          docLink.innerHTML = docLinkHtml;\n",
              "          element.appendChild(docLink);\n",
              "        }\n",
              "      </script>\n",
              "    </div>\n",
              "  </div>\n",
              "  "
            ]
          },
          "metadata": {},
          "execution_count": 83
        }
      ],
      "source": [
        "from sklearn.preprocessing import StandardScaler\n",
        "scaler = StandardScaler()\n",
        "\n",
        "df_standard_scaled[continuous_feature] = scaler.fit_transform(features.values)\n",
        "df_standard_scaled.head()"
      ]
    },
    {
      "cell_type": "code",
      "execution_count": 84,
      "metadata": {
        "colab": {
          "base_uri": "https://localhost:8080/"
        },
        "id": "92-Skhy3WjZV",
        "outputId": "bb763f49-92f5-4851-fcbc-3b4743890ca9"
      },
      "outputs": [
        {
          "output_type": "stream",
          "name": "stdout",
          "text": [
            "Mean\n",
            " CDP     0.0\n",
            "GTEP   -0.0\n",
            "TIT    -0.0\n",
            "TAT     0.0\n",
            "AFDP    0.0\n",
            "CO      0.0\n",
            "AT      0.0\n",
            "TEY     0.0\n",
            "dtype: float64\n"
          ]
        }
      ],
      "source": [
        "print('Mean' '\\n',np.round(df_standard_scaled.mean(),1))"
      ]
    },
    {
      "cell_type": "code",
      "execution_count": 85,
      "metadata": {
        "colab": {
          "base_uri": "https://localhost:8080/"
        },
        "id": "D52a5vHQWmE_",
        "outputId": "90208a34-c94a-458a-b175-8b27eb51761b"
      },
      "outputs": [
        {
          "metadata": {
            "tags": null
          },
          "name": "stdout",
          "output_type": "stream",
          "text": [
            "Standard Devaition \n",
            " CDP     1.0\n",
            "GTEP    1.0\n",
            "TIT     1.0\n",
            "TAT     1.0\n",
            "AFDP    1.0\n",
            "CO      1.0\n",
            "AT      1.0\n",
            "TEY     1.0\n",
            "dtype: float64\n"
          ]
        }
      ],
      "source": [
        "print('Standard Devaition','\\n',np.round(df_standard_scaled.std(),1))"
      ]
    },
    {
      "cell_type": "markdown",
      "metadata": {
        "id": "834xzautWr5X"
      },
      "source": [
        " Test Train Split With Imbalanced Dataset"
      ]
    },
    {
      "cell_type": "code",
      "execution_count": 86,
      "metadata": {
        "id": "3A3fGDKEWsWC"
      },
      "outputs": [],
      "source": [
        "x = df_standard_scaled.drop('TEY',axis=1)\n",
        "y = df_standard_scaled[['TEY']]"
      ]
    },
    {
      "cell_type": "code",
      "execution_count": 87,
      "metadata": {
        "id": "4QErUrn5Wv7B"
      },
      "outputs": [],
      "source": [
        "x_train, x_test, y_train, y_test = train_test_split(x, y, test_size=0.3, random_state=3)"
      ]
    },
    {
      "cell_type": "markdown",
      "metadata": {
        "id": "1Gn5DAQyW5N1"
      },
      "source": [
        " Hyperparameter Tuning"
      ]
    },
    {
      "cell_type": "code",
      "execution_count": 88,
      "metadata": {
        "id": "ma1fSxWTY-t4"
      },
      "outputs": [],
      "source": [
        "#Creating model\n",
        "def create_model():\n",
        "    model1 = Sequential()\n",
        "    model1.add(Dense(32,input_dim=7,activation='relu'))\n",
        "    model1.add(Dense(64,activation='relu'))\n",
        "    model1.add(Dense(32,activation=\"relu\"))\n",
        "    model1.add(Dense(64,activation=\"relu\"))\n",
        "    model1.add(Dense(32,activation=\"relu\"))\n",
        "    model1.add(Dense(32,activation=\"relu\"))\n",
        "    model1.add(Dense(64,activation=\"relu\"))\n",
        "    model1.add(Dense(64,activation=\"relu\"))\n",
        "    model1.add(Dense(units=1,activation=\"linear\"))\n",
        "\n",
        "    adam=Adam(learning_rate=0.001)\n",
        "    model1.compile(loss= 'mean_absolute_error', optimizer= adam, metrics= [\"mean_absolute_error\"])\n",
        "    return model1"
      ]
    },
    {
      "cell_type": "code",
      "execution_count": 89,
      "metadata": {
        "colab": {
          "base_uri": "https://localhost:8080/"
        },
        "id": "jVqlCOdkZBlV",
        "outputId": "cbd9ecab-f8ea-4c8c-e96f-d5fd66a55dda"
      },
      "outputs": [
        {
          "output_type": "stream",
          "name": "stderr",
          "text": [
            "<ipython-input-89-7d33337b6f82>:1: DeprecationWarning: KerasRegressor is deprecated, use Sci-Keras (https://github.com/adriangb/scikeras) instead. See https://www.adriangb.com/scikeras/stable/migration.html for help migrating.\n",
            "  model1 = KerasRegressor(build_fn=create_model,verbose=0)\n"
          ]
        }
      ],
      "source": [
        "model1 = KerasRegressor(build_fn=create_model,verbose=0)\n",
        "batch_size = [20,40,50]\n",
        "epochs     = [50,100,200]\n",
        "param_grid = dict(batch_size= batch_size, epochs= epochs)\n",
        "grid = GridSearchCV(estimator= model1, param_grid= param_grid, cv= KFold(), verbose= 10)"
      ]
    },
    {
      "cell_type": "code",
      "execution_count": 32,
      "metadata": {
        "colab": {
          "base_uri": "https://localhost:8080/"
        },
        "id": "vYr1OhVPaA62",
        "outputId": "349b0e2a-e373-4b9a-fb91-9ea4f9ba129f"
      },
      "outputs": [
        {
          "output_type": "stream",
          "name": "stdout",
          "text": [
            "Fitting 5 folds for each of 9 candidates, totalling 45 fits\n",
            "[CV 1/5; 1/9] START batch_size=20, epochs=50....................................\n",
            "[CV 1/5; 1/9] END ....batch_size=20, epochs=50;, score=-0.028 total time=  20.8s\n",
            "[CV 2/5; 1/9] START batch_size=20, epochs=50....................................\n",
            "[CV 2/5; 1/9] END ....batch_size=20, epochs=50;, score=-0.031 total time=  21.8s\n",
            "[CV 3/5; 1/9] START batch_size=20, epochs=50....................................\n",
            "[CV 3/5; 1/9] END ....batch_size=20, epochs=50;, score=-0.031 total time=  19.2s\n",
            "[CV 4/5; 1/9] START batch_size=20, epochs=50....................................\n",
            "[CV 4/5; 1/9] END ....batch_size=20, epochs=50;, score=-0.039 total time=  26.0s\n",
            "[CV 5/5; 1/9] START batch_size=20, epochs=50....................................\n",
            "[CV 5/5; 1/9] END ....batch_size=20, epochs=50;, score=-0.033 total time=  21.6s\n",
            "[CV 1/5; 2/9] START batch_size=20, epochs=100...................................\n",
            "[CV 1/5; 2/9] END ...batch_size=20, epochs=100;, score=-0.030 total time=  42.1s\n",
            "[CV 2/5; 2/9] START batch_size=20, epochs=100...................................\n",
            "[CV 2/5; 2/9] END ...batch_size=20, epochs=100;, score=-0.030 total time=  39.3s\n",
            "[CV 3/5; 2/9] START batch_size=20, epochs=100...................................\n",
            "[CV 3/5; 2/9] END ...batch_size=20, epochs=100;, score=-0.031 total time=  39.5s\n",
            "[CV 4/5; 2/9] START batch_size=20, epochs=100...................................\n",
            "[CV 4/5; 2/9] END ...batch_size=20, epochs=100;, score=-0.028 total time=  42.5s\n",
            "[CV 5/5; 2/9] START batch_size=20, epochs=100...................................\n",
            "[CV 5/5; 2/9] END ...batch_size=20, epochs=100;, score=-0.026 total time=  38.8s\n",
            "[CV 1/5; 3/9] START batch_size=20, epochs=200...................................\n",
            "[CV 1/5; 3/9] END ...batch_size=20, epochs=200;, score=-0.036 total time= 1.3min\n",
            "[CV 2/5; 3/9] START batch_size=20, epochs=200...................................\n",
            "[CV 2/5; 3/9] END ...batch_size=20, epochs=200;, score=-0.028 total time= 1.2min\n",
            "[CV 3/5; 3/9] START batch_size=20, epochs=200...................................\n",
            "[CV 3/5; 3/9] END ...batch_size=20, epochs=200;, score=-0.029 total time= 1.2min\n",
            "[CV 4/5; 3/9] START batch_size=20, epochs=200...................................\n",
            "[CV 4/5; 3/9] END ...batch_size=20, epochs=200;, score=-0.026 total time= 1.3min\n",
            "[CV 5/5; 3/9] START batch_size=20, epochs=200...................................\n",
            "[CV 5/5; 3/9] END ...batch_size=20, epochs=200;, score=-0.044 total time= 1.2min\n",
            "[CV 1/5; 4/9] START batch_size=40, epochs=50....................................\n",
            "[CV 1/5; 4/9] END ....batch_size=40, epochs=50;, score=-0.037 total time=  10.6s\n",
            "[CV 2/5; 4/9] START batch_size=40, epochs=50....................................\n",
            "[CV 2/5; 4/9] END ....batch_size=40, epochs=50;, score=-0.031 total time=  11.3s\n",
            "[CV 3/5; 4/9] START batch_size=40, epochs=50....................................\n",
            "[CV 3/5; 4/9] END ....batch_size=40, epochs=50;, score=-0.034 total time=  11.3s\n",
            "[CV 4/5; 4/9] START batch_size=40, epochs=50....................................\n",
            "[CV 4/5; 4/9] END ....batch_size=40, epochs=50;, score=-0.036 total time=  11.3s\n",
            "[CV 5/5; 4/9] START batch_size=40, epochs=50....................................\n",
            "[CV 5/5; 4/9] END ....batch_size=40, epochs=50;, score=-0.029 total time=  11.3s\n",
            "[CV 1/5; 5/9] START batch_size=40, epochs=100...................................\n",
            "[CV 1/5; 5/9] END ...batch_size=40, epochs=100;, score=-0.028 total time=  21.7s\n",
            "[CV 2/5; 5/9] START batch_size=40, epochs=100...................................\n",
            "[CV 2/5; 5/9] END ...batch_size=40, epochs=100;, score=-0.027 total time=  19.8s\n",
            "[CV 3/5; 5/9] START batch_size=40, epochs=100...................................\n",
            "[CV 3/5; 5/9] END ...batch_size=40, epochs=100;, score=-0.028 total time=  21.5s\n",
            "[CV 4/5; 5/9] START batch_size=40, epochs=100...................................\n",
            "[CV 4/5; 5/9] END ...batch_size=40, epochs=100;, score=-0.043 total time=  21.5s\n",
            "[CV 5/5; 5/9] START batch_size=40, epochs=100...................................\n",
            "[CV 5/5; 5/9] END ...batch_size=40, epochs=100;, score=-0.032 total time=  21.6s\n",
            "[CV 1/5; 6/9] START batch_size=40, epochs=200...................................\n",
            "[CV 1/5; 6/9] END ...batch_size=40, epochs=200;, score=-0.035 total time=  42.0s\n",
            "[CV 2/5; 6/9] START batch_size=40, epochs=200...................................\n",
            "[CV 2/5; 6/9] END ...batch_size=40, epochs=200;, score=-0.041 total time=  42.0s\n",
            "[CV 3/5; 6/9] START batch_size=40, epochs=200...................................\n",
            "[CV 3/5; 6/9] END ...batch_size=40, epochs=200;, score=-0.034 total time=  39.2s\n",
            "[CV 4/5; 6/9] START batch_size=40, epochs=200...................................\n",
            "[CV 4/5; 6/9] END ...batch_size=40, epochs=200;, score=-0.031 total time=  40.2s\n",
            "[CV 5/5; 6/9] START batch_size=40, epochs=200...................................\n",
            "[CV 5/5; 6/9] END ...batch_size=40, epochs=200;, score=-0.031 total time=  42.1s\n",
            "[CV 1/5; 7/9] START batch_size=50, epochs=50....................................\n",
            "[CV 1/5; 7/9] END ....batch_size=50, epochs=50;, score=-0.032 total time=   9.3s\n",
            "[CV 2/5; 7/9] START batch_size=50, epochs=50....................................\n",
            "[CV 2/5; 7/9] END ....batch_size=50, epochs=50;, score=-0.029 total time=  11.4s\n",
            "[CV 3/5; 7/9] START batch_size=50, epochs=50....................................\n",
            "[CV 3/5; 7/9] END ....batch_size=50, epochs=50;, score=-0.030 total time=   9.2s\n",
            "[CV 4/5; 7/9] START batch_size=50, epochs=50....................................\n",
            "[CV 4/5; 7/9] END ....batch_size=50, epochs=50;, score=-0.039 total time=   9.1s\n",
            "[CV 5/5; 7/9] START batch_size=50, epochs=50....................................\n",
            "[CV 5/5; 7/9] END ....batch_size=50, epochs=50;, score=-0.029 total time=  11.3s\n",
            "[CV 1/5; 8/9] START batch_size=50, epochs=100...................................\n",
            "[CV 1/5; 8/9] END ...batch_size=50, epochs=100;, score=-0.027 total time=  16.2s\n",
            "[CV 2/5; 8/9] START batch_size=50, epochs=100...................................\n",
            "[CV 2/5; 8/9] END ...batch_size=50, epochs=100;, score=-0.027 total time=  16.4s\n",
            "[CV 3/5; 8/9] START batch_size=50, epochs=100...................................\n",
            "[CV 3/5; 8/9] END ...batch_size=50, epochs=100;, score=-0.030 total time=  17.0s\n",
            "[CV 4/5; 8/9] START batch_size=50, epochs=100...................................\n",
            "[CV 4/5; 8/9] END ...batch_size=50, epochs=100;, score=-0.029 total time=  21.5s\n",
            "[CV 5/5; 8/9] START batch_size=50, epochs=100...................................\n",
            "[CV 5/5; 8/9] END ...batch_size=50, epochs=100;, score=-0.028 total time=  16.2s\n",
            "[CV 1/5; 9/9] START batch_size=50, epochs=200...................................\n",
            "[CV 1/5; 9/9] END ...batch_size=50, epochs=200;, score=-0.030 total time=  42.1s\n",
            "[CV 2/5; 9/9] START batch_size=50, epochs=200...................................\n",
            "[CV 2/5; 9/9] END ...batch_size=50, epochs=200;, score=-0.028 total time=  32.2s\n",
            "[CV 3/5; 9/9] START batch_size=50, epochs=200...................................\n",
            "[CV 3/5; 9/9] END ...batch_size=50, epochs=200;, score=-0.044 total time=  33.7s\n",
            "[CV 4/5; 9/9] START batch_size=50, epochs=200...................................\n",
            "[CV 4/5; 9/9] END ...batch_size=50, epochs=200;, score=-0.026 total time=  42.4s\n",
            "[CV 5/5; 9/9] START batch_size=50, epochs=200...................................\n",
            "[CV 5/5; 9/9] END ...batch_size=50, epochs=200;, score=-0.028 total time=  42.1s\n"
          ]
        }
      ],
      "source": [
        "grid_result1 = grid.fit(x_test,y_test)"
      ]
    },
    {
      "cell_type": "code",
      "execution_count": 33,
      "metadata": {
        "id": "TqeUHKWWaq7z",
        "colab": {
          "base_uri": "https://localhost:8080/"
        },
        "outputId": "ef4324b4-ba9d-4fcb-ea26-7e053bcc411b"
      },
      "outputs": [
        {
          "output_type": "stream",
          "name": "stdout",
          "text": [
            "Best -0.028313153609633445, using {'batch_size': 50, 'epochs': 100}\n",
            "-0.03230971768498421, 0.0035199425716873245 with {'batch_size': 20, 'epochs': 50}\n",
            "-0.028908418864011763, 0.0017402763394164726 with {'batch_size': 20, 'epochs': 100}\n",
            "-0.032584108784794806, 0.006831318318603627 with {'batch_size': 20, 'epochs': 200}\n",
            "-0.033484311401844026, 0.0032470767068665213 with {'batch_size': 40, 'epochs': 50}\n",
            "-0.03145773597061634, 0.005899009291535494 with {'batch_size': 40, 'epochs': 100}\n",
            "-0.03424595482647419, 0.0036219255478215514 with {'batch_size': 40, 'epochs': 200}\n",
            "-0.031601297110319136, 0.0038715915250670026 with {'batch_size': 50, 'epochs': 50}\n",
            "-0.028313153609633445, 0.0013285650751169518 with {'batch_size': 50, 'epochs': 100}\n",
            "-0.03108011484146118, 0.006317330353973408 with {'batch_size': 50, 'epochs': 200}\n"
          ]
        }
      ],
      "source": [
        "print('Best {}, using {}'.format(grid_result1.best_score_, grid_result1.best_params_))\n",
        "means  = grid_result1.cv_results_[\"mean_test_score\"]\n",
        "stds   = grid_result1.cv_results_[\"std_test_score\"]\n",
        "params = grid_result1.cv_results_[\"params\"]\n",
        "for mean,stdev,param in zip(means, stds,params):\n",
        "    print(\"{}, {} with {}\".format(mean, stdev, param))"
      ]
    },
    {
      "cell_type": "markdown",
      "metadata": {
        "id": "D8VOdOaajYVB"
      },
      "source": [
        "Hyperparameter Tuning: Optimal Droupout rate"
      ]
    },
    {
      "cell_type": "code",
      "execution_count": 34,
      "metadata": {
        "id": "wLlkK_w0jZQ6"
      },
      "outputs": [],
      "source": [
        "def create_model(dropout_rate):\n",
        "    model2 = Sequential()\n",
        "    model2.add(Dense(32,input_dim=7,activation='relu'))\n",
        "    model2.add(Dense(64,activation='relu'))\n",
        "    model2.add(Dense(32,activation=\"relu\"))\n",
        "    model2.add(Dense(64,activation=\"relu\"))\n",
        "    model2.add(Dense(32,activation=\"relu\"))\n",
        "    model2.add(Dense(32,activation=\"relu\"))\n",
        "    model2.add(Dense(64,activation=\"relu\"))\n",
        "    model2.add(Dense(64,activation=\"relu\"))\n",
        "    model2.add(Dense(units=1,activation=\"linear\"))\n",
        "\n",
        "    adam = Adam(lr=0.001)\n",
        "    model2.compile(loss= 'mean_absolute_error', optimizer= adam, metrics= [\"mean_absolute_error\"])\n",
        "    return model2"
      ]
    },
    {
      "cell_type": "code",
      "execution_count": 35,
      "metadata": {
        "id": "IsqKYV9PZXiY",
        "colab": {
          "base_uri": "https://localhost:8080/"
        },
        "outputId": "a639cdcc-af50-4e17-e595-b6395d6ad7dc"
      },
      "outputs": [
        {
          "output_type": "stream",
          "name": "stderr",
          "text": [
            "<ipython-input-35-fa5489ac79c2>:1: DeprecationWarning: KerasRegressor is deprecated, use Sci-Keras (https://github.com/adriangb/scikeras) instead. See https://www.adriangb.com/scikeras/stable/migration.html for help migrating.\n",
            "  model2       = KerasRegressor(build_fn= create_model, batch_size= 40, epochs= 200, verbose= 0)\n"
          ]
        }
      ],
      "source": [
        "model2       = KerasRegressor(build_fn= create_model, batch_size= 40, epochs= 200, verbose= 0)\n",
        "dropout_rate = [0.0,0.1,0.2,0.3,0.4,0.5]\n",
        "param_grid   = dict(dropout_rate= dropout_rate)\n",
        "grid2        = GridSearchCV(estimator= model2, param_grid= param_grid, cv= KFold(), verbose= 10)"
      ]
    },
    {
      "cell_type": "code",
      "execution_count": 36,
      "metadata": {
        "id": "As62We8EZEPZ",
        "colab": {
          "base_uri": "https://localhost:8080/"
        },
        "outputId": "1b583c25-56cc-4286-bf3a-ac0d22601f47"
      },
      "outputs": [
        {
          "metadata": {
            "tags": null
          },
          "name": "stdout",
          "output_type": "stream",
          "text": [
            "Fitting 5 folds for each of 6 candidates, totalling 30 fits\n",
            "[CV 1/5; 1/6] START dropout_rate=0.0............................................\n"
          ]
        },
        {
          "metadata": {
            "tags": null
          },
          "name": "stderr",
          "output_type": "stream",
          "text": [
            "/usr/local/lib/python3.10/dist-packages/keras/optimizers/legacy/adam.py:117: UserWarning: The `lr` argument is deprecated, use `learning_rate` instead.\n",
            "  super().__init__(name, **kwargs)\n"
          ]
        },
        {
          "metadata": {
            "tags": null
          },
          "name": "stdout",
          "output_type": "stream",
          "text": [
            "[CV 1/5; 1/6] END ............dropout_rate=0.0;, score=-0.027 total time=  39.4s\n",
            "[CV 2/5; 1/6] START dropout_rate=0.0............................................\n"
          ]
        },
        {
          "metadata": {
            "tags": null
          },
          "name": "stderr",
          "output_type": "stream",
          "text": [
            "/usr/local/lib/python3.10/dist-packages/keras/optimizers/legacy/adam.py:117: UserWarning: The `lr` argument is deprecated, use `learning_rate` instead.\n",
            "  super().__init__(name, **kwargs)\n"
          ]
        },
        {
          "metadata": {
            "tags": null
          },
          "name": "stdout",
          "output_type": "stream",
          "text": [
            "[CV 2/5; 1/6] END ............dropout_rate=0.0;, score=-0.028 total time=  42.0s\n",
            "[CV 3/5; 1/6] START dropout_rate=0.0............................................\n"
          ]
        },
        {
          "metadata": {
            "tags": null
          },
          "name": "stderr",
          "output_type": "stream",
          "text": [
            "/usr/local/lib/python3.10/dist-packages/keras/optimizers/legacy/adam.py:117: UserWarning: The `lr` argument is deprecated, use `learning_rate` instead.\n",
            "  super().__init__(name, **kwargs)\n"
          ]
        },
        {
          "metadata": {
            "tags": null
          },
          "name": "stdout",
          "output_type": "stream",
          "text": [
            "[CV 3/5; 1/6] END ............dropout_rate=0.0;, score=-0.029 total time=  39.4s\n",
            "[CV 4/5; 1/6] START dropout_rate=0.0............................................\n"
          ]
        },
        {
          "metadata": {
            "tags": null
          },
          "name": "stderr",
          "output_type": "stream",
          "text": [
            "/usr/local/lib/python3.10/dist-packages/keras/optimizers/legacy/adam.py:117: UserWarning: The `lr` argument is deprecated, use `learning_rate` instead.\n",
            "  super().__init__(name, **kwargs)\n"
          ]
        },
        {
          "metadata": {
            "tags": null
          },
          "name": "stdout",
          "output_type": "stream",
          "text": [
            "[CV 4/5; 1/6] END ............dropout_rate=0.0;, score=-0.029 total time=  42.0s\n",
            "[CV 5/5; 1/6] START dropout_rate=0.0............................................\n"
          ]
        },
        {
          "metadata": {
            "tags": null
          },
          "name": "stderr",
          "output_type": "stream",
          "text": [
            "/usr/local/lib/python3.10/dist-packages/keras/optimizers/legacy/adam.py:117: UserWarning: The `lr` argument is deprecated, use `learning_rate` instead.\n",
            "  super().__init__(name, **kwargs)\n"
          ]
        },
        {
          "metadata": {
            "tags": null
          },
          "name": "stdout",
          "output_type": "stream",
          "text": [
            "[CV 5/5; 1/6] END ............dropout_rate=0.0;, score=-0.038 total time=  42.0s\n",
            "[CV 1/5; 2/6] START dropout_rate=0.1............................................\n"
          ]
        },
        {
          "metadata": {
            "tags": null
          },
          "name": "stderr",
          "output_type": "stream",
          "text": [
            "/usr/local/lib/python3.10/dist-packages/keras/optimizers/legacy/adam.py:117: UserWarning: The `lr` argument is deprecated, use `learning_rate` instead.\n",
            "  super().__init__(name, **kwargs)\n"
          ]
        },
        {
          "metadata": {
            "tags": null
          },
          "name": "stdout",
          "output_type": "stream",
          "text": [
            "[CV 1/5; 2/6] END ............dropout_rate=0.1;, score=-0.028 total time=  39.0s\n",
            "[CV 2/5; 2/6] START dropout_rate=0.1............................................\n"
          ]
        },
        {
          "metadata": {
            "tags": null
          },
          "name": "stderr",
          "output_type": "stream",
          "text": [
            "/usr/local/lib/python3.10/dist-packages/keras/optimizers/legacy/adam.py:117: UserWarning: The `lr` argument is deprecated, use `learning_rate` instead.\n",
            "  super().__init__(name, **kwargs)\n"
          ]
        },
        {
          "metadata": {
            "tags": null
          },
          "name": "stdout",
          "output_type": "stream",
          "text": [
            "[CV 2/5; 2/6] END ............dropout_rate=0.1;, score=-0.031 total time=  38.6s\n",
            "[CV 3/5; 2/6] START dropout_rate=0.1............................................\n"
          ]
        },
        {
          "metadata": {
            "tags": null
          },
          "name": "stderr",
          "output_type": "stream",
          "text": [
            "/usr/local/lib/python3.10/dist-packages/keras/optimizers/legacy/adam.py:117: UserWarning: The `lr` argument is deprecated, use `learning_rate` instead.\n",
            "  super().__init__(name, **kwargs)\n"
          ]
        },
        {
          "metadata": {
            "tags": null
          },
          "name": "stdout",
          "output_type": "stream",
          "text": [
            "[CV 3/5; 2/6] END ............dropout_rate=0.1;, score=-0.032 total time=  38.3s\n",
            "[CV 4/5; 2/6] START dropout_rate=0.1............................................\n"
          ]
        },
        {
          "metadata": {
            "tags": null
          },
          "name": "stderr",
          "output_type": "stream",
          "text": [
            "/usr/local/lib/python3.10/dist-packages/keras/optimizers/legacy/adam.py:117: UserWarning: The `lr` argument is deprecated, use `learning_rate` instead.\n",
            "  super().__init__(name, **kwargs)\n"
          ]
        },
        {
          "metadata": {
            "tags": null
          },
          "name": "stdout",
          "output_type": "stream",
          "text": [
            "[CV 4/5; 2/6] END ............dropout_rate=0.1;, score=-0.027 total time=  38.6s\n",
            "[CV 5/5; 2/6] START dropout_rate=0.1............................................\n"
          ]
        },
        {
          "metadata": {
            "tags": null
          },
          "name": "stderr",
          "output_type": "stream",
          "text": [
            "/usr/local/lib/python3.10/dist-packages/keras/optimizers/legacy/adam.py:117: UserWarning: The `lr` argument is deprecated, use `learning_rate` instead.\n",
            "  super().__init__(name, **kwargs)\n"
          ]
        },
        {
          "metadata": {
            "tags": null
          },
          "name": "stdout",
          "output_type": "stream",
          "text": [
            "[CV 5/5; 2/6] END ............dropout_rate=0.1;, score=-0.033 total time=  42.4s\n",
            "[CV 1/5; 3/6] START dropout_rate=0.2............................................\n"
          ]
        },
        {
          "metadata": {
            "tags": null
          },
          "name": "stderr",
          "output_type": "stream",
          "text": [
            "/usr/local/lib/python3.10/dist-packages/keras/optimizers/legacy/adam.py:117: UserWarning: The `lr` argument is deprecated, use `learning_rate` instead.\n",
            "  super().__init__(name, **kwargs)\n"
          ]
        },
        {
          "metadata": {
            "tags": null
          },
          "name": "stdout",
          "output_type": "stream",
          "text": [
            "[CV 1/5; 3/6] END ............dropout_rate=0.2;, score=-0.030 total time=  38.7s\n",
            "[CV 2/5; 3/6] START dropout_rate=0.2............................................\n"
          ]
        },
        {
          "metadata": {
            "tags": null
          },
          "name": "stderr",
          "output_type": "stream",
          "text": [
            "/usr/local/lib/python3.10/dist-packages/keras/optimizers/legacy/adam.py:117: UserWarning: The `lr` argument is deprecated, use `learning_rate` instead.\n",
            "  super().__init__(name, **kwargs)\n"
          ]
        },
        {
          "metadata": {
            "tags": null
          },
          "name": "stdout",
          "output_type": "stream",
          "text": [
            "[CV 2/5; 3/6] END ............dropout_rate=0.2;, score=-0.029 total time=  41.6s\n",
            "[CV 3/5; 3/6] START dropout_rate=0.2............................................\n"
          ]
        },
        {
          "metadata": {
            "tags": null
          },
          "name": "stderr",
          "output_type": "stream",
          "text": [
            "/usr/local/lib/python3.10/dist-packages/keras/optimizers/legacy/adam.py:117: UserWarning: The `lr` argument is deprecated, use `learning_rate` instead.\n",
            "  super().__init__(name, **kwargs)\n"
          ]
        },
        {
          "metadata": {
            "tags": null
          },
          "name": "stdout",
          "output_type": "stream",
          "text": [
            "[CV 3/5; 3/6] END ............dropout_rate=0.2;, score=-0.032 total time=  40.1s\n",
            "[CV 4/5; 3/6] START dropout_rate=0.2............................................\n"
          ]
        },
        {
          "metadata": {
            "tags": null
          },
          "name": "stderr",
          "output_type": "stream",
          "text": [
            "/usr/local/lib/python3.10/dist-packages/keras/optimizers/legacy/adam.py:117: UserWarning: The `lr` argument is deprecated, use `learning_rate` instead.\n",
            "  super().__init__(name, **kwargs)\n"
          ]
        },
        {
          "output_type": "stream",
          "name": "stdout",
          "text": [
            "[CV 4/5; 3/6] END ............dropout_rate=0.2;, score=-0.036 total time=  40.4s\n",
            "[CV 5/5; 3/6] START dropout_rate=0.2............................................\n"
          ]
        },
        {
          "output_type": "stream",
          "name": "stderr",
          "text": [
            "/usr/local/lib/python3.10/dist-packages/keras/optimizers/legacy/adam.py:117: UserWarning: The `lr` argument is deprecated, use `learning_rate` instead.\n",
            "  super().__init__(name, **kwargs)\n"
          ]
        },
        {
          "output_type": "stream",
          "name": "stdout",
          "text": [
            "[CV 5/5; 3/6] END ............dropout_rate=0.2;, score=-0.026 total time=  38.9s\n",
            "[CV 1/5; 4/6] START dropout_rate=0.3............................................\n"
          ]
        },
        {
          "output_type": "stream",
          "name": "stderr",
          "text": [
            "/usr/local/lib/python3.10/dist-packages/keras/optimizers/legacy/adam.py:117: UserWarning: The `lr` argument is deprecated, use `learning_rate` instead.\n",
            "  super().__init__(name, **kwargs)\n"
          ]
        },
        {
          "output_type": "stream",
          "name": "stdout",
          "text": [
            "[CV 1/5; 4/6] END ............dropout_rate=0.3;, score=-0.032 total time=  39.8s\n",
            "[CV 2/5; 4/6] START dropout_rate=0.3............................................\n"
          ]
        },
        {
          "output_type": "stream",
          "name": "stderr",
          "text": [
            "/usr/local/lib/python3.10/dist-packages/keras/optimizers/legacy/adam.py:117: UserWarning: The `lr` argument is deprecated, use `learning_rate` instead.\n",
            "  super().__init__(name, **kwargs)\n"
          ]
        },
        {
          "output_type": "stream",
          "name": "stdout",
          "text": [
            "[CV 2/5; 4/6] END ............dropout_rate=0.3;, score=-0.029 total time=  39.4s\n",
            "[CV 3/5; 4/6] START dropout_rate=0.3............................................\n"
          ]
        },
        {
          "output_type": "stream",
          "name": "stderr",
          "text": [
            "/usr/local/lib/python3.10/dist-packages/keras/optimizers/legacy/adam.py:117: UserWarning: The `lr` argument is deprecated, use `learning_rate` instead.\n",
            "  super().__init__(name, **kwargs)\n"
          ]
        },
        {
          "output_type": "stream",
          "name": "stdout",
          "text": [
            "[CV 3/5; 4/6] END ............dropout_rate=0.3;, score=-0.030 total time=  39.1s\n",
            "[CV 4/5; 4/6] START dropout_rate=0.3............................................\n"
          ]
        },
        {
          "output_type": "stream",
          "name": "stderr",
          "text": [
            "/usr/local/lib/python3.10/dist-packages/keras/optimizers/legacy/adam.py:117: UserWarning: The `lr` argument is deprecated, use `learning_rate` instead.\n",
            "  super().__init__(name, **kwargs)\n"
          ]
        },
        {
          "output_type": "stream",
          "name": "stdout",
          "text": [
            "[CV 4/5; 4/6] END ............dropout_rate=0.3;, score=-0.031 total time=  42.0s\n",
            "[CV 5/5; 4/6] START dropout_rate=0.3............................................\n"
          ]
        },
        {
          "output_type": "stream",
          "name": "stderr",
          "text": [
            "/usr/local/lib/python3.10/dist-packages/keras/optimizers/legacy/adam.py:117: UserWarning: The `lr` argument is deprecated, use `learning_rate` instead.\n",
            "  super().__init__(name, **kwargs)\n"
          ]
        },
        {
          "output_type": "stream",
          "name": "stdout",
          "text": [
            "[CV 5/5; 4/6] END ............dropout_rate=0.3;, score=-0.034 total time=  39.0s\n",
            "[CV 1/5; 5/6] START dropout_rate=0.4............................................\n"
          ]
        },
        {
          "output_type": "stream",
          "name": "stderr",
          "text": [
            "/usr/local/lib/python3.10/dist-packages/keras/optimizers/legacy/adam.py:117: UserWarning: The `lr` argument is deprecated, use `learning_rate` instead.\n",
            "  super().__init__(name, **kwargs)\n"
          ]
        },
        {
          "output_type": "stream",
          "name": "stdout",
          "text": [
            "[CV 1/5; 5/6] END ............dropout_rate=0.4;, score=-0.028 total time=  39.9s\n",
            "[CV 2/5; 5/6] START dropout_rate=0.4............................................\n"
          ]
        },
        {
          "output_type": "stream",
          "name": "stderr",
          "text": [
            "/usr/local/lib/python3.10/dist-packages/keras/optimizers/legacy/adam.py:117: UserWarning: The `lr` argument is deprecated, use `learning_rate` instead.\n",
            "  super().__init__(name, **kwargs)\n"
          ]
        },
        {
          "output_type": "stream",
          "name": "stdout",
          "text": [
            "[CV 2/5; 5/6] END ............dropout_rate=0.4;, score=-0.029 total time=  38.6s\n",
            "[CV 3/5; 5/6] START dropout_rate=0.4............................................\n"
          ]
        },
        {
          "output_type": "stream",
          "name": "stderr",
          "text": [
            "/usr/local/lib/python3.10/dist-packages/keras/optimizers/legacy/adam.py:117: UserWarning: The `lr` argument is deprecated, use `learning_rate` instead.\n",
            "  super().__init__(name, **kwargs)\n"
          ]
        },
        {
          "output_type": "stream",
          "name": "stdout",
          "text": [
            "[CV 3/5; 5/6] END ............dropout_rate=0.4;, score=-0.034 total time=  38.7s\n",
            "[CV 4/5; 5/6] START dropout_rate=0.4............................................\n"
          ]
        },
        {
          "output_type": "stream",
          "name": "stderr",
          "text": [
            "/usr/local/lib/python3.10/dist-packages/keras/optimizers/legacy/adam.py:117: UserWarning: The `lr` argument is deprecated, use `learning_rate` instead.\n",
            "  super().__init__(name, **kwargs)\n"
          ]
        },
        {
          "output_type": "stream",
          "name": "stdout",
          "text": [
            "[CV 4/5; 5/6] END ............dropout_rate=0.4;, score=-0.032 total time=  42.1s\n",
            "[CV 5/5; 5/6] START dropout_rate=0.4............................................\n"
          ]
        },
        {
          "output_type": "stream",
          "name": "stderr",
          "text": [
            "/usr/local/lib/python3.10/dist-packages/keras/optimizers/legacy/adam.py:117: UserWarning: The `lr` argument is deprecated, use `learning_rate` instead.\n",
            "  super().__init__(name, **kwargs)\n"
          ]
        },
        {
          "output_type": "stream",
          "name": "stdout",
          "text": [
            "[CV 5/5; 5/6] END ............dropout_rate=0.4;, score=-0.026 total time=  38.5s\n",
            "[CV 1/5; 6/6] START dropout_rate=0.5............................................\n"
          ]
        },
        {
          "output_type": "stream",
          "name": "stderr",
          "text": [
            "/usr/local/lib/python3.10/dist-packages/keras/optimizers/legacy/adam.py:117: UserWarning: The `lr` argument is deprecated, use `learning_rate` instead.\n",
            "  super().__init__(name, **kwargs)\n"
          ]
        },
        {
          "output_type": "stream",
          "name": "stdout",
          "text": [
            "[CV 1/5; 6/6] END ............dropout_rate=0.5;, score=-0.026 total time=  42.8s\n",
            "[CV 2/5; 6/6] START dropout_rate=0.5............................................\n"
          ]
        },
        {
          "output_type": "stream",
          "name": "stderr",
          "text": [
            "/usr/local/lib/python3.10/dist-packages/keras/optimizers/legacy/adam.py:117: UserWarning: The `lr` argument is deprecated, use `learning_rate` instead.\n",
            "  super().__init__(name, **kwargs)\n"
          ]
        },
        {
          "output_type": "stream",
          "name": "stdout",
          "text": [
            "[CV 2/5; 6/6] END ............dropout_rate=0.5;, score=-0.028 total time=  42.2s\n",
            "[CV 3/5; 6/6] START dropout_rate=0.5............................................\n"
          ]
        },
        {
          "output_type": "stream",
          "name": "stderr",
          "text": [
            "/usr/local/lib/python3.10/dist-packages/keras/optimizers/legacy/adam.py:117: UserWarning: The `lr` argument is deprecated, use `learning_rate` instead.\n",
            "  super().__init__(name, **kwargs)\n"
          ]
        },
        {
          "output_type": "stream",
          "name": "stdout",
          "text": [
            "[CV 3/5; 6/6] END ............dropout_rate=0.5;, score=-0.029 total time= 1.4min\n",
            "[CV 4/5; 6/6] START dropout_rate=0.5............................................\n"
          ]
        },
        {
          "output_type": "stream",
          "name": "stderr",
          "text": [
            "/usr/local/lib/python3.10/dist-packages/keras/optimizers/legacy/adam.py:117: UserWarning: The `lr` argument is deprecated, use `learning_rate` instead.\n",
            "  super().__init__(name, **kwargs)\n"
          ]
        },
        {
          "output_type": "stream",
          "name": "stdout",
          "text": [
            "[CV 4/5; 6/6] END ............dropout_rate=0.5;, score=-0.029 total time=  40.8s\n",
            "[CV 5/5; 6/6] START dropout_rate=0.5............................................\n"
          ]
        },
        {
          "output_type": "stream",
          "name": "stderr",
          "text": [
            "/usr/local/lib/python3.10/dist-packages/keras/optimizers/legacy/adam.py:117: UserWarning: The `lr` argument is deprecated, use `learning_rate` instead.\n",
            "  super().__init__(name, **kwargs)\n"
          ]
        },
        {
          "output_type": "stream",
          "name": "stdout",
          "text": [
            "[CV 5/5; 6/6] END ............dropout_rate=0.5;, score=-0.027 total time=  42.0s\n"
          ]
        },
        {
          "output_type": "stream",
          "name": "stderr",
          "text": [
            "/usr/local/lib/python3.10/dist-packages/keras/optimizers/legacy/adam.py:117: UserWarning: The `lr` argument is deprecated, use `learning_rate` instead.\n",
            "  super().__init__(name, **kwargs)\n"
          ]
        }
      ],
      "source": [
        "grid_result2 = grid2.fit(x_test, y_test)"
      ]
    },
    {
      "cell_type": "code",
      "execution_count": 37,
      "metadata": {
        "id": "2j-ySDUaYkx-",
        "colab": {
          "base_uri": "https://localhost:8080/"
        },
        "outputId": "52aca788-e755-4824-97e6-48855f002b3d"
      },
      "outputs": [
        {
          "metadata": {
            "tags": null
          },
          "name": "stdout",
          "output_type": "stream",
          "text": [
            "Best -0.027805844321846962, using {'dropout_rate': 0.5}\n",
            "-0.03038828670978546, 0.004126739170757984 with {'dropout_rate': 0.0}\n",
            "-0.030267639458179472, 0.002094835914313622 with {'dropout_rate': 0.1}\n",
            "-0.030568550527095794, 0.0034963415013401725 with {'dropout_rate': 0.2}\n",
            "-0.031166306883096694, 0.0016329795528504036 with {'dropout_rate': 0.3}\n",
            "-0.02988507188856602, 0.0025622848427318203 with {'dropout_rate': 0.4}\n",
            "-0.027805844321846962, 0.0010215985368124023 with {'dropout_rate': 0.5}\n"
          ]
        }
      ],
      "source": [
        "print('Best {}, using {}'.format(grid_result2.best_score_, grid_result2.best_params_))\n",
        "means = grid_result2.cv_results_[\"mean_test_score\"]\n",
        "stds  = grid_result2.cv_results_[\"std_test_score\"]\n",
        "params = grid_result2.cv_results_[\"params\"]\n",
        "for mean,stdev,param in zip(means, stds, params):\n",
        "    print(\"{}, {} with {}\".format(mean, stdev, param))"
      ]
    },
    {
      "cell_type": "markdown",
      "metadata": {
        "id": "H17ZuEVSkfnl"
      },
      "source": [
        "Hyperparameter Tuning: Optimal Activation Function and Kernel Initializer"
      ]
    },
    {
      "cell_type": "code",
      "execution_count": 38,
      "metadata": {
        "id": "5TUrn--jkiY0"
      },
      "outputs": [],
      "source": [
        "def create_model(activation_function,init):\n",
        "    model3 = Sequential()\n",
        "    model3.add(Dense(32,input_dim=7,activation='relu'))\n",
        "    model3.add(Dropout(0.3))\n",
        "    model3.add(Dense(64,activation='relu'))\n",
        "    model3.add(Dropout(0.3))\n",
        "    model3.add(Dense(32,activation=\"relu\"))\n",
        "    model3.add(Dropout(0.3))\n",
        "    model3.add(Dense(64,activation=\"relu\"))\n",
        "    model3.add(Dropout(0.3))\n",
        "    model3.add(Dense(32,activation=\"relu\"))\n",
        "    model3.add(Dropout(0.3))\n",
        "    model3.add(Dense(32,activation=\"relu\"))\n",
        "    model3.add(Dropout(0.3))\n",
        "    model3.add(Dense(64,activation=\"relu\"))\n",
        "    model3.add(Dropout(0.3))\n",
        "    model3.add(Dense(64,activation=\"relu\"))\n",
        "    model3.add(Dropout(0.3))\n",
        "    model3.add(Dense(units=1,activation=\"linear\"))\n",
        "\n",
        "    adam = Adam(lr=0.001)\n",
        "    model3.compile(loss= 'mean_absolute_error', optimizer= adam, metrics= [\"mean_absolute_error\"])\n",
        "    return model3"
      ]
    },
    {
      "cell_type": "code",
      "execution_count": 39,
      "metadata": {
        "id": "ZAZkYmaiYp-P",
        "colab": {
          "base_uri": "https://localhost:8080/"
        },
        "outputId": "2e82a7af-061b-4e29-f283-09c62b7be19e"
      },
      "outputs": [
        {
          "metadata": {
            "tags": null
          },
          "name": "stderr",
          "output_type": "stream",
          "text": [
            "<ipython-input-39-30e829eb7fd4>:1: DeprecationWarning: KerasRegressor is deprecated, use Sci-Keras (https://github.com/adriangb/scikeras) instead. See https://www.adriangb.com/scikeras/stable/migration.html for help migrating.\n",
            "  model3 = KerasRegressor(build_fn=create_model, batch_size=40,epochs=200,verbose=0)\n"
          ]
        }
      ],
      "source": [
        "model3 = KerasRegressor(build_fn=create_model, batch_size=40,epochs=200,verbose=0)\n",
        "activation_function = ['softmax','tanh','relu']\n",
        "init = ['normal','uniform','zero']\n",
        "param_grid = dict(activation_function= activation_function, init= init)\n",
        "grid3 = GridSearchCV(estimator= model3, param_grid= param_grid, cv= KFold(), verbose=10)"
      ]
    },
    {
      "cell_type": "code",
      "execution_count": 40,
      "metadata": {
        "id": "GT4ySxOjWyBK",
        "colab": {
          "base_uri": "https://localhost:8080/"
        },
        "outputId": "5ac6180e-6565-43ad-fc6c-48c0a671609f"
      },
      "outputs": [
        {
          "metadata": {
            "tags": null
          },
          "name": "stdout",
          "output_type": "stream",
          "text": [
            "Fitting 5 folds for each of 9 candidates, totalling 45 fits\n",
            "[CV 1/5; 1/9] START activation_function=softmax, init=normal....................\n"
          ]
        },
        {
          "metadata": {
            "tags": null
          },
          "name": "stderr",
          "output_type": "stream",
          "text": [
            "/usr/local/lib/python3.10/dist-packages/keras/optimizers/legacy/adam.py:117: UserWarning: The `lr` argument is deprecated, use `learning_rate` instead.\n",
            "  super().__init__(name, **kwargs)\n"
          ]
        },
        {
          "metadata": {
            "tags": null
          },
          "name": "stdout",
          "output_type": "stream",
          "text": [
            "[CV 1/5; 1/9] END activation_function=softmax, init=normal;, score=-0.200 total time= 1.4min\n",
            "[CV 2/5; 1/9] START activation_function=softmax, init=normal....................\n"
          ]
        },
        {
          "metadata": {
            "tags": null
          },
          "name": "stderr",
          "output_type": "stream",
          "text": [
            "/usr/local/lib/python3.10/dist-packages/keras/optimizers/legacy/adam.py:117: UserWarning: The `lr` argument is deprecated, use `learning_rate` instead.\n",
            "  super().__init__(name, **kwargs)\n"
          ]
        },
        {
          "metadata": {
            "tags": null
          },
          "name": "stdout",
          "output_type": "stream",
          "text": [
            "[CV 2/5; 1/9] END activation_function=softmax, init=normal;, score=-0.210 total time= 1.4min\n",
            "[CV 3/5; 1/9] START activation_function=softmax, init=normal....................\n"
          ]
        },
        {
          "metadata": {
            "tags": null
          },
          "name": "stderr",
          "output_type": "stream",
          "text": [
            "/usr/local/lib/python3.10/dist-packages/keras/optimizers/legacy/adam.py:117: UserWarning: The `lr` argument is deprecated, use `learning_rate` instead.\n",
            "  super().__init__(name, **kwargs)\n"
          ]
        },
        {
          "metadata": {
            "tags": null
          },
          "name": "stdout",
          "output_type": "stream",
          "text": [
            "[CV 3/5; 1/9] END activation_function=softmax, init=normal;, score=-0.187 total time= 1.4min\n",
            "[CV 4/5; 1/9] START activation_function=softmax, init=normal....................\n"
          ]
        },
        {
          "metadata": {
            "tags": null
          },
          "name": "stderr",
          "output_type": "stream",
          "text": [
            "/usr/local/lib/python3.10/dist-packages/keras/optimizers/legacy/adam.py:117: UserWarning: The `lr` argument is deprecated, use `learning_rate` instead.\n",
            "  super().__init__(name, **kwargs)\n"
          ]
        },
        {
          "metadata": {
            "tags": null
          },
          "name": "stdout",
          "output_type": "stream",
          "text": [
            "[CV 4/5; 1/9] END activation_function=softmax, init=normal;, score=-0.194 total time= 1.4min\n",
            "[CV 5/5; 1/9] START activation_function=softmax, init=normal....................\n"
          ]
        },
        {
          "metadata": {
            "tags": null
          },
          "name": "stderr",
          "output_type": "stream",
          "text": [
            "/usr/local/lib/python3.10/dist-packages/keras/optimizers/legacy/adam.py:117: UserWarning: The `lr` argument is deprecated, use `learning_rate` instead.\n",
            "  super().__init__(name, **kwargs)\n"
          ]
        },
        {
          "metadata": {
            "tags": null
          },
          "name": "stdout",
          "output_type": "stream",
          "text": [
            "[CV 5/5; 1/9] END activation_function=softmax, init=normal;, score=-0.356 total time=  48.6s\n",
            "[CV 1/5; 2/9] START activation_function=softmax, init=uniform...................\n"
          ]
        },
        {
          "metadata": {
            "tags": null
          },
          "name": "stderr",
          "output_type": "stream",
          "text": [
            "/usr/local/lib/python3.10/dist-packages/keras/optimizers/legacy/adam.py:117: UserWarning: The `lr` argument is deprecated, use `learning_rate` instead.\n",
            "  super().__init__(name, **kwargs)\n"
          ]
        },
        {
          "metadata": {
            "tags": null
          },
          "name": "stdout",
          "output_type": "stream",
          "text": [
            "[CV 1/5; 2/9] END activation_function=softmax, init=uniform;, score=-0.678 total time= 1.4min\n",
            "[CV 2/5; 2/9] START activation_function=softmax, init=uniform...................\n"
          ]
        },
        {
          "metadata": {
            "tags": null
          },
          "name": "stderr",
          "output_type": "stream",
          "text": [
            "/usr/local/lib/python3.10/dist-packages/keras/optimizers/legacy/adam.py:117: UserWarning: The `lr` argument is deprecated, use `learning_rate` instead.\n",
            "  super().__init__(name, **kwargs)\n"
          ]
        },
        {
          "metadata": {
            "tags": null
          },
          "name": "stdout",
          "output_type": "stream",
          "text": [
            "[CV 2/5; 2/9] END activation_function=softmax, init=uniform;, score=-0.209 total time= 1.4min\n",
            "[CV 3/5; 2/9] START activation_function=softmax, init=uniform...................\n"
          ]
        },
        {
          "metadata": {
            "tags": null
          },
          "name": "stderr",
          "output_type": "stream",
          "text": [
            "/usr/local/lib/python3.10/dist-packages/keras/optimizers/legacy/adam.py:117: UserWarning: The `lr` argument is deprecated, use `learning_rate` instead.\n",
            "  super().__init__(name, **kwargs)\n"
          ]
        },
        {
          "metadata": {
            "tags": null
          },
          "name": "stdout",
          "output_type": "stream",
          "text": [
            "[CV 3/5; 2/9] END activation_function=softmax, init=uniform;, score=-0.180 total time=  51.0s\n",
            "[CV 4/5; 2/9] START activation_function=softmax, init=uniform...................\n"
          ]
        },
        {
          "metadata": {
            "tags": null
          },
          "name": "stderr",
          "output_type": "stream",
          "text": [
            "/usr/local/lib/python3.10/dist-packages/keras/optimizers/legacy/adam.py:117: UserWarning: The `lr` argument is deprecated, use `learning_rate` instead.\n",
            "  super().__init__(name, **kwargs)\n"
          ]
        },
        {
          "metadata": {
            "tags": null
          },
          "name": "stdout",
          "output_type": "stream",
          "text": [
            "[CV 4/5; 2/9] END activation_function=softmax, init=uniform;, score=-0.223 total time=  51.7s\n",
            "[CV 5/5; 2/9] START activation_function=softmax, init=uniform...................\n"
          ]
        },
        {
          "metadata": {
            "tags": null
          },
          "name": "stderr",
          "output_type": "stream",
          "text": [
            "/usr/local/lib/python3.10/dist-packages/keras/optimizers/legacy/adam.py:117: UserWarning: The `lr` argument is deprecated, use `learning_rate` instead.\n",
            "  super().__init__(name, **kwargs)\n"
          ]
        },
        {
          "metadata": {
            "tags": null
          },
          "name": "stdout",
          "output_type": "stream",
          "text": [
            "[CV 5/5; 2/9] END activation_function=softmax, init=uniform;, score=-0.173 total time=  50.8s\n",
            "[CV 1/5; 3/9] START activation_function=softmax, init=zero......................\n"
          ]
        },
        {
          "metadata": {
            "tags": null
          },
          "name": "stderr",
          "output_type": "stream",
          "text": [
            "/usr/local/lib/python3.10/dist-packages/keras/optimizers/legacy/adam.py:117: UserWarning: The `lr` argument is deprecated, use `learning_rate` instead.\n",
            "  super().__init__(name, **kwargs)\n"
          ]
        },
        {
          "metadata": {
            "tags": null
          },
          "name": "stdout",
          "output_type": "stream",
          "text": [
            "[CV 1/5; 3/9] END activation_function=softmax, init=zero;, score=-0.417 total time= 1.4min\n",
            "[CV 2/5; 3/9] START activation_function=softmax, init=zero......................\n"
          ]
        },
        {
          "metadata": {
            "tags": null
          },
          "name": "stderr",
          "output_type": "stream",
          "text": [
            "/usr/local/lib/python3.10/dist-packages/keras/optimizers/legacy/adam.py:117: UserWarning: The `lr` argument is deprecated, use `learning_rate` instead.\n",
            "  super().__init__(name, **kwargs)\n"
          ]
        },
        {
          "metadata": {
            "tags": null
          },
          "name": "stdout",
          "output_type": "stream",
          "text": [
            "[CV 2/5; 3/9] END activation_function=softmax, init=zero;, score=-0.406 total time=  49.7s\n",
            "[CV 3/5; 3/9] START activation_function=softmax, init=zero......................\n"
          ]
        },
        {
          "metadata": {
            "tags": null
          },
          "name": "stderr",
          "output_type": "stream",
          "text": [
            "/usr/local/lib/python3.10/dist-packages/keras/optimizers/legacy/adam.py:117: UserWarning: The `lr` argument is deprecated, use `learning_rate` instead.\n",
            "  super().__init__(name, **kwargs)\n"
          ]
        },
        {
          "metadata": {
            "tags": null
          },
          "name": "stdout",
          "output_type": "stream",
          "text": [
            "[CV 3/5; 3/9] END activation_function=softmax, init=zero;, score=-0.645 total time=  49.3s\n",
            "[CV 4/5; 3/9] START activation_function=softmax, init=zero......................\n"
          ]
        },
        {
          "metadata": {
            "tags": null
          },
          "name": "stderr",
          "output_type": "stream",
          "text": [
            "/usr/local/lib/python3.10/dist-packages/keras/optimizers/legacy/adam.py:117: UserWarning: The `lr` argument is deprecated, use `learning_rate` instead.\n",
            "  super().__init__(name, **kwargs)\n"
          ]
        },
        {
          "metadata": {
            "tags": null
          },
          "name": "stdout",
          "output_type": "stream",
          "text": [
            "[CV 4/5; 3/9] END activation_function=softmax, init=zero;, score=-0.522 total time=  49.2s\n",
            "[CV 5/5; 3/9] START activation_function=softmax, init=zero......................\n"
          ]
        },
        {
          "metadata": {
            "tags": null
          },
          "name": "stderr",
          "output_type": "stream",
          "text": [
            "/usr/local/lib/python3.10/dist-packages/keras/optimizers/legacy/adam.py:117: UserWarning: The `lr` argument is deprecated, use `learning_rate` instead.\n",
            "  super().__init__(name, **kwargs)\n"
          ]
        },
        {
          "metadata": {
            "tags": null
          },
          "name": "stdout",
          "output_type": "stream",
          "text": [
            "[CV 5/5; 3/9] END activation_function=softmax, init=zero;, score=-0.208 total time= 1.4min\n",
            "[CV 1/5; 4/9] START activation_function=tanh, init=normal.......................\n"
          ]
        },
        {
          "metadata": {
            "tags": null
          },
          "name": "stderr",
          "output_type": "stream",
          "text": [
            "/usr/local/lib/python3.10/dist-packages/keras/optimizers/legacy/adam.py:117: UserWarning: The `lr` argument is deprecated, use `learning_rate` instead.\n",
            "  super().__init__(name, **kwargs)\n"
          ]
        },
        {
          "metadata": {
            "tags": null
          },
          "name": "stdout",
          "output_type": "stream",
          "text": [
            "[CV 1/5; 4/9] END activation_function=tanh, init=normal;, score=-0.410 total time=  50.4s\n",
            "[CV 2/5; 4/9] START activation_function=tanh, init=normal.......................\n"
          ]
        },
        {
          "metadata": {
            "tags": null
          },
          "name": "stderr",
          "output_type": "stream",
          "text": [
            "/usr/local/lib/python3.10/dist-packages/keras/optimizers/legacy/adam.py:117: UserWarning: The `lr` argument is deprecated, use `learning_rate` instead.\n",
            "  super().__init__(name, **kwargs)\n"
          ]
        },
        {
          "metadata": {
            "tags": null
          },
          "name": "stdout",
          "output_type": "stream",
          "text": [
            "[CV 2/5; 4/9] END activation_function=tanh, init=normal;, score=-0.173 total time=  49.2s\n",
            "[CV 3/5; 4/9] START activation_function=tanh, init=normal.......................\n"
          ]
        },
        {
          "metadata": {
            "tags": null
          },
          "name": "stderr",
          "output_type": "stream",
          "text": [
            "/usr/local/lib/python3.10/dist-packages/keras/optimizers/legacy/adam.py:117: UserWarning: The `lr` argument is deprecated, use `learning_rate` instead.\n",
            "  super().__init__(name, **kwargs)\n"
          ]
        },
        {
          "metadata": {
            "tags": null
          },
          "name": "stdout",
          "output_type": "stream",
          "text": [
            "[CV 3/5; 4/9] END activation_function=tanh, init=normal;, score=-0.224 total time=  48.9s\n",
            "[CV 4/5; 4/9] START activation_function=tanh, init=normal.......................\n"
          ]
        },
        {
          "metadata": {
            "tags": null
          },
          "name": "stderr",
          "output_type": "stream",
          "text": [
            "/usr/local/lib/python3.10/dist-packages/keras/optimizers/legacy/adam.py:117: UserWarning: The `lr` argument is deprecated, use `learning_rate` instead.\n",
            "  super().__init__(name, **kwargs)\n"
          ]
        },
        {
          "metadata": {
            "tags": null
          },
          "name": "stdout",
          "output_type": "stream",
          "text": [
            "[CV 4/5; 4/9] END activation_function=tanh, init=normal;, score=-0.223 total time=  49.8s\n",
            "[CV 5/5; 4/9] START activation_function=tanh, init=normal.......................\n"
          ]
        },
        {
          "metadata": {
            "tags": null
          },
          "name": "stderr",
          "output_type": "stream",
          "text": [
            "/usr/local/lib/python3.10/dist-packages/keras/optimizers/legacy/adam.py:117: UserWarning: The `lr` argument is deprecated, use `learning_rate` instead.\n",
            "  super().__init__(name, **kwargs)\n"
          ]
        },
        {
          "output_type": "stream",
          "name": "stdout",
          "text": [
            "[CV 5/5; 4/9] END activation_function=tanh, init=normal;, score=-0.596 total time=  52.5s\n",
            "[CV 1/5; 5/9] START activation_function=tanh, init=uniform......................\n"
          ]
        },
        {
          "output_type": "stream",
          "name": "stderr",
          "text": [
            "/usr/local/lib/python3.10/dist-packages/keras/optimizers/legacy/adam.py:117: UserWarning: The `lr` argument is deprecated, use `learning_rate` instead.\n",
            "  super().__init__(name, **kwargs)\n"
          ]
        },
        {
          "output_type": "stream",
          "name": "stdout",
          "text": [
            "[CV 1/5; 5/9] END activation_function=tanh, init=uniform;, score=-0.191 total time= 1.4min\n",
            "[CV 2/5; 5/9] START activation_function=tanh, init=uniform......................\n"
          ]
        },
        {
          "output_type": "stream",
          "name": "stderr",
          "text": [
            "/usr/local/lib/python3.10/dist-packages/keras/optimizers/legacy/adam.py:117: UserWarning: The `lr` argument is deprecated, use `learning_rate` instead.\n",
            "  super().__init__(name, **kwargs)\n"
          ]
        },
        {
          "output_type": "stream",
          "name": "stdout",
          "text": [
            "[CV 2/5; 5/9] END activation_function=tanh, init=uniform;, score=-0.233 total time=  50.4s\n",
            "[CV 3/5; 5/9] START activation_function=tanh, init=uniform......................\n"
          ]
        },
        {
          "output_type": "stream",
          "name": "stderr",
          "text": [
            "/usr/local/lib/python3.10/dist-packages/keras/optimizers/legacy/adam.py:117: UserWarning: The `lr` argument is deprecated, use `learning_rate` instead.\n",
            "  super().__init__(name, **kwargs)\n"
          ]
        },
        {
          "output_type": "stream",
          "name": "stdout",
          "text": [
            "[CV 3/5; 5/9] END activation_function=tanh, init=uniform;, score=-0.383 total time=  50.6s\n",
            "[CV 4/5; 5/9] START activation_function=tanh, init=uniform......................\n"
          ]
        },
        {
          "output_type": "stream",
          "name": "stderr",
          "text": [
            "/usr/local/lib/python3.10/dist-packages/keras/optimizers/legacy/adam.py:117: UserWarning: The `lr` argument is deprecated, use `learning_rate` instead.\n",
            "  super().__init__(name, **kwargs)\n"
          ]
        },
        {
          "output_type": "stream",
          "name": "stdout",
          "text": [
            "[CV 4/5; 5/9] END activation_function=tanh, init=uniform;, score=-0.209 total time= 1.4min\n",
            "[CV 5/5; 5/9] START activation_function=tanh, init=uniform......................\n"
          ]
        },
        {
          "output_type": "stream",
          "name": "stderr",
          "text": [
            "/usr/local/lib/python3.10/dist-packages/keras/optimizers/legacy/adam.py:117: UserWarning: The `lr` argument is deprecated, use `learning_rate` instead.\n",
            "  super().__init__(name, **kwargs)\n"
          ]
        },
        {
          "output_type": "stream",
          "name": "stdout",
          "text": [
            "[CV 5/5; 5/9] END activation_function=tanh, init=uniform;, score=-0.215 total time= 1.4min\n",
            "[CV 1/5; 6/9] START activation_function=tanh, init=zero.........................\n"
          ]
        },
        {
          "output_type": "stream",
          "name": "stderr",
          "text": [
            "/usr/local/lib/python3.10/dist-packages/keras/optimizers/legacy/adam.py:117: UserWarning: The `lr` argument is deprecated, use `learning_rate` instead.\n",
            "  super().__init__(name, **kwargs)\n"
          ]
        },
        {
          "output_type": "stream",
          "name": "stdout",
          "text": [
            "[CV 1/5; 6/9] END activation_function=tanh, init=zero;, score=-0.205 total time= 1.4min\n",
            "[CV 2/5; 6/9] START activation_function=tanh, init=zero.........................\n"
          ]
        },
        {
          "output_type": "stream",
          "name": "stderr",
          "text": [
            "/usr/local/lib/python3.10/dist-packages/keras/optimizers/legacy/adam.py:117: UserWarning: The `lr` argument is deprecated, use `learning_rate` instead.\n",
            "  super().__init__(name, **kwargs)\n"
          ]
        },
        {
          "output_type": "stream",
          "name": "stdout",
          "text": [
            "[CV 2/5; 6/9] END activation_function=tanh, init=zero;, score=-0.562 total time=  49.0s\n",
            "[CV 3/5; 6/9] START activation_function=tanh, init=zero.........................\n"
          ]
        },
        {
          "output_type": "stream",
          "name": "stderr",
          "text": [
            "/usr/local/lib/python3.10/dist-packages/keras/optimizers/legacy/adam.py:117: UserWarning: The `lr` argument is deprecated, use `learning_rate` instead.\n",
            "  super().__init__(name, **kwargs)\n"
          ]
        },
        {
          "output_type": "stream",
          "name": "stdout",
          "text": [
            "[CV 3/5; 6/9] END activation_function=tanh, init=zero;, score=-0.392 total time=  49.4s\n",
            "[CV 4/5; 6/9] START activation_function=tanh, init=zero.........................\n"
          ]
        },
        {
          "output_type": "stream",
          "name": "stderr",
          "text": [
            "/usr/local/lib/python3.10/dist-packages/keras/optimizers/legacy/adam.py:117: UserWarning: The `lr` argument is deprecated, use `learning_rate` instead.\n",
            "  super().__init__(name, **kwargs)\n"
          ]
        },
        {
          "output_type": "stream",
          "name": "stdout",
          "text": [
            "[CV 4/5; 6/9] END activation_function=tanh, init=zero;, score=-0.153 total time= 1.4min\n",
            "[CV 5/5; 6/9] START activation_function=tanh, init=zero.........................\n"
          ]
        },
        {
          "output_type": "stream",
          "name": "stderr",
          "text": [
            "/usr/local/lib/python3.10/dist-packages/keras/optimizers/legacy/adam.py:117: UserWarning: The `lr` argument is deprecated, use `learning_rate` instead.\n",
            "  super().__init__(name, **kwargs)\n"
          ]
        },
        {
          "output_type": "stream",
          "name": "stdout",
          "text": [
            "[CV 5/5; 6/9] END activation_function=tanh, init=zero;, score=-0.570 total time=  48.6s\n",
            "[CV 1/5; 7/9] START activation_function=relu, init=normal.......................\n"
          ]
        },
        {
          "output_type": "stream",
          "name": "stderr",
          "text": [
            "/usr/local/lib/python3.10/dist-packages/keras/optimizers/legacy/adam.py:117: UserWarning: The `lr` argument is deprecated, use `learning_rate` instead.\n",
            "  super().__init__(name, **kwargs)\n"
          ]
        },
        {
          "output_type": "stream",
          "name": "stdout",
          "text": [
            "[CV 1/5; 7/9] END activation_function=relu, init=normal;, score=-0.525 total time=  52.1s\n",
            "[CV 2/5; 7/9] START activation_function=relu, init=normal.......................\n"
          ]
        },
        {
          "output_type": "stream",
          "name": "stderr",
          "text": [
            "/usr/local/lib/python3.10/dist-packages/keras/optimizers/legacy/adam.py:117: UserWarning: The `lr` argument is deprecated, use `learning_rate` instead.\n",
            "  super().__init__(name, **kwargs)\n"
          ]
        },
        {
          "output_type": "stream",
          "name": "stdout",
          "text": [
            "[CV 2/5; 7/9] END activation_function=relu, init=normal;, score=-0.660 total time=  50.3s\n",
            "[CV 3/5; 7/9] START activation_function=relu, init=normal.......................\n"
          ]
        },
        {
          "output_type": "stream",
          "name": "stderr",
          "text": [
            "/usr/local/lib/python3.10/dist-packages/keras/optimizers/legacy/adam.py:117: UserWarning: The `lr` argument is deprecated, use `learning_rate` instead.\n",
            "  super().__init__(name, **kwargs)\n"
          ]
        },
        {
          "output_type": "stream",
          "name": "stdout",
          "text": [
            "[CV 3/5; 7/9] END activation_function=relu, init=normal;, score=-0.691 total time=  51.8s\n",
            "[CV 4/5; 7/9] START activation_function=relu, init=normal.......................\n"
          ]
        },
        {
          "output_type": "stream",
          "name": "stderr",
          "text": [
            "/usr/local/lib/python3.10/dist-packages/keras/optimizers/legacy/adam.py:117: UserWarning: The `lr` argument is deprecated, use `learning_rate` instead.\n",
            "  super().__init__(name, **kwargs)\n"
          ]
        },
        {
          "output_type": "stream",
          "name": "stdout",
          "text": [
            "[CV 4/5; 7/9] END activation_function=relu, init=normal;, score=-0.698 total time=  50.9s\n",
            "[CV 5/5; 7/9] START activation_function=relu, init=normal.......................\n"
          ]
        },
        {
          "output_type": "stream",
          "name": "stderr",
          "text": [
            "/usr/local/lib/python3.10/dist-packages/keras/optimizers/legacy/adam.py:117: UserWarning: The `lr` argument is deprecated, use `learning_rate` instead.\n",
            "  super().__init__(name, **kwargs)\n"
          ]
        },
        {
          "output_type": "stream",
          "name": "stdout",
          "text": [
            "[CV 5/5; 7/9] END activation_function=relu, init=normal;, score=-0.591 total time=  51.2s\n",
            "[CV 1/5; 8/9] START activation_function=relu, init=uniform......................\n"
          ]
        },
        {
          "output_type": "stream",
          "name": "stderr",
          "text": [
            "/usr/local/lib/python3.10/dist-packages/keras/optimizers/legacy/adam.py:117: UserWarning: The `lr` argument is deprecated, use `learning_rate` instead.\n",
            "  super().__init__(name, **kwargs)\n"
          ]
        },
        {
          "output_type": "stream",
          "name": "stdout",
          "text": [
            "[CV 1/5; 8/9] END activation_function=relu, init=uniform;, score=-0.154 total time=  50.8s\n",
            "[CV 2/5; 8/9] START activation_function=relu, init=uniform......................\n"
          ]
        },
        {
          "output_type": "stream",
          "name": "stderr",
          "text": [
            "/usr/local/lib/python3.10/dist-packages/keras/optimizers/legacy/adam.py:117: UserWarning: The `lr` argument is deprecated, use `learning_rate` instead.\n",
            "  super().__init__(name, **kwargs)\n"
          ]
        },
        {
          "output_type": "stream",
          "name": "stdout",
          "text": [
            "[CV 2/5; 8/9] END activation_function=relu, init=uniform;, score=-0.153 total time=  50.7s\n",
            "[CV 3/5; 8/9] START activation_function=relu, init=uniform......................\n"
          ]
        },
        {
          "output_type": "stream",
          "name": "stderr",
          "text": [
            "/usr/local/lib/python3.10/dist-packages/keras/optimizers/legacy/adam.py:117: UserWarning: The `lr` argument is deprecated, use `learning_rate` instead.\n",
            "  super().__init__(name, **kwargs)\n"
          ]
        },
        {
          "output_type": "stream",
          "name": "stdout",
          "text": [
            "[CV 3/5; 8/9] END activation_function=relu, init=uniform;, score=-0.573 total time=  50.1s\n",
            "[CV 4/5; 8/9] START activation_function=relu, init=uniform......................\n"
          ]
        },
        {
          "output_type": "stream",
          "name": "stderr",
          "text": [
            "/usr/local/lib/python3.10/dist-packages/keras/optimizers/legacy/adam.py:117: UserWarning: The `lr` argument is deprecated, use `learning_rate` instead.\n",
            "  super().__init__(name, **kwargs)\n"
          ]
        },
        {
          "output_type": "stream",
          "name": "stdout",
          "text": [
            "[CV 4/5; 8/9] END activation_function=relu, init=uniform;, score=-0.556 total time= 1.4min\n",
            "[CV 5/5; 8/9] START activation_function=relu, init=uniform......................\n"
          ]
        },
        {
          "output_type": "stream",
          "name": "stderr",
          "text": [
            "/usr/local/lib/python3.10/dist-packages/keras/optimizers/legacy/adam.py:117: UserWarning: The `lr` argument is deprecated, use `learning_rate` instead.\n",
            "  super().__init__(name, **kwargs)\n"
          ]
        },
        {
          "output_type": "stream",
          "name": "stdout",
          "text": [
            "[CV 5/5; 8/9] END activation_function=relu, init=uniform;, score=-0.180 total time= 1.4min\n",
            "[CV 1/5; 9/9] START activation_function=relu, init=zero.........................\n"
          ]
        },
        {
          "output_type": "stream",
          "name": "stderr",
          "text": [
            "/usr/local/lib/python3.10/dist-packages/keras/optimizers/legacy/adam.py:117: UserWarning: The `lr` argument is deprecated, use `learning_rate` instead.\n",
            "  super().__init__(name, **kwargs)\n"
          ]
        },
        {
          "output_type": "stream",
          "name": "stdout",
          "text": [
            "[CV 1/5; 9/9] END activation_function=relu, init=zero;, score=-0.605 total time=  49.2s\n",
            "[CV 2/5; 9/9] START activation_function=relu, init=zero.........................\n"
          ]
        },
        {
          "output_type": "stream",
          "name": "stderr",
          "text": [
            "/usr/local/lib/python3.10/dist-packages/keras/optimizers/legacy/adam.py:117: UserWarning: The `lr` argument is deprecated, use `learning_rate` instead.\n",
            "  super().__init__(name, **kwargs)\n"
          ]
        },
        {
          "output_type": "stream",
          "name": "stdout",
          "text": [
            "[CV 2/5; 9/9] END activation_function=relu, init=zero;, score=-0.197 total time= 1.4min\n",
            "[CV 3/5; 9/9] START activation_function=relu, init=zero.........................\n"
          ]
        },
        {
          "output_type": "stream",
          "name": "stderr",
          "text": [
            "/usr/local/lib/python3.10/dist-packages/keras/optimizers/legacy/adam.py:117: UserWarning: The `lr` argument is deprecated, use `learning_rate` instead.\n",
            "  super().__init__(name, **kwargs)\n"
          ]
        },
        {
          "output_type": "stream",
          "name": "stdout",
          "text": [
            "[CV 3/5; 9/9] END activation_function=relu, init=zero;, score=-0.654 total time= 1.4min\n",
            "[CV 4/5; 9/9] START activation_function=relu, init=zero.........................\n"
          ]
        },
        {
          "output_type": "stream",
          "name": "stderr",
          "text": [
            "/usr/local/lib/python3.10/dist-packages/keras/optimizers/legacy/adam.py:117: UserWarning: The `lr` argument is deprecated, use `learning_rate` instead.\n",
            "  super().__init__(name, **kwargs)\n"
          ]
        },
        {
          "output_type": "stream",
          "name": "stdout",
          "text": [
            "[CV 4/5; 9/9] END activation_function=relu, init=zero;, score=-0.234 total time=  54.3s\n",
            "[CV 5/5; 9/9] START activation_function=relu, init=zero.........................\n"
          ]
        },
        {
          "output_type": "stream",
          "name": "stderr",
          "text": [
            "/usr/local/lib/python3.10/dist-packages/keras/optimizers/legacy/adam.py:117: UserWarning: The `lr` argument is deprecated, use `learning_rate` instead.\n",
            "  super().__init__(name, **kwargs)\n"
          ]
        },
        {
          "output_type": "stream",
          "name": "stdout",
          "text": [
            "[CV 5/5; 9/9] END activation_function=relu, init=zero;, score=-0.587 total time=  52.1s\n"
          ]
        },
        {
          "output_type": "stream",
          "name": "stderr",
          "text": [
            "/usr/local/lib/python3.10/dist-packages/keras/optimizers/legacy/adam.py:117: UserWarning: The `lr` argument is deprecated, use `learning_rate` instead.\n",
            "  super().__init__(name, **kwargs)\n"
          ]
        }
      ],
      "source": [
        "grid_result3 = grid3.fit(x_test,y_test)"
      ]
    },
    {
      "cell_type": "code",
      "execution_count": 41,
      "metadata": {
        "id": "rrmDv5CPWo3q",
        "colab": {
          "base_uri": "https://localhost:8080/"
        },
        "outputId": "371dd51e-16de-412e-a7c8-c8740e583451"
      },
      "outputs": [
        {
          "metadata": {
            "tags": null
          },
          "name": "stdout",
          "output_type": "stream",
          "text": [
            "Best -0.22948261797428132, using {'activation_function': 'softmax', 'init': 'normal'}\n",
            "-0.22948261797428132, 0.06377915788714351 with {'activation_function': 'softmax', 'init': 'normal'}\n",
            "-0.2924883246421814, 0.19373423108020596 with {'activation_function': 'softmax', 'init': 'uniform'}\n",
            "-0.4396623343229294, 0.14441383233620972 with {'activation_function': 'softmax', 'init': 'zero'}\n",
            "-0.32511434257030486, 0.1576972353475391 with {'activation_function': 'tanh', 'init': 'normal'}\n",
            "-0.24650244116783143, 0.0696360848773915 with {'activation_function': 'tanh', 'init': 'uniform'}\n",
            "-0.3763918250799179, 0.17393713998203186 with {'activation_function': 'tanh', 'init': 'zero'}\n",
            "-0.6329207420349121, 0.0659086125231171 with {'activation_function': 'relu', 'init': 'normal'}\n",
            "-0.3233202487230301, 0.19730230119510575 with {'activation_function': 'relu', 'init': 'uniform'}\n",
            "-0.4552678525447845, 0.1976281027358866 with {'activation_function': 'relu', 'init': 'zero'}\n"
          ]
        }
      ],
      "source": [
        "print('Best {}, using {}'.format(grid_result3.best_score_, grid_result3.best_params_))\n",
        "means = grid_result3.cv_results_[\"mean_test_score\"]\n",
        "stds  = grid_result3.cv_results_[\"std_test_score\"]\n",
        "params = grid_result3.cv_results_[\"params\"]\n",
        "for mean,stdev,param in zip(means, stds, params):\n",
        "    print(\"{}, {} with {}\".format(mean, stdev, param))"
      ]
    },
    {
      "cell_type": "markdown",
      "metadata": {
        "id": "Bo_5kSuUAWxK"
      },
      "source": [
        "Model Building Neural Networks"
      ]
    },
    {
      "cell_type": "markdown",
      "metadata": {
        "id": "ZZux1fBjAccl"
      },
      "source": [
        "Standardizing only predictor variable - after train test split"
      ]
    },
    {
      "cell_type": "code",
      "execution_count": 42,
      "metadata": {
        "id": "Jg59m9EJU2Nr",
        "colab": {
          "base_uri": "https://localhost:8080/",
          "height": 424
        },
        "outputId": "d921d6dd-e1fd-4f93-f39a-4d40e0f40888"
      },
      "outputs": [
        {
          "output_type": "execute_result",
          "data": {
            "text/plain": [
              "          CDP    GTEP     TIT     TAT    AFDP      CO      AT     TEY\n",
              "0      10.605  19.663  1059.2  550.00  3.5000  3.1547  6.8594  114.70\n",
              "1      10.598  19.728  1059.3  550.00  3.4998  3.2363  6.7850  114.72\n",
              "2      10.601  19.779  1059.4  549.87  3.4824  3.2012  6.8977  114.71\n",
              "3      10.606  19.792  1059.6  549.99  3.4805  3.1923  7.0569  114.72\n",
              "4      10.612  19.765  1059.7  549.98  3.4976  3.2484  7.3978  114.72\n",
              "...       ...     ...     ...     ...     ...     ...     ...     ...\n",
              "15034  10.400  19.164  1049.7  546.21  3.5421  4.5186  9.0301  111.61\n",
              "15035  10.433  19.414  1046.3  543.22  3.5059  4.8470  7.8879  111.78\n",
              "15036  10.483  19.530  1037.7  537.32  3.4770  7.9632  7.2647  110.19\n",
              "15037  10.533  19.377  1043.2  541.24  3.4486  6.2494  7.0060  110.74\n",
              "15038  10.583  19.306  1049.9  545.85  3.4275  4.9816  6.9279  111.58\n",
              "\n",
              "[15039 rows x 8 columns]"
            ],
            "text/html": [
              "\n",
              "  <div id=\"df-1cc28c81-d4bc-4f57-ba5f-43e6e013b0f4\">\n",
              "    <div class=\"colab-df-container\">\n",
              "      <div>\n",
              "<style scoped>\n",
              "    .dataframe tbody tr th:only-of-type {\n",
              "        vertical-align: middle;\n",
              "    }\n",
              "\n",
              "    .dataframe tbody tr th {\n",
              "        vertical-align: top;\n",
              "    }\n",
              "\n",
              "    .dataframe thead th {\n",
              "        text-align: right;\n",
              "    }\n",
              "</style>\n",
              "<table border=\"1\" class=\"dataframe\">\n",
              "  <thead>\n",
              "    <tr style=\"text-align: right;\">\n",
              "      <th></th>\n",
              "      <th>CDP</th>\n",
              "      <th>GTEP</th>\n",
              "      <th>TIT</th>\n",
              "      <th>TAT</th>\n",
              "      <th>AFDP</th>\n",
              "      <th>CO</th>\n",
              "      <th>AT</th>\n",
              "      <th>TEY</th>\n",
              "    </tr>\n",
              "  </thead>\n",
              "  <tbody>\n",
              "    <tr>\n",
              "      <th>0</th>\n",
              "      <td>10.605</td>\n",
              "      <td>19.663</td>\n",
              "      <td>1059.2</td>\n",
              "      <td>550.00</td>\n",
              "      <td>3.5000</td>\n",
              "      <td>3.1547</td>\n",
              "      <td>6.8594</td>\n",
              "      <td>114.70</td>\n",
              "    </tr>\n",
              "    <tr>\n",
              "      <th>1</th>\n",
              "      <td>10.598</td>\n",
              "      <td>19.728</td>\n",
              "      <td>1059.3</td>\n",
              "      <td>550.00</td>\n",
              "      <td>3.4998</td>\n",
              "      <td>3.2363</td>\n",
              "      <td>6.7850</td>\n",
              "      <td>114.72</td>\n",
              "    </tr>\n",
              "    <tr>\n",
              "      <th>2</th>\n",
              "      <td>10.601</td>\n",
              "      <td>19.779</td>\n",
              "      <td>1059.4</td>\n",
              "      <td>549.87</td>\n",
              "      <td>3.4824</td>\n",
              "      <td>3.2012</td>\n",
              "      <td>6.8977</td>\n",
              "      <td>114.71</td>\n",
              "    </tr>\n",
              "    <tr>\n",
              "      <th>3</th>\n",
              "      <td>10.606</td>\n",
              "      <td>19.792</td>\n",
              "      <td>1059.6</td>\n",
              "      <td>549.99</td>\n",
              "      <td>3.4805</td>\n",
              "      <td>3.1923</td>\n",
              "      <td>7.0569</td>\n",
              "      <td>114.72</td>\n",
              "    </tr>\n",
              "    <tr>\n",
              "      <th>4</th>\n",
              "      <td>10.612</td>\n",
              "      <td>19.765</td>\n",
              "      <td>1059.7</td>\n",
              "      <td>549.98</td>\n",
              "      <td>3.4976</td>\n",
              "      <td>3.2484</td>\n",
              "      <td>7.3978</td>\n",
              "      <td>114.72</td>\n",
              "    </tr>\n",
              "    <tr>\n",
              "      <th>...</th>\n",
              "      <td>...</td>\n",
              "      <td>...</td>\n",
              "      <td>...</td>\n",
              "      <td>...</td>\n",
              "      <td>...</td>\n",
              "      <td>...</td>\n",
              "      <td>...</td>\n",
              "      <td>...</td>\n",
              "    </tr>\n",
              "    <tr>\n",
              "      <th>15034</th>\n",
              "      <td>10.400</td>\n",
              "      <td>19.164</td>\n",
              "      <td>1049.7</td>\n",
              "      <td>546.21</td>\n",
              "      <td>3.5421</td>\n",
              "      <td>4.5186</td>\n",
              "      <td>9.0301</td>\n",
              "      <td>111.61</td>\n",
              "    </tr>\n",
              "    <tr>\n",
              "      <th>15035</th>\n",
              "      <td>10.433</td>\n",
              "      <td>19.414</td>\n",
              "      <td>1046.3</td>\n",
              "      <td>543.22</td>\n",
              "      <td>3.5059</td>\n",
              "      <td>4.8470</td>\n",
              "      <td>7.8879</td>\n",
              "      <td>111.78</td>\n",
              "    </tr>\n",
              "    <tr>\n",
              "      <th>15036</th>\n",
              "      <td>10.483</td>\n",
              "      <td>19.530</td>\n",
              "      <td>1037.7</td>\n",
              "      <td>537.32</td>\n",
              "      <td>3.4770</td>\n",
              "      <td>7.9632</td>\n",
              "      <td>7.2647</td>\n",
              "      <td>110.19</td>\n",
              "    </tr>\n",
              "    <tr>\n",
              "      <th>15037</th>\n",
              "      <td>10.533</td>\n",
              "      <td>19.377</td>\n",
              "      <td>1043.2</td>\n",
              "      <td>541.24</td>\n",
              "      <td>3.4486</td>\n",
              "      <td>6.2494</td>\n",
              "      <td>7.0060</td>\n",
              "      <td>110.74</td>\n",
              "    </tr>\n",
              "    <tr>\n",
              "      <th>15038</th>\n",
              "      <td>10.583</td>\n",
              "      <td>19.306</td>\n",
              "      <td>1049.9</td>\n",
              "      <td>545.85</td>\n",
              "      <td>3.4275</td>\n",
              "      <td>4.9816</td>\n",
              "      <td>6.9279</td>\n",
              "      <td>111.58</td>\n",
              "    </tr>\n",
              "  </tbody>\n",
              "</table>\n",
              "<p>15039 rows × 8 columns</p>\n",
              "</div>\n",
              "      <button class=\"colab-df-convert\" onclick=\"convertToInteractive('df-1cc28c81-d4bc-4f57-ba5f-43e6e013b0f4')\"\n",
              "              title=\"Convert this dataframe to an interactive table.\"\n",
              "              style=\"display:none;\">\n",
              "        \n",
              "  <svg xmlns=\"http://www.w3.org/2000/svg\" height=\"24px\"viewBox=\"0 0 24 24\"\n",
              "       width=\"24px\">\n",
              "    <path d=\"M0 0h24v24H0V0z\" fill=\"none\"/>\n",
              "    <path d=\"M18.56 5.44l.94 2.06.94-2.06 2.06-.94-2.06-.94-.94-2.06-.94 2.06-2.06.94zm-11 1L8.5 8.5l.94-2.06 2.06-.94-2.06-.94L8.5 2.5l-.94 2.06-2.06.94zm10 10l.94 2.06.94-2.06 2.06-.94-2.06-.94-.94-2.06-.94 2.06-2.06.94z\"/><path d=\"M17.41 7.96l-1.37-1.37c-.4-.4-.92-.59-1.43-.59-.52 0-1.04.2-1.43.59L10.3 9.45l-7.72 7.72c-.78.78-.78 2.05 0 2.83L4 21.41c.39.39.9.59 1.41.59.51 0 1.02-.2 1.41-.59l7.78-7.78 2.81-2.81c.8-.78.8-2.07 0-2.86zM5.41 20L4 18.59l7.72-7.72 1.47 1.35L5.41 20z\"/>\n",
              "  </svg>\n",
              "      </button>\n",
              "      \n",
              "  <style>\n",
              "    .colab-df-container {\n",
              "      display:flex;\n",
              "      flex-wrap:wrap;\n",
              "      gap: 12px;\n",
              "    }\n",
              "\n",
              "    .colab-df-convert {\n",
              "      background-color: #E8F0FE;\n",
              "      border: none;\n",
              "      border-radius: 50%;\n",
              "      cursor: pointer;\n",
              "      display: none;\n",
              "      fill: #1967D2;\n",
              "      height: 32px;\n",
              "      padding: 0 0 0 0;\n",
              "      width: 32px;\n",
              "    }\n",
              "\n",
              "    .colab-df-convert:hover {\n",
              "      background-color: #E2EBFA;\n",
              "      box-shadow: 0px 1px 2px rgba(60, 64, 67, 0.3), 0px 1px 3px 1px rgba(60, 64, 67, 0.15);\n",
              "      fill: #174EA6;\n",
              "    }\n",
              "\n",
              "    [theme=dark] .colab-df-convert {\n",
              "      background-color: #3B4455;\n",
              "      fill: #D2E3FC;\n",
              "    }\n",
              "\n",
              "    [theme=dark] .colab-df-convert:hover {\n",
              "      background-color: #434B5C;\n",
              "      box-shadow: 0px 1px 3px 1px rgba(0, 0, 0, 0.15);\n",
              "      filter: drop-shadow(0px 1px 2px rgba(0, 0, 0, 0.3));\n",
              "      fill: #FFFFFF;\n",
              "    }\n",
              "  </style>\n",
              "\n",
              "      <script>\n",
              "        const buttonEl =\n",
              "          document.querySelector('#df-1cc28c81-d4bc-4f57-ba5f-43e6e013b0f4 button.colab-df-convert');\n",
              "        buttonEl.style.display =\n",
              "          google.colab.kernel.accessAllowed ? 'block' : 'none';\n",
              "\n",
              "        async function convertToInteractive(key) {\n",
              "          const element = document.querySelector('#df-1cc28c81-d4bc-4f57-ba5f-43e6e013b0f4');\n",
              "          const dataTable =\n",
              "            await google.colab.kernel.invokeFunction('convertToInteractive',\n",
              "                                                     [key], {});\n",
              "          if (!dataTable) return;\n",
              "\n",
              "          const docLinkHtml = 'Like what you see? Visit the ' +\n",
              "            '<a target=\"_blank\" href=https://colab.research.google.com/notebooks/data_table.ipynb>data table notebook</a>'\n",
              "            + ' to learn more about interactive tables.';\n",
              "          element.innerHTML = '';\n",
              "          dataTable['output_type'] = 'display_data';\n",
              "          await google.colab.output.renderOutput(dataTable, element);\n",
              "          const docLink = document.createElement('div');\n",
              "          docLink.innerHTML = docLinkHtml;\n",
              "          element.appendChild(docLink);\n",
              "        }\n",
              "      </script>\n",
              "    </div>\n",
              "  </div>\n",
              "  "
            ]
          },
          "metadata": {},
          "execution_count": 42
        }
      ],
      "source": [
        "model_data"
      ]
    },
    {
      "cell_type": "code",
      "execution_count": 43,
      "metadata": {
        "id": "6N8guOg0Utkr",
        "colab": {
          "base_uri": "https://localhost:8080/"
        },
        "outputId": "4ed377a7-f429-4437-d791-295992924374"
      },
      "outputs": [
        {
          "output_type": "stream",
          "name": "stdout",
          "text": [
            "x_train_scaled : (12031, 7)\n",
            "x_test_scaled  : (3008, 7)\n",
            "y_train        : (12031, 1)\n",
            "y_test         : (3008, 1)\n"
          ]
        }
      ],
      "source": [
        "#Assigning predictor variables to x and response variable to y\n",
        "x = model_data.drop('TEY', axis=1)\n",
        "y = model_data[[\"TEY\"]]\n",
        "\n",
        "x_train, x_test, y_train, y_test = train_test_split(x,y, test_size = 0.20, random_state=42)\n",
        "\n",
        "scaler_train = StandardScaler()\n",
        "scaler_test = StandardScaler()\n",
        "\n",
        "x_train_scaled = scaler_train.fit_transform(x_train) # scaling train data -- predictor\n",
        "x_test_scaled  = scaler_test.fit_transform(x_test)   # scaling test data -- predictor\n",
        "\n",
        "print(\"x_train_scaled :\", x_train_scaled.shape)\n",
        "print(\"x_test_scaled  :\",x_test_scaled.shape)\n",
        "print(\"y_train        :\",y_train.shape)\n",
        "print(\"y_test         :\",y_test.shape)"
      ]
    },
    {
      "cell_type": "code",
      "execution_count": 44,
      "metadata": {
        "id": "np5uxdz2AymL",
        "colab": {
          "base_uri": "https://localhost:8080/"
        },
        "outputId": "00e7961b-5c06-4d22-fac2-c3b7a267bd13"
      },
      "outputs": [
        {
          "output_type": "stream",
          "name": "stdout",
          "text": [
            "Epoch 1/10\n",
            "169/169 [==============================] - 1s 4ms/step - loss: 17642.0645 - mae: 131.8634 - mse: 17642.0645 - val_loss: 16814.3691 - val_mae: 128.7105 - val_mse: 16814.3691\n",
            "Epoch 2/10\n",
            "169/169 [==============================] - 0s 3ms/step - loss: 16320.2979 - mae: 126.7583 - mse: 16320.2979 - val_loss: 15764.8936 - val_mae: 124.5669 - val_mse: 15764.8936\n",
            "Epoch 3/10\n",
            "169/169 [==============================] - 0s 3ms/step - loss: 15347.0742 - mae: 122.8592 - mse: 15347.0742 - val_loss: 14847.5342 - val_mae: 120.8286 - val_mse: 14847.5342\n",
            "Epoch 4/10\n",
            "169/169 [==============================] - 1s 3ms/step - loss: 14463.3174 - mae: 119.2044 - mse: 14463.3174 - val_loss: 13995.5859 - val_mae: 117.2502 - val_mse: 13995.5859\n",
            "Epoch 5/10\n",
            "169/169 [==============================] - 0s 3ms/step - loss: 13634.7529 - mae: 115.6784 - mse: 13634.7529 - val_loss: 13191.7578 - val_mae: 113.7708 - val_mse: 13191.7578\n",
            "Epoch 6/10\n",
            "169/169 [==============================] - 1s 3ms/step - loss: 12849.9424 - mae: 112.2368 - mse: 12849.9424 - val_loss: 12427.8184 - val_mae: 110.3623 - val_mse: 12427.8184\n",
            "Epoch 7/10\n",
            "169/169 [==============================] - 0s 3ms/step - loss: 12103.0059 - mae: 108.8609 - mse: 12103.0059 - val_loss: 11699.9951 - val_mae: 107.0141 - val_mse: 11699.9951\n",
            "Epoch 8/10\n",
            "169/169 [==============================] - 1s 3ms/step - loss: 11390.7549 - mae: 105.5354 - mse: 11390.7549 - val_loss: 11004.9854 - val_mae: 103.7160 - val_mse: 11004.9854\n",
            "Epoch 9/10\n",
            "169/169 [==============================] - 1s 3ms/step - loss: 10710.4951 - mae: 102.2650 - mse: 10710.4951 - val_loss: 10341.4814 - val_mae: 100.4665 - val_mse: 10341.4814\n",
            "Epoch 10/10\n",
            "169/169 [==============================] - 1s 3ms/step - loss: 10060.4990 - mae: 99.0356 - mse: 10060.4990 - val_loss: 9707.3750 - val_mae: 97.2595 - val_mse: 9707.3750\n"
          ]
        }
      ],
      "source": [
        "model = Sequential()\n",
        "model.add( Dense(units= 50, activation= 'relu', kernel_initializer= 'normal', input_dim= 7)) # input layer\n",
        "model.add( Dense(units= 20, activation= 'tanh', kernel_initializer= 'normal')) # hidden layer\n",
        "model.add( Dense(units= 1, kernel_initializer= 'normal' )) # o/p layer\n",
        "\n",
        "model.compile(optimizer= \"adam\", loss= \"mse\", metrics= [\"mae\", \"mse\"])\n",
        "history = model.fit(x_train_scaled, y_train, batch_size= 50, validation_split= 0.3, epochs=10,  verbose=1)"
      ]
    },
    {
      "cell_type": "code",
      "execution_count": 45,
      "metadata": {
        "id": "ZqfvoXt2A-o8",
        "colab": {
          "base_uri": "https://localhost:8080/"
        },
        "outputId": "11039307-257b-4828-b3a9-f020e7fb8fad"
      },
      "outputs": [
        {
          "output_type": "stream",
          "name": "stdout",
          "text": [
            "94/94 [==============================] - 0s 1ms/step\n",
            "batch_size: 10 - epochs: 10 Accuracy: TEY    98.152037\n",
            "dtype: float64\n"
          ]
        },
        {
          "output_type": "stream",
          "name": "stderr",
          "text": [
            "/usr/local/lib/python3.10/dist-packages/numpy/core/fromnumeric.py:3472: FutureWarning: In a future version, DataFrame.mean(axis=None) will return a scalar mean over the entire DataFrame. To retain the old behavior, use 'frame.mean(axis=0)' or just 'frame.mean()'\n",
            "  return mean(axis=axis, dtype=dtype, out=out, **kwargs)\n",
            "<ipython-input-45-ca71a09ba9c6>:32: FutureWarning: The frame.append method is deprecated and will be removed from pandas in a future version. Use pandas.concat instead.\n",
            "  bestParamTable=bestParamTable.append(pd.DataFrame(data=[[batch_trial, epochs_trial, 100-MAPE]], columns=['batchsize','epochs','Accuracy'] ))\n"
          ]
        },
        {
          "output_type": "stream",
          "name": "stdout",
          "text": [
            "94/94 [==============================] - 0s 1ms/step\n",
            "batch_size: 10 - epochs: 50 Accuracy: TEY    99.447897\n",
            "dtype: float64\n"
          ]
        },
        {
          "output_type": "stream",
          "name": "stderr",
          "text": [
            "/usr/local/lib/python3.10/dist-packages/numpy/core/fromnumeric.py:3472: FutureWarning: In a future version, DataFrame.mean(axis=None) will return a scalar mean over the entire DataFrame. To retain the old behavior, use 'frame.mean(axis=0)' or just 'frame.mean()'\n",
            "  return mean(axis=axis, dtype=dtype, out=out, **kwargs)\n",
            "<ipython-input-45-ca71a09ba9c6>:32: FutureWarning: The frame.append method is deprecated and will be removed from pandas in a future version. Use pandas.concat instead.\n",
            "  bestParamTable=bestParamTable.append(pd.DataFrame(data=[[batch_trial, epochs_trial, 100-MAPE]], columns=['batchsize','epochs','Accuracy'] ))\n"
          ]
        },
        {
          "output_type": "stream",
          "name": "stdout",
          "text": [
            "94/94 [==============================] - 0s 1ms/step\n",
            "batch_size: 10 - epochs: 100 Accuracy: TEY    99.66445\n",
            "dtype: float64\n"
          ]
        },
        {
          "output_type": "stream",
          "name": "stderr",
          "text": [
            "/usr/local/lib/python3.10/dist-packages/numpy/core/fromnumeric.py:3472: FutureWarning: In a future version, DataFrame.mean(axis=None) will return a scalar mean over the entire DataFrame. To retain the old behavior, use 'frame.mean(axis=0)' or just 'frame.mean()'\n",
            "  return mean(axis=axis, dtype=dtype, out=out, **kwargs)\n",
            "<ipython-input-45-ca71a09ba9c6>:32: FutureWarning: The frame.append method is deprecated and will be removed from pandas in a future version. Use pandas.concat instead.\n",
            "  bestParamTable=bestParamTable.append(pd.DataFrame(data=[[batch_trial, epochs_trial, 100-MAPE]], columns=['batchsize','epochs','Accuracy'] ))\n"
          ]
        },
        {
          "output_type": "stream",
          "name": "stdout",
          "text": [
            "94/94 [==============================] - 0s 2ms/step\n",
            "batch_size: 15 - epochs: 10 Accuracy: TEY    89.845621\n",
            "dtype: float64\n"
          ]
        },
        {
          "output_type": "stream",
          "name": "stderr",
          "text": [
            "/usr/local/lib/python3.10/dist-packages/numpy/core/fromnumeric.py:3472: FutureWarning: In a future version, DataFrame.mean(axis=None) will return a scalar mean over the entire DataFrame. To retain the old behavior, use 'frame.mean(axis=0)' or just 'frame.mean()'\n",
            "  return mean(axis=axis, dtype=dtype, out=out, **kwargs)\n",
            "<ipython-input-45-ca71a09ba9c6>:32: FutureWarning: The frame.append method is deprecated and will be removed from pandas in a future version. Use pandas.concat instead.\n",
            "  bestParamTable=bestParamTable.append(pd.DataFrame(data=[[batch_trial, epochs_trial, 100-MAPE]], columns=['batchsize','epochs','Accuracy'] ))\n"
          ]
        },
        {
          "output_type": "stream",
          "name": "stdout",
          "text": [
            "94/94 [==============================] - 0s 1ms/step\n",
            "batch_size: 15 - epochs: 50 Accuracy: TEY    99.622641\n",
            "dtype: float64\n"
          ]
        },
        {
          "output_type": "stream",
          "name": "stderr",
          "text": [
            "/usr/local/lib/python3.10/dist-packages/numpy/core/fromnumeric.py:3472: FutureWarning: In a future version, DataFrame.mean(axis=None) will return a scalar mean over the entire DataFrame. To retain the old behavior, use 'frame.mean(axis=0)' or just 'frame.mean()'\n",
            "  return mean(axis=axis, dtype=dtype, out=out, **kwargs)\n",
            "<ipython-input-45-ca71a09ba9c6>:32: FutureWarning: The frame.append method is deprecated and will be removed from pandas in a future version. Use pandas.concat instead.\n",
            "  bestParamTable=bestParamTable.append(pd.DataFrame(data=[[batch_trial, epochs_trial, 100-MAPE]], columns=['batchsize','epochs','Accuracy'] ))\n"
          ]
        },
        {
          "output_type": "stream",
          "name": "stdout",
          "text": [
            "94/94 [==============================] - 0s 1ms/step\n",
            "batch_size: 15 - epochs: 100 Accuracy: TEY    99.643432\n",
            "dtype: float64\n"
          ]
        },
        {
          "output_type": "stream",
          "name": "stderr",
          "text": [
            "/usr/local/lib/python3.10/dist-packages/numpy/core/fromnumeric.py:3472: FutureWarning: In a future version, DataFrame.mean(axis=None) will return a scalar mean over the entire DataFrame. To retain the old behavior, use 'frame.mean(axis=0)' or just 'frame.mean()'\n",
            "  return mean(axis=axis, dtype=dtype, out=out, **kwargs)\n",
            "<ipython-input-45-ca71a09ba9c6>:32: FutureWarning: The frame.append method is deprecated and will be removed from pandas in a future version. Use pandas.concat instead.\n",
            "  bestParamTable=bestParamTable.append(pd.DataFrame(data=[[batch_trial, epochs_trial, 100-MAPE]], columns=['batchsize','epochs','Accuracy'] ))\n"
          ]
        },
        {
          "output_type": "stream",
          "name": "stdout",
          "text": [
            "94/94 [==============================] - 0s 2ms/step\n",
            "batch_size: 20 - epochs: 10 Accuracy: TEY    80.911363\n",
            "dtype: float64\n"
          ]
        },
        {
          "output_type": "stream",
          "name": "stderr",
          "text": [
            "/usr/local/lib/python3.10/dist-packages/numpy/core/fromnumeric.py:3472: FutureWarning: In a future version, DataFrame.mean(axis=None) will return a scalar mean over the entire DataFrame. To retain the old behavior, use 'frame.mean(axis=0)' or just 'frame.mean()'\n",
            "  return mean(axis=axis, dtype=dtype, out=out, **kwargs)\n",
            "<ipython-input-45-ca71a09ba9c6>:32: FutureWarning: The frame.append method is deprecated and will be removed from pandas in a future version. Use pandas.concat instead.\n",
            "  bestParamTable=bestParamTable.append(pd.DataFrame(data=[[batch_trial, epochs_trial, 100-MAPE]], columns=['batchsize','epochs','Accuracy'] ))\n"
          ]
        },
        {
          "output_type": "stream",
          "name": "stdout",
          "text": [
            "94/94 [==============================] - 0s 1ms/step\n",
            "batch_size: 20 - epochs: 50 Accuracy: TEY    99.678162\n",
            "dtype: float64\n"
          ]
        },
        {
          "output_type": "stream",
          "name": "stderr",
          "text": [
            "/usr/local/lib/python3.10/dist-packages/numpy/core/fromnumeric.py:3472: FutureWarning: In a future version, DataFrame.mean(axis=None) will return a scalar mean over the entire DataFrame. To retain the old behavior, use 'frame.mean(axis=0)' or just 'frame.mean()'\n",
            "  return mean(axis=axis, dtype=dtype, out=out, **kwargs)\n",
            "<ipython-input-45-ca71a09ba9c6>:32: FutureWarning: The frame.append method is deprecated and will be removed from pandas in a future version. Use pandas.concat instead.\n",
            "  bestParamTable=bestParamTable.append(pd.DataFrame(data=[[batch_trial, epochs_trial, 100-MAPE]], columns=['batchsize','epochs','Accuracy'] ))\n"
          ]
        },
        {
          "output_type": "stream",
          "name": "stdout",
          "text": [
            "94/94 [==============================] - 0s 1ms/step\n",
            "batch_size: 20 - epochs: 100 Accuracy: TEY    99.562579\n",
            "dtype: float64\n"
          ]
        },
        {
          "output_type": "stream",
          "name": "stderr",
          "text": [
            "/usr/local/lib/python3.10/dist-packages/numpy/core/fromnumeric.py:3472: FutureWarning: In a future version, DataFrame.mean(axis=None) will return a scalar mean over the entire DataFrame. To retain the old behavior, use 'frame.mean(axis=0)' or just 'frame.mean()'\n",
            "  return mean(axis=axis, dtype=dtype, out=out, **kwargs)\n",
            "<ipython-input-45-ca71a09ba9c6>:32: FutureWarning: The frame.append method is deprecated and will be removed from pandas in a future version. Use pandas.concat instead.\n",
            "  bestParamTable=bestParamTable.append(pd.DataFrame(data=[[batch_trial, epochs_trial, 100-MAPE]], columns=['batchsize','epochs','Accuracy'] ))\n"
          ]
        }
      ],
      "source": [
        "def toFindBestParams(x_train_scaled, y_train, x_test_scaled, y_test):\n",
        "\n",
        "    # Defining list of hyperparameters\n",
        "    batch_size_list = [10 , 15 , 20 ]\n",
        "    epoch_list      = [10 , 50 , 100]\n",
        "\n",
        "    bestParamTable = pd.DataFrame()\n",
        "\n",
        "    for batch_trial in batch_size_list:\n",
        "        for epochs_trial in epoch_list:\n",
        "\n",
        "            # Create ANN model\n",
        "            model = Sequential()\n",
        "\n",
        "            # Defining the first layer of the model\n",
        "            model.add(Dense(units=50, input_dim=x_train_scaled.shape[1], kernel_initializer='normal', activation='relu'))\n",
        "\n",
        "            # Defining the Second layer of the model\n",
        "            model.add(Dense(units=20, kernel_initializer='normal', activation='tanh'))\n",
        "\n",
        "            # The output neuron is a single fully connected node Since we will be predicting a single number\n",
        "            model.add(Dense(1, kernel_initializer='normal'))\n",
        "\n",
        "            # Compiling the model\n",
        "            model.compile(optimizer ='adam', loss = 'mean_squared_error')\n",
        "\n",
        "            # Fitting the ANN to the Training set\n",
        "            model.fit(x_train_scaled, y_train , batch_size=batch_trial, epochs=epochs_trial,  verbose=0)\n",
        "\n",
        "            MAPE = np.mean(100 * (np.abs(y_test-model.predict(x_test_scaled))/y_test))\n",
        "\n",
        "            bestParamTable=bestParamTable.append(pd.DataFrame(data=[[batch_trial, epochs_trial, 100-MAPE]], columns=['batchsize','epochs','Accuracy'] ))\n",
        "\n",
        "            # Printing the results of the current iteration\n",
        "            print('batch_size:', batch_trial,'-', 'epochs:', epochs_trial, 'Accuracy:', 100-MAPE)\n",
        "\n",
        "    return bestParamTable\n",
        "\n",
        "# Calling the function\n",
        "finalParamTable = toFindBestParams(x_train_scaled, y_train, x_test_scaled, y_test)"
      ]
    },
    {
      "cell_type": "markdown",
      "metadata": {
        "id": "9H4ABGeyDWvx"
      },
      "source": [
        "Training Model - using best params"
      ]
    },
    {
      "cell_type": "code",
      "execution_count": 46,
      "metadata": {
        "id": "oOBcXrrRBRj3",
        "colab": {
          "base_uri": "https://localhost:8080/"
        },
        "outputId": "d60da94e-3580-4553-db01-7b8fc6b3abfe"
      },
      "outputs": [
        {
          "output_type": "execute_result",
          "data": {
            "text/plain": [
              "<keras.callbacks.History at 0x7fac7c71c760>"
            ]
          },
          "metadata": {},
          "execution_count": 46
        }
      ],
      "source": [
        "model.compile(optimizer ='adam', loss = 'mean_squared_error')\n",
        "model.fit(x_train_scaled,y_train, batch_size= 20, epochs= 10, verbose= 0)"
      ]
    },
    {
      "cell_type": "markdown",
      "source": [
        "Model Evaluation Train and Test Error"
      ],
      "metadata": {
        "id": "v_NdxgVrqZ29"
      }
    },
    {
      "cell_type": "markdown",
      "source": [
        "Predicting values from Model using same dataset"
      ],
      "metadata": {
        "id": "CzAITjfqqcNf"
      }
    },
    {
      "cell_type": "code",
      "source": [
        "# generating predictions for test data\n",
        "y_predict_test = model.predict(x_test_scaled)"
      ],
      "metadata": {
        "id": "kXJcsC86qgLK",
        "colab": {
          "base_uri": "https://localhost:8080/"
        },
        "outputId": "0da07b05-5728-42d2-8096-40d99b697d53"
      },
      "execution_count": 47,
      "outputs": [
        {
          "output_type": "stream",
          "name": "stdout",
          "text": [
            "94/94 [==============================] - 0s 1ms/step\n"
          ]
        }
      ]
    },
    {
      "cell_type": "code",
      "source": [
        "# creating table with test price & predicted price for test\n",
        "predictions_df = pd.DataFrame(x_test)\n",
        "predictions_df['Actual'] = y_test\n",
        "predictions_df['Predicted'] = y_predict_test\n",
        "print(predictions_df.shape)\n",
        "predictions_df.head(10)"
      ],
      "metadata": {
        "id": "iNKNNY_pqjsF",
        "colab": {
          "base_uri": "https://localhost:8080/",
          "height": 380
        },
        "outputId": "e5324818-b200-403b-a25c-01c5d0bb4d29"
      },
      "execution_count": 48,
      "outputs": [
        {
          "output_type": "stream",
          "name": "stdout",
          "text": [
            "(3008, 9)\n"
          ]
        },
        {
          "output_type": "execute_result",
          "data": {
            "text/plain": [
              "          CDP    GTEP     TIT     TAT    AFDP        CO       AT  Actual  \\\n",
              "13312  12.219  25.762  1092.5  550.25  4.0023   1.26430  24.0930  134.46   \n",
              "12627  10.791  20.085  1059.6  549.94  3.2106   2.69370  20.4500  111.88   \n",
              "6393   12.126  25.221  1089.9  549.62  4.5325   1.96250  20.2620  133.72   \n",
              "4990   12.218  25.965  1092.9  549.96  4.4266   1.57120  26.8620  133.79   \n",
              "12462  10.466  19.688  1056.9  550.01  3.1241   2.29960  19.4090  110.77   \n",
              "7405   10.624  19.387  1058.9  550.17  3.3709   4.27640   2.2158  113.32   \n",
              "10993  12.088  25.392  1089.7  550.11  3.7871   0.83578  23.8520  133.77   \n",
              "9488   11.498  23.225  1079.4  549.60  4.2837   2.01980  12.3950  128.98   \n",
              "14201  13.971  32.518  1100.1  528.98  5.1559   0.87760  12.3590  159.42   \n",
              "9757   13.862  32.105  1100.0  530.69  5.9309  10.75000   8.6376  161.86   \n",
              "\n",
              "        Predicted  \n",
              "13312  127.098785  \n",
              "12627  127.098785  \n",
              "6393   127.098785  \n",
              "4990   127.098785  \n",
              "12462  127.098785  \n",
              "7405   127.098785  \n",
              "10993  127.098785  \n",
              "9488   127.098785  \n",
              "14201  127.098785  \n",
              "9757   127.098785  "
            ],
            "text/html": [
              "\n",
              "  <div id=\"df-43584e52-153f-43af-bb51-4973c6c4fd1d\">\n",
              "    <div class=\"colab-df-container\">\n",
              "      <div>\n",
              "<style scoped>\n",
              "    .dataframe tbody tr th:only-of-type {\n",
              "        vertical-align: middle;\n",
              "    }\n",
              "\n",
              "    .dataframe tbody tr th {\n",
              "        vertical-align: top;\n",
              "    }\n",
              "\n",
              "    .dataframe thead th {\n",
              "        text-align: right;\n",
              "    }\n",
              "</style>\n",
              "<table border=\"1\" class=\"dataframe\">\n",
              "  <thead>\n",
              "    <tr style=\"text-align: right;\">\n",
              "      <th></th>\n",
              "      <th>CDP</th>\n",
              "      <th>GTEP</th>\n",
              "      <th>TIT</th>\n",
              "      <th>TAT</th>\n",
              "      <th>AFDP</th>\n",
              "      <th>CO</th>\n",
              "      <th>AT</th>\n",
              "      <th>Actual</th>\n",
              "      <th>Predicted</th>\n",
              "    </tr>\n",
              "  </thead>\n",
              "  <tbody>\n",
              "    <tr>\n",
              "      <th>13312</th>\n",
              "      <td>12.219</td>\n",
              "      <td>25.762</td>\n",
              "      <td>1092.5</td>\n",
              "      <td>550.25</td>\n",
              "      <td>4.0023</td>\n",
              "      <td>1.26430</td>\n",
              "      <td>24.0930</td>\n",
              "      <td>134.46</td>\n",
              "      <td>127.098785</td>\n",
              "    </tr>\n",
              "    <tr>\n",
              "      <th>12627</th>\n",
              "      <td>10.791</td>\n",
              "      <td>20.085</td>\n",
              "      <td>1059.6</td>\n",
              "      <td>549.94</td>\n",
              "      <td>3.2106</td>\n",
              "      <td>2.69370</td>\n",
              "      <td>20.4500</td>\n",
              "      <td>111.88</td>\n",
              "      <td>127.098785</td>\n",
              "    </tr>\n",
              "    <tr>\n",
              "      <th>6393</th>\n",
              "      <td>12.126</td>\n",
              "      <td>25.221</td>\n",
              "      <td>1089.9</td>\n",
              "      <td>549.62</td>\n",
              "      <td>4.5325</td>\n",
              "      <td>1.96250</td>\n",
              "      <td>20.2620</td>\n",
              "      <td>133.72</td>\n",
              "      <td>127.098785</td>\n",
              "    </tr>\n",
              "    <tr>\n",
              "      <th>4990</th>\n",
              "      <td>12.218</td>\n",
              "      <td>25.965</td>\n",
              "      <td>1092.9</td>\n",
              "      <td>549.96</td>\n",
              "      <td>4.4266</td>\n",
              "      <td>1.57120</td>\n",
              "      <td>26.8620</td>\n",
              "      <td>133.79</td>\n",
              "      <td>127.098785</td>\n",
              "    </tr>\n",
              "    <tr>\n",
              "      <th>12462</th>\n",
              "      <td>10.466</td>\n",
              "      <td>19.688</td>\n",
              "      <td>1056.9</td>\n",
              "      <td>550.01</td>\n",
              "      <td>3.1241</td>\n",
              "      <td>2.29960</td>\n",
              "      <td>19.4090</td>\n",
              "      <td>110.77</td>\n",
              "      <td>127.098785</td>\n",
              "    </tr>\n",
              "    <tr>\n",
              "      <th>7405</th>\n",
              "      <td>10.624</td>\n",
              "      <td>19.387</td>\n",
              "      <td>1058.9</td>\n",
              "      <td>550.17</td>\n",
              "      <td>3.3709</td>\n",
              "      <td>4.27640</td>\n",
              "      <td>2.2158</td>\n",
              "      <td>113.32</td>\n",
              "      <td>127.098785</td>\n",
              "    </tr>\n",
              "    <tr>\n",
              "      <th>10993</th>\n",
              "      <td>12.088</td>\n",
              "      <td>25.392</td>\n",
              "      <td>1089.7</td>\n",
              "      <td>550.11</td>\n",
              "      <td>3.7871</td>\n",
              "      <td>0.83578</td>\n",
              "      <td>23.8520</td>\n",
              "      <td>133.77</td>\n",
              "      <td>127.098785</td>\n",
              "    </tr>\n",
              "    <tr>\n",
              "      <th>9488</th>\n",
              "      <td>11.498</td>\n",
              "      <td>23.225</td>\n",
              "      <td>1079.4</td>\n",
              "      <td>549.60</td>\n",
              "      <td>4.2837</td>\n",
              "      <td>2.01980</td>\n",
              "      <td>12.3950</td>\n",
              "      <td>128.98</td>\n",
              "      <td>127.098785</td>\n",
              "    </tr>\n",
              "    <tr>\n",
              "      <th>14201</th>\n",
              "      <td>13.971</td>\n",
              "      <td>32.518</td>\n",
              "      <td>1100.1</td>\n",
              "      <td>528.98</td>\n",
              "      <td>5.1559</td>\n",
              "      <td>0.87760</td>\n",
              "      <td>12.3590</td>\n",
              "      <td>159.42</td>\n",
              "      <td>127.098785</td>\n",
              "    </tr>\n",
              "    <tr>\n",
              "      <th>9757</th>\n",
              "      <td>13.862</td>\n",
              "      <td>32.105</td>\n",
              "      <td>1100.0</td>\n",
              "      <td>530.69</td>\n",
              "      <td>5.9309</td>\n",
              "      <td>10.75000</td>\n",
              "      <td>8.6376</td>\n",
              "      <td>161.86</td>\n",
              "      <td>127.098785</td>\n",
              "    </tr>\n",
              "  </tbody>\n",
              "</table>\n",
              "</div>\n",
              "      <button class=\"colab-df-convert\" onclick=\"convertToInteractive('df-43584e52-153f-43af-bb51-4973c6c4fd1d')\"\n",
              "              title=\"Convert this dataframe to an interactive table.\"\n",
              "              style=\"display:none;\">\n",
              "        \n",
              "  <svg xmlns=\"http://www.w3.org/2000/svg\" height=\"24px\"viewBox=\"0 0 24 24\"\n",
              "       width=\"24px\">\n",
              "    <path d=\"M0 0h24v24H0V0z\" fill=\"none\"/>\n",
              "    <path d=\"M18.56 5.44l.94 2.06.94-2.06 2.06-.94-2.06-.94-.94-2.06-.94 2.06-2.06.94zm-11 1L8.5 8.5l.94-2.06 2.06-.94-2.06-.94L8.5 2.5l-.94 2.06-2.06.94zm10 10l.94 2.06.94-2.06 2.06-.94-2.06-.94-.94-2.06-.94 2.06-2.06.94z\"/><path d=\"M17.41 7.96l-1.37-1.37c-.4-.4-.92-.59-1.43-.59-.52 0-1.04.2-1.43.59L10.3 9.45l-7.72 7.72c-.78.78-.78 2.05 0 2.83L4 21.41c.39.39.9.59 1.41.59.51 0 1.02-.2 1.41-.59l7.78-7.78 2.81-2.81c.8-.78.8-2.07 0-2.86zM5.41 20L4 18.59l7.72-7.72 1.47 1.35L5.41 20z\"/>\n",
              "  </svg>\n",
              "      </button>\n",
              "      \n",
              "  <style>\n",
              "    .colab-df-container {\n",
              "      display:flex;\n",
              "      flex-wrap:wrap;\n",
              "      gap: 12px;\n",
              "    }\n",
              "\n",
              "    .colab-df-convert {\n",
              "      background-color: #E8F0FE;\n",
              "      border: none;\n",
              "      border-radius: 50%;\n",
              "      cursor: pointer;\n",
              "      display: none;\n",
              "      fill: #1967D2;\n",
              "      height: 32px;\n",
              "      padding: 0 0 0 0;\n",
              "      width: 32px;\n",
              "    }\n",
              "\n",
              "    .colab-df-convert:hover {\n",
              "      background-color: #E2EBFA;\n",
              "      box-shadow: 0px 1px 2px rgba(60, 64, 67, 0.3), 0px 1px 3px 1px rgba(60, 64, 67, 0.15);\n",
              "      fill: #174EA6;\n",
              "    }\n",
              "\n",
              "    [theme=dark] .colab-df-convert {\n",
              "      background-color: #3B4455;\n",
              "      fill: #D2E3FC;\n",
              "    }\n",
              "\n",
              "    [theme=dark] .colab-df-convert:hover {\n",
              "      background-color: #434B5C;\n",
              "      box-shadow: 0px 1px 3px 1px rgba(0, 0, 0, 0.15);\n",
              "      filter: drop-shadow(0px 1px 2px rgba(0, 0, 0, 0.3));\n",
              "      fill: #FFFFFF;\n",
              "    }\n",
              "  </style>\n",
              "\n",
              "      <script>\n",
              "        const buttonEl =\n",
              "          document.querySelector('#df-43584e52-153f-43af-bb51-4973c6c4fd1d button.colab-df-convert');\n",
              "        buttonEl.style.display =\n",
              "          google.colab.kernel.accessAllowed ? 'block' : 'none';\n",
              "\n",
              "        async function convertToInteractive(key) {\n",
              "          const element = document.querySelector('#df-43584e52-153f-43af-bb51-4973c6c4fd1d');\n",
              "          const dataTable =\n",
              "            await google.colab.kernel.invokeFunction('convertToInteractive',\n",
              "                                                     [key], {});\n",
              "          if (!dataTable) return;\n",
              "\n",
              "          const docLinkHtml = 'Like what you see? Visit the ' +\n",
              "            '<a target=\"_blank\" href=https://colab.research.google.com/notebooks/data_table.ipynb>data table notebook</a>'\n",
              "            + ' to learn more about interactive tables.';\n",
              "          element.innerHTML = '';\n",
              "          dataTable['output_type'] = 'display_data';\n",
              "          await google.colab.output.renderOutput(dataTable, element);\n",
              "          const docLink = document.createElement('div');\n",
              "          docLink.innerHTML = docLinkHtml;\n",
              "          element.appendChild(docLink);\n",
              "        }\n",
              "      </script>\n",
              "    </div>\n",
              "  </div>\n",
              "  "
            ]
          },
          "metadata": {},
          "execution_count": 48
        }
      ]
    },
    {
      "cell_type": "code",
      "source": [
        "predictions_df.drop(['CDP','GTEP','TIT','TAT','AFDP','CO','AT'], axis= 1 , inplace= True)"
      ],
      "metadata": {
        "id": "wOtE_CrjqnwL"
      },
      "execution_count": 49,
      "outputs": []
    },
    {
      "cell_type": "markdown",
      "source": [
        " Calculating Absolute Percent Error and Error"
      ],
      "metadata": {
        "id": "YWNZDm9Pqyet"
      }
    },
    {
      "cell_type": "code",
      "source": [
        "# Computing the absolute percent error\n",
        "APE = 100*(abs(predictions_df['Actual']-predictions_df['Predicted'])/predictions_df['Actual'])\n",
        "print('The Accuracy for Test Data -- ANN model = ', 100-np.mean(APE))"
      ],
      "metadata": {
        "id": "TjMj1xjnqzeA",
        "colab": {
          "base_uri": "https://localhost:8080/"
        },
        "outputId": "7e475862-6181-4d63-fcc8-deda6d913cc4"
      },
      "execution_count": 50,
      "outputs": [
        {
          "output_type": "stream",
          "name": "stdout",
          "text": [
            "The Accuracy for Test Data -- ANN model =  89.6931214085285\n"
          ]
        }
      ]
    },
    {
      "cell_type": "code",
      "source": [
        "# adding absolute percent error to table\n",
        "predictions_df['APE %'] = APE\n",
        "predictions_df.head()"
      ],
      "metadata": {
        "id": "I57SSukXq3OC",
        "colab": {
          "base_uri": "https://localhost:8080/",
          "height": 206
        },
        "outputId": "6a63f5b2-8a93-40f3-9045-8b5b2b94836f"
      },
      "execution_count": 51,
      "outputs": [
        {
          "data": {
            "text/html": [
              "\n",
              "  <div id=\"df-7817ad2e-b662-49f9-ac39-64db2c4b8c6e\">\n",
              "    <div class=\"colab-df-container\">\n",
              "      <div>\n",
              "<style scoped>\n",
              "    .dataframe tbody tr th:only-of-type {\n",
              "        vertical-align: middle;\n",
              "    }\n",
              "\n",
              "    .dataframe tbody tr th {\n",
              "        vertical-align: top;\n",
              "    }\n",
              "\n",
              "    .dataframe thead th {\n",
              "        text-align: right;\n",
              "    }\n",
              "</style>\n",
              "<table border=\"1\" class=\"dataframe\">\n",
              "  <thead>\n",
              "    <tr style=\"text-align: right;\">\n",
              "      <th></th>\n",
              "      <th>Actual</th>\n",
              "      <th>Predicted</th>\n",
              "      <th>APE %</th>\n",
              "    </tr>\n",
              "  </thead>\n",
              "  <tbody>\n",
              "    <tr>\n",
              "      <th>13312</th>\n",
              "      <td>134.46</td>\n",
              "      <td>127.098785</td>\n",
              "      <td>5.474650</td>\n",
              "    </tr>\n",
              "    <tr>\n",
              "      <th>12627</th>\n",
              "      <td>111.88</td>\n",
              "      <td>127.098785</td>\n",
              "      <td>13.602776</td>\n",
              "    </tr>\n",
              "    <tr>\n",
              "      <th>6393</th>\n",
              "      <td>133.72</td>\n",
              "      <td>127.098785</td>\n",
              "      <td>4.951551</td>\n",
              "    </tr>\n",
              "    <tr>\n",
              "      <th>4990</th>\n",
              "      <td>133.79</td>\n",
              "      <td>127.098785</td>\n",
              "      <td>5.001282</td>\n",
              "    </tr>\n",
              "    <tr>\n",
              "      <th>12462</th>\n",
              "      <td>110.77</td>\n",
              "      <td>127.098785</td>\n",
              "      <td>14.741162</td>\n",
              "    </tr>\n",
              "  </tbody>\n",
              "</table>\n",
              "</div>\n",
              "      <button class=\"colab-df-convert\" onclick=\"convertToInteractive('df-7817ad2e-b662-49f9-ac39-64db2c4b8c6e')\"\n",
              "              title=\"Convert this dataframe to an interactive table.\"\n",
              "              style=\"display:none;\">\n",
              "        \n",
              "  <svg xmlns=\"http://www.w3.org/2000/svg\" height=\"24px\"viewBox=\"0 0 24 24\"\n",
              "       width=\"24px\">\n",
              "    <path d=\"M0 0h24v24H0V0z\" fill=\"none\"/>\n",
              "    <path d=\"M18.56 5.44l.94 2.06.94-2.06 2.06-.94-2.06-.94-.94-2.06-.94 2.06-2.06.94zm-11 1L8.5 8.5l.94-2.06 2.06-.94-2.06-.94L8.5 2.5l-.94 2.06-2.06.94zm10 10l.94 2.06.94-2.06 2.06-.94-2.06-.94-.94-2.06-.94 2.06-2.06.94z\"/><path d=\"M17.41 7.96l-1.37-1.37c-.4-.4-.92-.59-1.43-.59-.52 0-1.04.2-1.43.59L10.3 9.45l-7.72 7.72c-.78.78-.78 2.05 0 2.83L4 21.41c.39.39.9.59 1.41.59.51 0 1.02-.2 1.41-.59l7.78-7.78 2.81-2.81c.8-.78.8-2.07 0-2.86zM5.41 20L4 18.59l7.72-7.72 1.47 1.35L5.41 20z\"/>\n",
              "  </svg>\n",
              "      </button>\n",
              "      \n",
              "  <style>\n",
              "    .colab-df-container {\n",
              "      display:flex;\n",
              "      flex-wrap:wrap;\n",
              "      gap: 12px;\n",
              "    }\n",
              "\n",
              "    .colab-df-convert {\n",
              "      background-color: #E8F0FE;\n",
              "      border: none;\n",
              "      border-radius: 50%;\n",
              "      cursor: pointer;\n",
              "      display: none;\n",
              "      fill: #1967D2;\n",
              "      height: 32px;\n",
              "      padding: 0 0 0 0;\n",
              "      width: 32px;\n",
              "    }\n",
              "\n",
              "    .colab-df-convert:hover {\n",
              "      background-color: #E2EBFA;\n",
              "      box-shadow: 0px 1px 2px rgba(60, 64, 67, 0.3), 0px 1px 3px 1px rgba(60, 64, 67, 0.15);\n",
              "      fill: #174EA6;\n",
              "    }\n",
              "\n",
              "    [theme=dark] .colab-df-convert {\n",
              "      background-color: #3B4455;\n",
              "      fill: #D2E3FC;\n",
              "    }\n",
              "\n",
              "    [theme=dark] .colab-df-convert:hover {\n",
              "      background-color: #434B5C;\n",
              "      box-shadow: 0px 1px 3px 1px rgba(0, 0, 0, 0.15);\n",
              "      filter: drop-shadow(0px 1px 2px rgba(0, 0, 0, 0.3));\n",
              "      fill: #FFFFFF;\n",
              "    }\n",
              "  </style>\n",
              "\n",
              "      <script>\n",
              "        const buttonEl =\n",
              "          document.querySelector('#df-7817ad2e-b662-49f9-ac39-64db2c4b8c6e button.colab-df-convert');\n",
              "        buttonEl.style.display =\n",
              "          google.colab.kernel.accessAllowed ? 'block' : 'none';\n",
              "\n",
              "        async function convertToInteractive(key) {\n",
              "          const element = document.querySelector('#df-7817ad2e-b662-49f9-ac39-64db2c4b8c6e');\n",
              "          const dataTable =\n",
              "            await google.colab.kernel.invokeFunction('convertToInteractive',\n",
              "                                                     [key], {});\n",
              "          if (!dataTable) return;\n",
              "\n",
              "          const docLinkHtml = 'Like what you see? Visit the ' +\n",
              "            '<a target=\"_blank\" href=https://colab.research.google.com/notebooks/data_table.ipynb>data table notebook</a>'\n",
              "            + ' to learn more about interactive tables.';\n",
              "          element.innerHTML = '';\n",
              "          dataTable['output_type'] = 'display_data';\n",
              "          await google.colab.output.renderOutput(dataTable, element);\n",
              "          const docLink = document.createElement('div');\n",
              "          docLink.innerHTML = docLinkHtml;\n",
              "          element.appendChild(docLink);\n",
              "        }\n",
              "      </script>\n",
              "    </div>\n",
              "  </div>\n",
              "  "
            ],
            "text/plain": [
              "       Actual   Predicted      APE %\n",
              "13312  134.46  127.098785   5.474650\n",
              "12627  111.88  127.098785  13.602776\n",
              "6393   133.72  127.098785   4.951551\n",
              "4990   133.79  127.098785   5.001282\n",
              "12462  110.77  127.098785  14.741162"
            ]
          },
          "execution_count": 51,
          "metadata": {},
          "output_type": "execute_result"
        }
      ]
    },
    {
      "cell_type": "code",
      "source": [
        "predictions_df['Error'] = (predictions_df['Actual'] - predictions_df['Predicted'])/(predictions_df['Actual'])\n",
        "predictions_df.reset_index(drop = True)"
      ],
      "metadata": {
        "id": "g0AHDiLnq7sm",
        "colab": {
          "base_uri": "https://localhost:8080/",
          "height": 424
        },
        "outputId": "1f18c555-12f6-4892-e2e0-255641ddc297"
      },
      "execution_count": 52,
      "outputs": [
        {
          "output_type": "execute_result",
          "data": {
            "text/plain": [
              "      Actual   Predicted      APE %     Error\n",
              "0     134.46  127.098785   5.474650  0.054747\n",
              "1     111.88  127.098785  13.602776 -0.136028\n",
              "2     133.72  127.098785   4.951551  0.049516\n",
              "3     133.79  127.098785   5.001282  0.050013\n",
              "4     110.77  127.098785  14.741162 -0.147412\n",
              "...      ...         ...        ...       ...\n",
              "3003  119.25  127.098785   6.581791 -0.065818\n",
              "3004  133.74  127.098785   4.965765  0.049658\n",
              "3005  146.31  127.098785  13.130486  0.131305\n",
              "3006  150.07  127.098785  15.307000  0.153070\n",
              "3007  111.77  127.098785  13.714579 -0.137146\n",
              "\n",
              "[3008 rows x 4 columns]"
            ],
            "text/html": [
              "\n",
              "  <div id=\"df-8a43bd51-2666-4b63-8747-a459ad8fc238\">\n",
              "    <div class=\"colab-df-container\">\n",
              "      <div>\n",
              "<style scoped>\n",
              "    .dataframe tbody tr th:only-of-type {\n",
              "        vertical-align: middle;\n",
              "    }\n",
              "\n",
              "    .dataframe tbody tr th {\n",
              "        vertical-align: top;\n",
              "    }\n",
              "\n",
              "    .dataframe thead th {\n",
              "        text-align: right;\n",
              "    }\n",
              "</style>\n",
              "<table border=\"1\" class=\"dataframe\">\n",
              "  <thead>\n",
              "    <tr style=\"text-align: right;\">\n",
              "      <th></th>\n",
              "      <th>Actual</th>\n",
              "      <th>Predicted</th>\n",
              "      <th>APE %</th>\n",
              "      <th>Error</th>\n",
              "    </tr>\n",
              "  </thead>\n",
              "  <tbody>\n",
              "    <tr>\n",
              "      <th>0</th>\n",
              "      <td>134.46</td>\n",
              "      <td>127.098785</td>\n",
              "      <td>5.474650</td>\n",
              "      <td>0.054747</td>\n",
              "    </tr>\n",
              "    <tr>\n",
              "      <th>1</th>\n",
              "      <td>111.88</td>\n",
              "      <td>127.098785</td>\n",
              "      <td>13.602776</td>\n",
              "      <td>-0.136028</td>\n",
              "    </tr>\n",
              "    <tr>\n",
              "      <th>2</th>\n",
              "      <td>133.72</td>\n",
              "      <td>127.098785</td>\n",
              "      <td>4.951551</td>\n",
              "      <td>0.049516</td>\n",
              "    </tr>\n",
              "    <tr>\n",
              "      <th>3</th>\n",
              "      <td>133.79</td>\n",
              "      <td>127.098785</td>\n",
              "      <td>5.001282</td>\n",
              "      <td>0.050013</td>\n",
              "    </tr>\n",
              "    <tr>\n",
              "      <th>4</th>\n",
              "      <td>110.77</td>\n",
              "      <td>127.098785</td>\n",
              "      <td>14.741162</td>\n",
              "      <td>-0.147412</td>\n",
              "    </tr>\n",
              "    <tr>\n",
              "      <th>...</th>\n",
              "      <td>...</td>\n",
              "      <td>...</td>\n",
              "      <td>...</td>\n",
              "      <td>...</td>\n",
              "    </tr>\n",
              "    <tr>\n",
              "      <th>3003</th>\n",
              "      <td>119.25</td>\n",
              "      <td>127.098785</td>\n",
              "      <td>6.581791</td>\n",
              "      <td>-0.065818</td>\n",
              "    </tr>\n",
              "    <tr>\n",
              "      <th>3004</th>\n",
              "      <td>133.74</td>\n",
              "      <td>127.098785</td>\n",
              "      <td>4.965765</td>\n",
              "      <td>0.049658</td>\n",
              "    </tr>\n",
              "    <tr>\n",
              "      <th>3005</th>\n",
              "      <td>146.31</td>\n",
              "      <td>127.098785</td>\n",
              "      <td>13.130486</td>\n",
              "      <td>0.131305</td>\n",
              "    </tr>\n",
              "    <tr>\n",
              "      <th>3006</th>\n",
              "      <td>150.07</td>\n",
              "      <td>127.098785</td>\n",
              "      <td>15.307000</td>\n",
              "      <td>0.153070</td>\n",
              "    </tr>\n",
              "    <tr>\n",
              "      <th>3007</th>\n",
              "      <td>111.77</td>\n",
              "      <td>127.098785</td>\n",
              "      <td>13.714579</td>\n",
              "      <td>-0.137146</td>\n",
              "    </tr>\n",
              "  </tbody>\n",
              "</table>\n",
              "<p>3008 rows × 4 columns</p>\n",
              "</div>\n",
              "      <button class=\"colab-df-convert\" onclick=\"convertToInteractive('df-8a43bd51-2666-4b63-8747-a459ad8fc238')\"\n",
              "              title=\"Convert this dataframe to an interactive table.\"\n",
              "              style=\"display:none;\">\n",
              "        \n",
              "  <svg xmlns=\"http://www.w3.org/2000/svg\" height=\"24px\"viewBox=\"0 0 24 24\"\n",
              "       width=\"24px\">\n",
              "    <path d=\"M0 0h24v24H0V0z\" fill=\"none\"/>\n",
              "    <path d=\"M18.56 5.44l.94 2.06.94-2.06 2.06-.94-2.06-.94-.94-2.06-.94 2.06-2.06.94zm-11 1L8.5 8.5l.94-2.06 2.06-.94-2.06-.94L8.5 2.5l-.94 2.06-2.06.94zm10 10l.94 2.06.94-2.06 2.06-.94-2.06-.94-.94-2.06-.94 2.06-2.06.94z\"/><path d=\"M17.41 7.96l-1.37-1.37c-.4-.4-.92-.59-1.43-.59-.52 0-1.04.2-1.43.59L10.3 9.45l-7.72 7.72c-.78.78-.78 2.05 0 2.83L4 21.41c.39.39.9.59 1.41.59.51 0 1.02-.2 1.41-.59l7.78-7.78 2.81-2.81c.8-.78.8-2.07 0-2.86zM5.41 20L4 18.59l7.72-7.72 1.47 1.35L5.41 20z\"/>\n",
              "  </svg>\n",
              "      </button>\n",
              "      \n",
              "  <style>\n",
              "    .colab-df-container {\n",
              "      display:flex;\n",
              "      flex-wrap:wrap;\n",
              "      gap: 12px;\n",
              "    }\n",
              "\n",
              "    .colab-df-convert {\n",
              "      background-color: #E8F0FE;\n",
              "      border: none;\n",
              "      border-radius: 50%;\n",
              "      cursor: pointer;\n",
              "      display: none;\n",
              "      fill: #1967D2;\n",
              "      height: 32px;\n",
              "      padding: 0 0 0 0;\n",
              "      width: 32px;\n",
              "    }\n",
              "\n",
              "    .colab-df-convert:hover {\n",
              "      background-color: #E2EBFA;\n",
              "      box-shadow: 0px 1px 2px rgba(60, 64, 67, 0.3), 0px 1px 3px 1px rgba(60, 64, 67, 0.15);\n",
              "      fill: #174EA6;\n",
              "    }\n",
              "\n",
              "    [theme=dark] .colab-df-convert {\n",
              "      background-color: #3B4455;\n",
              "      fill: #D2E3FC;\n",
              "    }\n",
              "\n",
              "    [theme=dark] .colab-df-convert:hover {\n",
              "      background-color: #434B5C;\n",
              "      box-shadow: 0px 1px 3px 1px rgba(0, 0, 0, 0.15);\n",
              "      filter: drop-shadow(0px 1px 2px rgba(0, 0, 0, 0.3));\n",
              "      fill: #FFFFFF;\n",
              "    }\n",
              "  </style>\n",
              "\n",
              "      <script>\n",
              "        const buttonEl =\n",
              "          document.querySelector('#df-8a43bd51-2666-4b63-8747-a459ad8fc238 button.colab-df-convert');\n",
              "        buttonEl.style.display =\n",
              "          google.colab.kernel.accessAllowed ? 'block' : 'none';\n",
              "\n",
              "        async function convertToInteractive(key) {\n",
              "          const element = document.querySelector('#df-8a43bd51-2666-4b63-8747-a459ad8fc238');\n",
              "          const dataTable =\n",
              "            await google.colab.kernel.invokeFunction('convertToInteractive',\n",
              "                                                     [key], {});\n",
              "          if (!dataTable) return;\n",
              "\n",
              "          const docLinkHtml = 'Like what you see? Visit the ' +\n",
              "            '<a target=\"_blank\" href=https://colab.research.google.com/notebooks/data_table.ipynb>data table notebook</a>'\n",
              "            + ' to learn more about interactive tables.';\n",
              "          element.innerHTML = '';\n",
              "          dataTable['output_type'] = 'display_data';\n",
              "          await google.colab.output.renderOutput(dataTable, element);\n",
              "          const docLink = document.createElement('div');\n",
              "          docLink.innerHTML = docLinkHtml;\n",
              "          element.appendChild(docLink);\n",
              "        }\n",
              "      </script>\n",
              "    </div>\n",
              "  </div>\n",
              "  "
            ]
          },
          "metadata": {},
          "execution_count": 52
        }
      ]
    },
    {
      "cell_type": "markdown",
      "source": [
        "Visualizing the Relationship between the Actual and Predicted ValuesModel Validation"
      ],
      "metadata": {
        "id": "T_VotUwlrWbX"
      }
    },
    {
      "cell_type": "code",
      "source": [
        "plt.figure(figsize=(9,6))\n",
        "plt.xlabel(\"Actual Values\")\n",
        "plt.ylabel(\"Predicted values\")\n",
        "plt.title(\"The Scatterplot of Relationship between Actual Values and Predictions\")\n",
        "plt.scatter(predictions_df['Actual'], predictions_df['Predicted'])"
      ],
      "metadata": {
        "id": "6TvKn0xcrYBL",
        "colab": {
          "base_uri": "https://localhost:8080/",
          "height": 596
        },
        "outputId": "f5b32696-4387-41db-dcd7-47f0c35a8411"
      },
      "execution_count": 53,
      "outputs": [
        {
          "output_type": "execute_result",
          "data": {
            "text/plain": [
              "<matplotlib.collections.PathCollection at 0x7fac840ab850>"
            ]
          },
          "metadata": {},
          "execution_count": 53
        },
        {
          "output_type": "display_data",
          "data": {
            "text/plain": [
              "<Figure size 900x600 with 1 Axes>"
            ],
            "image/png": "[encoded data removed]"
          },
          "metadata": {}
        }
      ]
    },
    {
      "cell_type": "markdown",
      "source": [
        "We will evaluate our model performance by calculating the residual sum of squares and the explained variance score"
      ],
      "metadata": {
        "id": "_rnzYN1jrs04"
      }
    },
    {
      "cell_type": "code",
      "source": [
        "from sklearn import metrics\n",
        "print(\"MAE  :\",metrics.mean_absolute_error(y_test,y_predict_test))\n",
        "print(\"MSE  :\",metrics.mean_squared_error(y_test,y_predict_test))\n",
        "print(\"RMSE :\",np.sqrt(metrics.mean_squared_error(y_test,y_predict_test)))"
      ],
      "metadata": {
        "id": "BduaxbRFrtio",
        "colab": {
          "base_uri": "https://localhost:8080/"
        },
        "outputId": "bed1705e-ccea-4e78-f3e1-8d8bb2badde9"
      },
      "execution_count": 54,
      "outputs": [
        {
          "output_type": "stream",
          "name": "stdout",
          "text": [
            "MAE  : 14.100513399205308\n",
            "MSE  : 297.3833952135098\n",
            "RMSE : 17.244807775487374\n"
          ]
        }
      ]
    },
    {
      "cell_type": "code",
      "source": [
        "from sklearn.metrics import mean_squared_error, mean_absolute_error, r2_score\n",
        "y_predict_test = model.predict(x_test_scaled)\n",
        "y_predict_train = model.predict(x_train_scaled)\n",
        "print('R2_score (train) : ',r2_score(y_train, y_predict_train))\n",
        "print('R2_score (test)  : ',r2_score(y_test, y_predict_test))"
      ],
      "metadata": {
        "id": "dy_ENiOnrxOa",
        "colab": {
          "base_uri": "https://localhost:8080/"
        },
        "outputId": "b4e09ed6-6816-42ee-bd31-c1c5f1915a08"
      },
      "execution_count": 55,
      "outputs": [
        {
          "output_type": "stream",
          "name": "stdout",
          "text": [
            "94/94 [==============================] - 0s 1ms/step\n",
            "376/376 [==============================] - 1s 1ms/step\n",
            "R2_score (train) :  -0.20391210393946935\n",
            "R2_score (test)  :  -0.18768261207950188\n"
          ]
        }
      ]
    },
    {
      "cell_type": "markdown",
      "source": [
        "Evaluation of the explained variance score (R^2)"
      ],
      "metadata": {
        "id": "uj3ei1SUr6Rp"
      }
    },
    {
      "cell_type": "code",
      "source": [
        "print('This shows our model predict % {} of the target correctly'.format(np.round(metrics.explained_variance_score(y_test,y_predict_test)*100,2)))"
      ],
      "metadata": {
        "id": "LUmhC5fmr6_f",
        "colab": {
          "base_uri": "https://localhost:8080/"
        },
        "outputId": "06e35fda-ab3a-4fdf-b5cb-491d059a62ca"
      },
      "execution_count": 56,
      "outputs": [
        {
          "output_type": "stream",
          "name": "stdout",
          "text": [
            "This shows our model predict % -0.0 of the target correctly\n"
          ]
        }
      ]
    },
    {
      "cell_type": "markdown",
      "source": [
        " Residual Analysis"
      ],
      "metadata": {
        "id": "RzoPkRRssKyd"
      }
    },
    {
      "cell_type": "markdown",
      "source": [
        "Test for Normality of Residuals (Q-Q Plot)"
      ],
      "metadata": {
        "id": "BIgWWnSXsQWZ"
      }
    },
    {
      "cell_type": "code",
      "source": [
        "# Now we will visualize the differences between our predictions and actual y test data\n",
        "plt.figure(figsize=(9,6))\n",
        "sns.distplot(y_test-y_predict_test,bins=50) # this figure also proves that our model fits very good"
      ],
      "metadata": {
        "id": "8vGqJEg7sREz",
        "colab": {
          "base_uri": "https://localhost:8080/",
          "height": 730
        },
        "outputId": "5f2859e1-2eac-41ee-dc89-d1330046fa50"
      },
      "execution_count": 57,
      "outputs": [
        {
          "output_type": "stream",
          "name": "stderr",
          "text": [
            "<ipython-input-57-76ec21800caf>:3: UserWarning: \n",
            "\n",
            "`distplot` is a deprecated function and will be removed in seaborn v0.14.0.\n",
            "\n",
            "Please adapt your code to use either `displot` (a figure-level function with\n",
            "similar flexibility) or `histplot` (an axes-level function for histograms).\n",
            "\n",
            "For a guide to updating your code to use the new functions, please see\n",
            "https://gist.github.com/mwaskom/de44147ed2974457ad6372750bbe5751\n",
            "\n",
            "  sns.distplot(y_test-y_predict_test,bins=50) # this figure also proves that our model fits very good\n"
          ]
        },
        {
          "output_type": "execute_result",
          "data": {
            "text/plain": [
              "<Axes: ylabel='Density'>"
            ]
          },
          "metadata": {},
          "execution_count": 57
        },
        {
          "output_type": "display_data",
          "data": {
            "text/plain": [
              "<Figure size 900x600 with 1 Axes>"
            ],
            "image/png": "[encoded data removed]"
          },
          "metadata": {}
        }
      ]
    },
    {
      "cell_type": "code",
      "source": [
        "import statsmodels.api as smf\n",
        "plt.rcParams[\"figure.figsize\"] = (9,6)\n",
        "smf.qqplot(predictions_df['Error'], line= 'q')\n",
        "plt.title('Normal Q-Q plot of residuals')\n",
        "plt.show()"
      ],
      "metadata": {
        "id": "9YszZM6BsGLo",
        "colab": {
          "base_uri": "https://localhost:8080/",
          "height": 564
        },
        "outputId": "5c1bc4b6-4397-431d-ef1f-fc0955100dc8"
      },
      "execution_count": 58,
      "outputs": [
        {
          "output_type": "display_data",
          "data": {
            "text/plain": [
              "<Figure size 900x600 with 1 Axes>"
            ],
            "image/png": "[encoded data removed]"
          },
          "metadata": {}
        }
      ]
    },
    {
      "cell_type": "code",
      "execution_count": 58,
      "metadata": {
        "id": "CzRGh82ETfxP"
      },
      "outputs": [],
      "source": []
    }
  ],
  "metadata": {
    "colab": {
      "provenance": [],
      "include_colab_link": true
    },
    "kernelspec": {
      "display_name": "Python 3",
      "name": "python3"
    },
    "language_info": {
      "name": "python"
    }
  },
  "nbformat": 4,
  "nbformat_minor": 0
}